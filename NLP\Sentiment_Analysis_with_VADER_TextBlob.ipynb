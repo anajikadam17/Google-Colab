{
  "nbformat": 4,
  "nbformat_minor": 0,
  "metadata": {
    "colab": {
      "name": " Sentiment Analysis with VADER_TextBlob.ipynb",
      "provenance": [],
      "collapsed_sections": [],
      "mount_file_id": "1xFHZzfilxagePPAb7nfEeZRd9Xw1dYui",
      "authorship_tag": "ABX9TyOhZZW8AWzykHRfI1ag4IKK",
      "include_colab_link": true
    },
    "kernelspec": {
      "name": "python3",
      "display_name": "Python 3"
    },
    "language_info": {
      "name": "python"
    }
  },
  "cells": [
    {
      "cell_type": "markdown",
      "metadata": {
        "id": "view-in-github",
        "colab_type": "text"
      },
      "source": [
        "<a href=\"https://colab.research.google.com/github/anajikadam17/Google-Colab/blob/main/NLP%5CSentiment_Analysis_with_VADER_TextBlob.ipynb\" target=\"_parent\"><img src=\"https://colab.research.google.com/assets/colab-badge.svg\" alt=\"Open In Colab\"/></a>"
      ]
    },
    {
      "cell_type": "markdown",
      "metadata": {
        "id": "4AFa9s_UIbIV"
      },
      "source": [
        "\n",
        "# Sentiment Analysis with VADER"
      ]
    },
    {
      "cell_type": "markdown",
      "metadata": {
        "id": "1JjqrIyWJ61V"
      },
      "source": [
        "Sentiment analysis refers to the use of natural language processing, text analysis, computational linguistics, and many more to identify and quantify the sentiment of some kind of text or audio.\n",
        "\n",
        "There are two major techniques for sentiment analysis :-\n",
        "\n",
        "• Supervised machine learning\n",
        "\n",
        "• Unsupervised lexicon-based\n",
        "\n",
        "Often, you may not have the convenience of a well-labeled training dataset. In those situations, you need to use unsupervised techniques for predicting the sentiment by using knowledgebases, ontologies, databases, and lexicons that have detailed information specially curated and prepared just for sentiment analysis.\n",
        "\n",
        "Here we use unsupervised lexicon based approach based on Vader lexicon for sentiment analysis."
      ]
    },
    {
      "cell_type": "markdown",
      "metadata": {
        "id": "-IzEpcljLANX"
      },
      "source": [
        "VADER Sentiment Analysis. VADER (Valence Aware Dictionary and sEntiment Reasoner) is a lexicon and rule-based sentiment analysis tool that is specifically attuned to sentiments expressed in social media, and works well on texts from other domains."
      ]
    },
    {
      "cell_type": "markdown",
      "metadata": {
        "id": "dkNZxCU3LL_m"
      },
      "source": [
        "## VADER\n",
        "VADER ( Valence Aware Dictionary for Sentiment Reasoning) is a model used for text sentiment analysis that is sensitive to both polarity (positive/negative) and intensity (strength) of emotion. It is available in the NLTK package and can be applied directly to unlabeled text data.\n",
        "\n",
        "VADER sentimental analysis relies on a dictionary that maps lexical features to emotion intensities known as sentiment scores. The sentiment score of a text can be obtained by summing up the intensity of each word in the text.\n",
        "For example- Words like ‘love’, ‘enjoy’, ‘happy’, ‘like’ all convey a positive sentiment. Also VADER is intelligent enough to understand the basic context of these words, such as “did not love” as a negative statement. It also understands the emphasis of capitalization and punctuation, such as “ENJOY”"
      ]
    },
    {
      "cell_type": "code",
      "metadata": {
        "colab": {
          "base_uri": "https://localhost:8080/"
        },
        "id": "OqGgmyk8IX-c",
        "outputId": "6c151692-de04-45c0-a8ab-b71d9f5dadac"
      },
      "source": [
        "# install vader if not already available\n",
        "!pip install vaderSentiment"
      ],
      "execution_count": 9,
      "outputs": [
        {
          "output_type": "stream",
          "text": [
            "Collecting vaderSentiment\n",
            "  Downloading vaderSentiment-3.3.2-py2.py3-none-any.whl (125 kB)\n",
            "\u001b[?25l\r\u001b[K     |██▋                             | 10 kB 21.9 MB/s eta 0:00:01\r\u001b[K     |█████▏                          | 20 kB 29.1 MB/s eta 0:00:01\r\u001b[K     |███████▉                        | 30 kB 32.5 MB/s eta 0:00:01\r\u001b[K     |██████████▍                     | 40 kB 34.1 MB/s eta 0:00:01\r\u001b[K     |█████████████                   | 51 kB 19.6 MB/s eta 0:00:01\r\u001b[K     |███████████████▋                | 61 kB 18.6 MB/s eta 0:00:01\r\u001b[K     |██████████████████▏             | 71 kB 13.1 MB/s eta 0:00:01\r\u001b[K     |████████████████████▉           | 81 kB 14.5 MB/s eta 0:00:01\r\u001b[K     |███████████████████████▍        | 92 kB 14.2 MB/s eta 0:00:01\r\u001b[K     |██████████████████████████      | 102 kB 15.4 MB/s eta 0:00:01\r\u001b[K     |████████████████████████████▋   | 112 kB 15.4 MB/s eta 0:00:01\r\u001b[K     |███████████████████████████████▏| 122 kB 15.4 MB/s eta 0:00:01\r\u001b[K     |████████████████████████████████| 125 kB 15.4 MB/s \n",
            "\u001b[?25hRequirement already satisfied: requests in /usr/local/lib/python3.7/dist-packages (from vaderSentiment) (2.23.0)\n",
            "Requirement already satisfied: urllib3!=1.25.0,!=1.25.1,<1.26,>=1.21.1 in /usr/local/lib/python3.7/dist-packages (from requests->vaderSentiment) (1.24.3)\n",
            "Requirement already satisfied: chardet<4,>=3.0.2 in /usr/local/lib/python3.7/dist-packages (from requests->vaderSentiment) (3.0.4)\n",
            "Requirement already satisfied: certifi>=2017.4.17 in /usr/local/lib/python3.7/dist-packages (from requests->vaderSentiment) (2021.5.30)\n",
            "Requirement already satisfied: idna<3,>=2.5 in /usr/local/lib/python3.7/dist-packages (from requests->vaderSentiment) (2.10)\n",
            "Installing collected packages: vaderSentiment\n",
            "Successfully installed vaderSentiment-3.3.2\n"
          ],
          "name": "stdout"
        }
      ]
    },
    {
      "cell_type": "code",
      "metadata": {
        "id": "hqRgqof_Lpwo"
      },
      "source": [
        "from vaderSentiment.vaderSentiment import SentimentIntensityAnalyzer\n",
        "analyser = SentimentIntensityAnalyzer()"
      ],
      "execution_count": null,
      "outputs": []
    },
    {
      "cell_type": "code",
      "metadata": {
        "id": "s7hmMhl_LuU6"
      },
      "source": [
        "def sentiment_analyzer_scores1(sentence):\n",
        "    score = analyser.polarity_scores(sentence)\n",
        "    print(\"{:-<40} {}\".format(sentence, str(score)))"
      ],
      "execution_count": null,
      "outputs": []
    },
    {
      "cell_type": "code",
      "metadata": {
        "colab": {
          "base_uri": "https://localhost:8080/"
        },
        "id": "2Pg9qXVOMI5H",
        "outputId": "f7ef4b68-691f-4911-9371-b37ad3434065"
      },
      "source": [
        "sentiment_analyzer_scores1(\"The phone is super cool.\")"
      ],
      "execution_count": null,
      "outputs": [
        {
          "output_type": "stream",
          "text": [
            "The phone is super cool.---------------- {'neg': 0.0, 'neu': 0.326, 'pos': 0.674, 'compound': 0.7351}\n"
          ],
          "name": "stdout"
        }
      ]
    },
    {
      "cell_type": "markdown",
      "metadata": {
        "id": "vtrp8hNULYRf"
      },
      "source": [
        "We will be going to work on complete sentences, and for this we’re going to import a trained NLTK lexicon called VADER."
      ]
    },
    {
      "cell_type": "code",
      "metadata": {
        "colab": {
          "base_uri": "https://localhost:8080/"
        },
        "id": "qXPtNgamLZhN",
        "outputId": "0075703d-8b31-401c-fb82-401921191035"
      },
      "source": [
        "import nltk\n",
        "nltk.download('vader_lexicon')\n",
        "from nltk.sentiment.vader import SentimentIntensityAnalyzer\n",
        "\n",
        "sid = SentimentIntensityAnalyzer()"
      ],
      "execution_count": null,
      "outputs": [
        {
          "output_type": "stream",
          "text": [
            "[nltk_data] Downloading package vader_lexicon to /root/nltk_data...\n"
          ],
          "name": "stdout"
        },
        {
          "output_type": "stream",
          "text": [
            "/usr/local/lib/python3.7/dist-packages/nltk/twitter/__init__.py:20: UserWarning: The twython library has not been installed. Some functionality from the twitter package will not be available.\n",
            "  warnings.warn(\"The twython library has not been installed. \"\n"
          ],
          "name": "stderr"
        }
      ]
    },
    {
      "cell_type": "markdown",
      "metadata": {
        "id": "WGkiu8BIL5_H"
      },
      "source": [
        "VADER’s SentimentIntensityAnalyzer() takes in a string and returns a dictionary of scores in each of four categories:\n",
        "- negative\n",
        "- neutral\n",
        "- positive\n",
        "- compound (computed by normalizing the scores above)"
      ]
    },
    {
      "cell_type": "code",
      "metadata": {
        "id": "Oma44aK0MMZf"
      },
      "source": [
        "def sentiment_analyzer_scores(sentence):\n",
        "    score = sid.polarity_scores(sentence)\n",
        "    print(\"{:-<40} {}\".format(sentence, str(score)))"
      ],
      "execution_count": null,
      "outputs": []
    },
    {
      "cell_type": "code",
      "metadata": {
        "colab": {
          "base_uri": "https://localhost:8080/"
        },
        "id": "T3F0aQXFMSiN",
        "outputId": "65f22200-5f82-4eb6-b269-14ebecfc6fb1"
      },
      "source": [
        "sentiment_analyzer_scores(\"The phone is super cool.\")"
      ],
      "execution_count": null,
      "outputs": [
        {
          "output_type": "stream",
          "text": [
            "The phone is super cool.---------------- {'neg': 0.0, 'neu': 0.326, 'pos': 0.674, 'compound': 0.7351}\n"
          ],
          "name": "stdout"
        }
      ]
    },
    {
      "cell_type": "markdown",
      "metadata": {
        "id": "u2OXntwsMYl-"
      },
      "source": [
        "## Punctuation\n",
        "The use of an exclamation mark(!), increases the magnitude of the intensity without modifying the semantic orientation. For example, “The food here is good!” is more intense than “The food here is good.” and an increase in the number of (!), increases the magnitude accordingly."
      ]
    },
    {
      "cell_type": "code",
      "metadata": {
        "colab": {
          "base_uri": "https://localhost:8080/"
        },
        "id": "Pluek9pmL5nK",
        "outputId": "ddfcd550-c6e5-4f85-be51-aed171690aad"
      },
      "source": [
        "sentiment_analyzer_scores(\"The phone is super cool!\")\n",
        "sentiment_analyzer_scores(\"The phone is super cool!!\")\n",
        "sentiment_analyzer_scores(\"The phone is super cool!!!\")"
      ],
      "execution_count": null,
      "outputs": [
        {
          "output_type": "stream",
          "text": [
            "The phone is super cool!---------------- {'neg': 0.0, 'neu': 0.316, 'pos': 0.684, 'compound': 0.7574}\n",
            "The phone is super cool!!--------------- {'neg': 0.0, 'neu': 0.307, 'pos': 0.693, 'compound': 0.7772}\n",
            "The phone is super cool!!!-------------- {'neg': 0.0, 'neu': 0.298, 'pos': 0.702, 'compound': 0.795}\n"
          ],
          "name": "stdout"
        }
      ]
    },
    {
      "cell_type": "markdown",
      "metadata": {
        "id": "C1QOSyDqNjJf"
      },
      "source": [
        "## Capitalization\n",
        "Using upper case letters to emphasize a sentiment-relevant word in the presence of other non-capitalized words, increases the magnitude of the sentiment intensity. For example, “The food here is GREAT!” conveys more intensity than “The food here is great!”"
      ]
    },
    {
      "cell_type": "code",
      "metadata": {
        "colab": {
          "base_uri": "https://localhost:8080/"
        },
        "id": "nIi0pDsbNfNV",
        "outputId": "679469bd-69be-44c7-de2a-a4d5a71e3c1e"
      },
      "source": [
        "\n",
        "sentiment_analyzer_scores(\"The phone is super cool!\")\n",
        "sentiment_analyzer_scores(\"The phone is super COOL!\")"
      ],
      "execution_count": null,
      "outputs": [
        {
          "output_type": "stream",
          "text": [
            "The phone is super cool!---------------- {'neg': 0.0, 'neu': 0.316, 'pos': 0.684, 'compound': 0.7574}\n",
            "The phone is super COOL!---------------- {'neg': 0.0, 'neu': 0.293, 'pos': 0.707, 'compound': 0.8034}\n"
          ],
          "name": "stdout"
        }
      ]
    },
    {
      "cell_type": "markdown",
      "metadata": {
        "id": "zG-ULVXcNzMB"
      },
      "source": [
        "## Degree Modifiers\n",
        "Also called intensifiers, they impact the sentiment intensity by either increasing or decreasing the intensity. For example, “The service here is extremely good” is more intense than “The service here is good”, whereas “The service here is marginally good” reduces the intensity."
      ]
    },
    {
      "cell_type": "code",
      "metadata": {
        "colab": {
          "base_uri": "https://localhost:8080/"
        },
        "id": "EDEFoxDeNfDK",
        "outputId": "ab7f25b8-1bba-49dd-c904-628bfed98f2b"
      },
      "source": [
        "sentiment_analyzer_scores(\"Food here is good.\")\n",
        "sentiment_analyzer_scores(\"Food here is very good.\")\n",
        "sentiment_analyzer_scores(\"Food here is moderately good.\")\n",
        "sentiment_analyzer_scores(\"Food here is extremely good.\")"
      ],
      "execution_count": null,
      "outputs": [
        {
          "output_type": "stream",
          "text": [
            "Food here is good.---------------------- {'neg': 0.0, 'neu': 0.508, 'pos': 0.492, 'compound': 0.4404}\n",
            "Food here is very good.----------------- {'neg': 0.0, 'neu': 0.556, 'pos': 0.444, 'compound': 0.4927}\n",
            "Food here is moderately good.----------- {'neg': 0.0, 'neu': 0.58, 'pos': 0.42, 'compound': 0.4404}\n",
            "Food here is extremely good.------------ {'neg': 0.0, 'neu': 0.556, 'pos': 0.444, 'compound': 0.4927}\n"
          ],
          "name": "stdout"
        }
      ]
    },
    {
      "cell_type": "markdown",
      "metadata": {
        "id": "8zXdDlwbOHf9"
      },
      "source": [
        "## Conjunctions\n",
        "Use of conjunctions like “but” signals a shift in sentiment polarity, with the sentiment of the text following the conjunction being dominant. “The food here is great, but the service is horrible” has mixed sentiment, with the latter half dictating the overall rating."
      ]
    },
    {
      "cell_type": "code",
      "metadata": {
        "colab": {
          "base_uri": "https://localhost:8080/"
        },
        "id": "ePx_k21cNe4s",
        "outputId": "4b8cfc70-ad98-4014-815b-629dd8e8c0bb"
      },
      "source": [
        "sentiment_analyzer_scores(\"Food here is extremely good but service is horrible.\")"
      ],
      "execution_count": null,
      "outputs": [
        {
          "output_type": "stream",
          "text": [
            "Food here is extremely good but service is horrible. {'neg': 0.343, 'neu': 0.506, 'pos': 0.151, 'compound': -0.5652}\n"
          ],
          "name": "stdout"
        }
      ]
    },
    {
      "cell_type": "markdown",
      "metadata": {
        "id": "hSyVLpGZORpd"
      },
      "source": [
        "## Preceding Tri-gram\n",
        "By examining the tri-gram preceding a sentiment-laden lexical feature, we catch nearly 90% of cases where negation flips the polarity of the text. A negated sentence would be “The food here isn’t really all that great”."
      ]
    },
    {
      "cell_type": "code",
      "metadata": {
        "colab": {
          "base_uri": "https://localhost:8080/"
        },
        "id": "e0BFMgt9Newz",
        "outputId": "69539c0f-69d7-46b7-e231-a55e4ab49204"
      },
      "source": [
        "sentiment_analyzer_scores(\"The food here isn’t really all that great\")\n",
        "sentiment_analyzer_scores(\"The food here isn’t that great\")\n",
        "\n",
        "sentiment_analyzer_scores(\"The food here is not really all that great\")\n",
        "sentiment_analyzer_scores(\"The food here is not that great\")"
      ],
      "execution_count": null,
      "outputs": [
        {
          "output_type": "stream",
          "text": [
            "The food here isn’t really all that great {'neg': 0.0, 'neu': 0.616, 'pos': 0.384, 'compound': 0.6557}\n",
            "The food here isn’t that great---------- {'neg': 0.0, 'neu': 0.549, 'pos': 0.451, 'compound': 0.6249}\n",
            "The food here is not really all that great {'neg': 0.0, 'neu': 0.647, 'pos': 0.353, 'compound': 0.6557}\n",
            "The food here is not that great--------- {'neg': 0.354, 'neu': 0.646, 'pos': 0.0, 'compound': -0.5096}\n"
          ],
          "name": "stdout"
        }
      ]
    },
    {
      "cell_type": "markdown",
      "metadata": {
        "id": "FOXMVKPCOwdF"
      },
      "source": [
        "## Handling Emojis, Slangs and Emoticons\n",
        "VADER performs very well with emojis, slangs and acronyms in sentences.\n",
        "\n",
        "Let us see each with an example."
      ]
    },
    {
      "cell_type": "code",
      "metadata": {
        "colab": {
          "base_uri": "https://localhost:8080/"
        },
        "id": "AUUFU4QIOuUI",
        "outputId": "88c7771b-773b-4a3c-b52b-b4e22ac9684e"
      },
      "source": [
        "print(sentiment_analyzer_scores('I am 😄 today'))\n",
        "print(sentiment_analyzer_scores('😊'))\n",
        "print(sentiment_analyzer_scores('😥'))\n",
        "print(sentiment_analyzer_scores('☹️'))"
      ],
      "execution_count": null,
      "outputs": [
        {
          "output_type": "stream",
          "text": [
            "I am 😄 today---------------------------- {'neg': 0.0, 'neu': 1.0, 'pos': 0.0, 'compound': 0.0}\n",
            "None\n",
            "😊--------------------------------------- {'neg': 0.0, 'neu': 0.0, 'pos': 0.0, 'compound': 0.0}\n",
            "None\n",
            "😥--------------------------------------- {'neg': 0.0, 'neu': 0.0, 'pos': 0.0, 'compound': 0.0}\n",
            "None\n",
            "☹️-------------------------------------- {'neg': 0.0, 'neu': 1.0, 'pos': 0.0, 'compound': 0.0}\n",
            "None\n"
          ],
          "name": "stdout"
        }
      ]
    },
    {
      "cell_type": "markdown",
      "metadata": {
        "id": "xpCixN7XP-Tw"
      },
      "source": [
        "### Emojis can not handle by nltk vedar but it done by vaderSentiment"
      ]
    },
    {
      "cell_type": "code",
      "metadata": {
        "colab": {
          "base_uri": "https://localhost:8080/"
        },
        "id": "hy-HXmntOtxc",
        "outputId": "b8265732-19f5-46af-8776-81127123ffbe"
      },
      "source": [
        "print(sentiment_analyzer_scores1('I am 😄 today'))\n",
        "print(sentiment_analyzer_scores1('😊'))\n",
        "print(sentiment_analyzer_scores1('😥'))\n",
        "print(sentiment_analyzer_scores1('☹️'))"
      ],
      "execution_count": null,
      "outputs": [
        {
          "output_type": "stream",
          "text": [
            "I am 😄 today---------------------------- {'neg': 0.0, 'neu': 0.522, 'pos': 0.478, 'compound': 0.6705}\n",
            "None\n",
            "😊--------------------------------------- {'neg': 0.0, 'neu': 0.333, 'pos': 0.667, 'compound': 0.7184}\n",
            "None\n",
            "😥--------------------------------------- {'neg': 0.275, 'neu': 0.268, 'pos': 0.456, 'compound': 0.3291}\n",
            "None\n",
            "☹️-------------------------------------- {'neg': 0.706, 'neu': 0.294, 'pos': 0.0, 'compound': -0.34}\n",
            "None\n"
          ],
          "name": "stdout"
        }
      ]
    },
    {
      "cell_type": "code",
      "metadata": {
        "colab": {
          "base_uri": "https://localhost:8080/"
        },
        "id": "jo1sZGYSOtoa",
        "outputId": "0868b563-c48a-4ca7-dd8b-54e311fbbb6c"
      },
      "source": [
        "# Slangs\n",
        "print(sentiment_analyzer_scores(\"Today SUX!\"))\n",
        "print(sentiment_analyzer_scores(\"Today only kinda sux! But I'll get by, lol\"))"
      ],
      "execution_count": null,
      "outputs": [
        {
          "output_type": "stream",
          "text": [
            "Today SUX!------------------------------ {'neg': 0.779, 'neu': 0.221, 'pos': 0.0, 'compound': -0.5461}\n",
            "None\n",
            "Today only kinda sux! But I'll get by, lol {'neg': 0.179, 'neu': 0.569, 'pos': 0.251, 'compound': 0.2228}\n",
            "None\n"
          ],
          "name": "stdout"
        }
      ]
    },
    {
      "cell_type": "code",
      "metadata": {
        "colab": {
          "base_uri": "https://localhost:8080/"
        },
        "id": "plE2WNQ0Otgj",
        "outputId": "1b427b76-87a1-4ef8-a65a-67ab8655217a"
      },
      "source": [
        "# Emoticons\n",
        "print(sentiment_analyzer_scores(\"Make sure you :) or :D today!\"))"
      ],
      "execution_count": null,
      "outputs": [
        {
          "output_type": "stream",
          "text": [
            "Make sure you :) or :D today!----------- {'neg': 0.0, 'neu': 0.294, 'pos': 0.706, 'compound': 0.8633}\n",
            "None\n"
          ],
          "name": "stdout"
        }
      ]
    },
    {
      "cell_type": "markdown",
      "metadata": {
        "id": "uZecRSyFPr47"
      },
      "source": [
        "## Processing Multiple Sentences"
      ]
    },
    {
      "cell_type": "code",
      "metadata": {
        "colab": {
          "base_uri": "https://localhost:8080/"
        },
        "id": "J2uQ5rDjPt7u",
        "outputId": "3eb4bd3b-f02e-493a-884f-f249c055e530"
      },
      "source": [
        "import pandas as pd\n",
        "\n",
        "scores =[]\n",
        "sentences = [\"A really bad, horrible book.\",\"A good, awesome, wonderful, cool book !!!  :)\"]\n",
        "\n",
        "for sentence in sentences:\n",
        "    score = analyser.polarity_scores(sentence)\n",
        "    scores.append(score)\n",
        "    \n",
        "#Converting List of Dictionaries into Dataframe\n",
        "dataFrame= pd.DataFrame(scores)\n",
        "\n",
        "print(dataFrame)\n",
        "\n",
        "print(\"Overall Sentiment Score for the multiple sentences :-\\n \",dataFrame.mean())"
      ],
      "execution_count": null,
      "outputs": [
        {
          "output_type": "stream",
          "text": [
            "     neg    neu    pos  compound\n",
            "0  0.716  0.284  0.000   -0.8211\n",
            "1  0.000  0.151  0.849    0.9507\n",
            "Overall Sentiment Score for the multiple sentences :-\n",
            "  neg         0.3580\n",
            "neu         0.2175\n",
            "pos         0.4245\n",
            "compound    0.0648\n",
            "dtype: float64\n"
          ],
          "name": "stdout"
        }
      ]
    },
    {
      "cell_type": "markdown",
      "metadata": {
        "id": "y24yAoaSQ62j"
      },
      "source": [
        "# Sentiment Analysis: VADER or TextBlob"
      ]
    },
    {
      "cell_type": "markdown",
      "metadata": {
        "id": "q9EiG8hNRhwx"
      },
      "source": [
        "## Textblob:\n",
        "\n",
        "[https://textblob.readthedocs.io/en/dev/](https://textblob.readthedocs.io/en/dev/)\n",
        "\n",
        "“ TextBlob is a Python (2 and 3) library for processing textual data. It provides a simple API for diving into common natural language processing (NLP) tasks such as part-of-speech tagging, noun phrase extraction, sentiment analysis, classification, translation, and more”\n",
        "\n",
        "Textblob sentiment analyzer returns two properties for a given input sentence:\n",
        "\n",
        "- Polarity is a float that lies between [-1,1], -1 indicates negative sentiment and +1 indicates positive sentiments.\n",
        "- Subjectivity is also a float that lies in the range of [0,1]. Subjective sentences generally refer to opinion, emotion, or judgment."
      ]
    },
    {
      "cell_type": "code",
      "metadata": {
        "id": "Ef-jT_poP8fh"
      },
      "source": [
        "from textblob import TextBlob"
      ],
      "execution_count": 1,
      "outputs": []
    },
    {
      "cell_type": "code",
      "metadata": {
        "colab": {
          "base_uri": "https://localhost:8080/"
        },
        "id": "OCsFaIYFRuPt",
        "outputId": "280ad400-257e-4473-96d3-433350d421ae"
      },
      "source": [
        "test = TextBlob(\"The movie was awesome!\")\n",
        "print(test.sentiment)"
      ],
      "execution_count": 2,
      "outputs": [
        {
          "output_type": "stream",
          "text": [
            "Sentiment(polarity=1.0, subjectivity=1.0)\n"
          ],
          "name": "stdout"
        }
      ]
    },
    {
      "cell_type": "markdown",
      "metadata": {
        "id": "G8N5ZXmJbk4F"
      },
      "source": [
        "The subjectivity is TextBlobs score of whether the statement is deemed as more opinion, or fact based. A higher subjectivity score means it is less objective, and therefore would be highly opinionated."
      ]
    },
    {
      "cell_type": "code",
      "metadata": {
        "colab": {
          "base_uri": "https://localhost:8080/"
        },
        "id": "92qt1Ih6RuC7",
        "outputId": "5d36dec1-b03e-48a3-9c3d-5348fda5b2a0"
      },
      "source": [
        "test = TextBlob(\"The movie was bad\")\n",
        "print(test.sentiment)"
      ],
      "execution_count": 4,
      "outputs": [
        {
          "output_type": "stream",
          "text": [
            "Sentiment(polarity=-0.6999999999999998, subjectivity=0.6666666666666666)\n"
          ],
          "name": "stdout"
        }
      ]
    },
    {
      "cell_type": "code",
      "metadata": {
        "colab": {
          "base_uri": "https://localhost:8080/"
        },
        "id": "cIuHTNKGRt5U",
        "outputId": "c5d55d89-bab6-4429-f2b4-8d73b9e79dd9"
      },
      "source": [
        "test = TextBlob(\"The movie was good but ending bad\")\n",
        "print(test.sentiment)"
      ],
      "execution_count": 5,
      "outputs": [
        {
          "output_type": "stream",
          "text": [
            "Sentiment(polarity=5.551115123125783e-17, subjectivity=0.6333333333333333)\n"
          ],
          "name": "stdout"
        }
      ]
    },
    {
      "cell_type": "code",
      "metadata": {
        "colab": {
          "base_uri": "https://localhost:8080/",
          "height": 202
        },
        "id": "l_Gx-9ZFUvay",
        "outputId": "86c55696-75e3-4be4-c3bf-a9373c2ba755"
      },
      "source": [
        "from nltk.sentiment.vader import SentimentIntensityAnalyzer\n",
        "from nltk.sentiment.util import *\n",
        "from textblob import TextBlob\n",
        "from nltk import tokenize\n",
        "import pandas as pd\n",
        "reviews_path = \"/content/drive/MyDrive/Colab/NLP/Data/hotel-reviews.csv/hotel-reviews.csv\"\n",
        "df = pd.read_csv(reviews_path)\n",
        "df.head()"
      ],
      "execution_count": 12,
      "outputs": [
        {
          "output_type": "execute_result",
          "data": {
            "text/html": [
              "<div>\n",
              "<style scoped>\n",
              "    .dataframe tbody tr th:only-of-type {\n",
              "        vertical-align: middle;\n",
              "    }\n",
              "\n",
              "    .dataframe tbody tr th {\n",
              "        vertical-align: top;\n",
              "    }\n",
              "\n",
              "    .dataframe thead th {\n",
              "        text-align: right;\n",
              "    }\n",
              "</style>\n",
              "<table border=\"1\" class=\"dataframe\">\n",
              "  <thead>\n",
              "    <tr style=\"text-align: right;\">\n",
              "      <th></th>\n",
              "      <th>User_ID</th>\n",
              "      <th>Description</th>\n",
              "      <th>Browser_Used</th>\n",
              "      <th>Device_Used</th>\n",
              "      <th>Is_Response</th>\n",
              "    </tr>\n",
              "  </thead>\n",
              "  <tbody>\n",
              "    <tr>\n",
              "      <th>0</th>\n",
              "      <td>id10326</td>\n",
              "      <td>The room was kind of clean but had a VERY stro...</td>\n",
              "      <td>Edge</td>\n",
              "      <td>Mobile</td>\n",
              "      <td>not happy</td>\n",
              "    </tr>\n",
              "    <tr>\n",
              "      <th>1</th>\n",
              "      <td>id10327</td>\n",
              "      <td>I stayed at the Crown Plaza April -- - April -...</td>\n",
              "      <td>Internet Explorer</td>\n",
              "      <td>Mobile</td>\n",
              "      <td>not happy</td>\n",
              "    </tr>\n",
              "    <tr>\n",
              "      <th>2</th>\n",
              "      <td>id10328</td>\n",
              "      <td>I booked this hotel through Hotwire at the low...</td>\n",
              "      <td>Mozilla</td>\n",
              "      <td>Tablet</td>\n",
              "      <td>not happy</td>\n",
              "    </tr>\n",
              "    <tr>\n",
              "      <th>3</th>\n",
              "      <td>id10329</td>\n",
              "      <td>Stayed here with husband and sons on the way t...</td>\n",
              "      <td>InternetExplorer</td>\n",
              "      <td>Desktop</td>\n",
              "      <td>happy</td>\n",
              "    </tr>\n",
              "    <tr>\n",
              "      <th>4</th>\n",
              "      <td>id10330</td>\n",
              "      <td>My girlfriends and I stayed here to celebrate ...</td>\n",
              "      <td>Edge</td>\n",
              "      <td>Tablet</td>\n",
              "      <td>not happy</td>\n",
              "    </tr>\n",
              "  </tbody>\n",
              "</table>\n",
              "</div>"
            ],
            "text/plain": [
              "   User_ID  ... Is_Response\n",
              "0  id10326  ...   not happy\n",
              "1  id10327  ...   not happy\n",
              "2  id10328  ...   not happy\n",
              "3  id10329  ...       happy\n",
              "4  id10330  ...   not happy\n",
              "\n",
              "[5 rows x 5 columns]"
            ]
          },
          "metadata": {
            "tags": []
          },
          "execution_count": 12
        }
      ]
    },
    {
      "cell_type": "code",
      "metadata": {
        "id": "5BJpyh4aVA9c"
      },
      "source": [
        "df.drop_duplicates(subset =\"Description\", keep = \"first\", inplace = True)\n",
        "df['Description'] = df['Description'].astype('str')\n",
        "\n",
        "def get_polarity(text):\n",
        "  return TextBlob(text).sentiment.polarity\n",
        "\n",
        "df['Polarity'] = df['Description'].apply(get_polarity)"
      ],
      "execution_count": 13,
      "outputs": []
    },
    {
      "cell_type": "code",
      "metadata": {
        "colab": {
          "base_uri": "https://localhost:8080/",
          "height": 202
        },
        "id": "Vi64sk9AVQ_j",
        "outputId": "d57eba3b-1ad3-4d10-85c4-0be0dfb5ac98"
      },
      "source": [
        "df['Sentiment_Type']=''\n",
        "df.loc[df.Polarity>0,'Sentiment_Type']='POSITIVE'\n",
        "df.loc[df.Polarity==0,'Sentiment_Type']='NEUTRAL'\n",
        "df.loc[df.Polarity<0,'Sentiment_Type']='NEGATIVE'\n",
        "df.head()"
      ],
      "execution_count": 14,
      "outputs": [
        {
          "output_type": "execute_result",
          "data": {
            "text/html": [
              "<div>\n",
              "<style scoped>\n",
              "    .dataframe tbody tr th:only-of-type {\n",
              "        vertical-align: middle;\n",
              "    }\n",
              "\n",
              "    .dataframe tbody tr th {\n",
              "        vertical-align: top;\n",
              "    }\n",
              "\n",
              "    .dataframe thead th {\n",
              "        text-align: right;\n",
              "    }\n",
              "</style>\n",
              "<table border=\"1\" class=\"dataframe\">\n",
              "  <thead>\n",
              "    <tr style=\"text-align: right;\">\n",
              "      <th></th>\n",
              "      <th>User_ID</th>\n",
              "      <th>Description</th>\n",
              "      <th>Browser_Used</th>\n",
              "      <th>Device_Used</th>\n",
              "      <th>Is_Response</th>\n",
              "      <th>Polarity</th>\n",
              "      <th>Sentiment_Type</th>\n",
              "    </tr>\n",
              "  </thead>\n",
              "  <tbody>\n",
              "    <tr>\n",
              "      <th>0</th>\n",
              "      <td>id10326</td>\n",
              "      <td>The room was kind of clean but had a VERY stro...</td>\n",
              "      <td>Edge</td>\n",
              "      <td>Mobile</td>\n",
              "      <td>not happy</td>\n",
              "      <td>0.346190</td>\n",
              "      <td>POSITIVE</td>\n",
              "    </tr>\n",
              "    <tr>\n",
              "      <th>1</th>\n",
              "      <td>id10327</td>\n",
              "      <td>I stayed at the Crown Plaza April -- - April -...</td>\n",
              "      <td>Internet Explorer</td>\n",
              "      <td>Mobile</td>\n",
              "      <td>not happy</td>\n",
              "      <td>0.042363</td>\n",
              "      <td>POSITIVE</td>\n",
              "    </tr>\n",
              "    <tr>\n",
              "      <th>2</th>\n",
              "      <td>id10328</td>\n",
              "      <td>I booked this hotel through Hotwire at the low...</td>\n",
              "      <td>Mozilla</td>\n",
              "      <td>Tablet</td>\n",
              "      <td>not happy</td>\n",
              "      <td>0.124969</td>\n",
              "      <td>POSITIVE</td>\n",
              "    </tr>\n",
              "    <tr>\n",
              "      <th>3</th>\n",
              "      <td>id10329</td>\n",
              "      <td>Stayed here with husband and sons on the way t...</td>\n",
              "      <td>InternetExplorer</td>\n",
              "      <td>Desktop</td>\n",
              "      <td>happy</td>\n",
              "      <td>0.718500</td>\n",
              "      <td>POSITIVE</td>\n",
              "    </tr>\n",
              "    <tr>\n",
              "      <th>4</th>\n",
              "      <td>id10330</td>\n",
              "      <td>My girlfriends and I stayed here to celebrate ...</td>\n",
              "      <td>Edge</td>\n",
              "      <td>Tablet</td>\n",
              "      <td>not happy</td>\n",
              "      <td>0.117192</td>\n",
              "      <td>POSITIVE</td>\n",
              "    </tr>\n",
              "  </tbody>\n",
              "</table>\n",
              "</div>"
            ],
            "text/plain": [
              "   User_ID  ... Sentiment_Type\n",
              "0  id10326  ...       POSITIVE\n",
              "1  id10327  ...       POSITIVE\n",
              "2  id10328  ...       POSITIVE\n",
              "3  id10329  ...       POSITIVE\n",
              "4  id10330  ...       POSITIVE\n",
              "\n",
              "[5 rows x 7 columns]"
            ]
          },
          "metadata": {
            "tags": []
          },
          "execution_count": 14
        }
      ]
    },
    {
      "cell_type": "code",
      "metadata": {
        "colab": {
          "base_uri": "https://localhost:8080/"
        },
        "id": "MSd9GEpWVgx7",
        "outputId": "33f377a4-b8e4-445b-ea8f-0a51f46db4ec"
      },
      "source": [
        "df['Sentiment_Type'].value_counts()"
      ],
      "execution_count": 16,
      "outputs": [
        {
          "output_type": "execute_result",
          "data": {
            "text/plain": [
              "POSITIVE    36002\n",
              "NEGATIVE     2849\n",
              "NEUTRAL        81\n",
              "Name: Sentiment_Type, dtype: int64"
            ]
          },
          "metadata": {
            "tags": []
          },
          "execution_count": 16
        }
      ]
    },
    {
      "cell_type": "code",
      "metadata": {
        "colab": {
          "base_uri": "https://localhost:8080/",
          "height": 338
        },
        "id": "ECINYZCnVgru",
        "outputId": "0b4c6cce-8100-45c8-a5a5-eab127d34063"
      },
      "source": [
        "df.Sentiment_Type.value_counts().plot(kind='bar',title=\"Sentiment Analysis\")"
      ],
      "execution_count": 17,
      "outputs": [
        {
          "output_type": "execute_result",
          "data": {
            "text/plain": [
              "<matplotlib.axes._subplots.AxesSubplot at 0x7f47e33a2c90>"
            ]
          },
          "metadata": {
            "tags": []
          },
          "execution_count": 17
        },
        {
          "output_type": "display_data",
          "data": {
            "image/png": "[encoded data removed]",
            "text/plain": [
              "<Figure size 432x288 with 1 Axes>"
            ]
          },
          "metadata": {
            "tags": [],
            "needs_background": "light"
          }
        }
      ]
    },
    {
      "cell_type": "markdown",
      "metadata": {
        "id": "m8DhCvp-ULU1"
      },
      "source": [
        "## VADER:\n",
        "\n",
        "[https://github.com/cjhutto/vaderSentiment](https://github.com/cjhutto/vaderSentiment)\n",
        "\n",
        "\"VADER (Valence Aware Dictionary and sEntiment Reasoner) is a lexicon and rule-based sentiment analysis tool that is specifically attuned to sentiments expressed in social media.\"\n",
        "\n",
        "It uses a list of lexical features (e.g. word) which are labeled as positive or negative according to their semantic orientation to calculate the text sentiment. Vader sentiment returns the probability of a given input sentence to be positive, negative, and neutral.\n",
        "\n",
        "compound score — which is a “normalized, weighted, composite score” flags"
      ]
    },
    {
      "cell_type": "code",
      "metadata": {
        "colab": {
          "base_uri": "https://localhost:8080/"
        },
        "id": "n-gt4d7TRtyV",
        "outputId": "d765771e-f76c-4542-a4d3-1a2b336d2644"
      },
      "source": [
        "from vaderSentiment.vaderSentiment import SentimentIntensityAnalyzer\n",
        "analyzer = SentimentIntensityAnalyzer()\n",
        "sentence = \"The movie was awesome!\"\n",
        "vs = analyzer.polarity_scores(sentence)\n",
        "print(\"{:-<65} {}\".format(sentence, str(vs)))"
      ],
      "execution_count": 10,
      "outputs": [
        {
          "output_type": "stream",
          "text": [
            "The movie was awesome!------------------------------------------- {'neg': 0.0, 'neu': 0.406, 'pos': 0.594, 'compound': 0.6588}\n"
          ],
          "name": "stdout"
        }
      ]
    },
    {
      "cell_type": "markdown",
      "metadata": {
        "id": "siY5ob05UpFv"
      },
      "source": [
        "### VADER Sentiment Analysis\n",
        "\n",
        "Vader is optimized for social media data and can yield good results when used with data from Twitter, Facebook, etc. As the above result shows the polarity of the word and their probabilities of being pos, neg neu, and compound."
      ]
    },
    {
      "cell_type": "code",
      "metadata": {
        "id": "X6EPXBttT_Xk"
      },
      "source": [
        "reviews_path = \"/content/drive/MyDrive/Colab/NLP/Data/hotel-reviews.csv/hotel-reviews.csv\""
      ],
      "execution_count": 6,
      "outputs": []
    },
    {
      "cell_type": "code",
      "metadata": {
        "colab": {
          "base_uri": "https://localhost:8080/"
        },
        "id": "Ah2NZ-ETT_M5",
        "outputId": "1b6b6354-aedc-4716-ac80-3441391ea6f3"
      },
      "source": [
        "import nltk\n",
        "nltk.download('vader_lexicon')\n",
        "from nltk.sentiment.vader import SentimentIntensityAnalyzer\n",
        "sid = SentimentIntensityAnalyzer()"
      ],
      "execution_count": 18,
      "outputs": [
        {
          "output_type": "stream",
          "text": [
            "[nltk_data] Downloading package vader_lexicon to /root/nltk_data...\n"
          ],
          "name": "stdout"
        }
      ]
    },
    {
      "cell_type": "code",
      "metadata": {
        "colab": {
          "base_uri": "https://localhost:8080/",
          "height": 202
        },
        "id": "S62K2wGqV_6n",
        "outputId": "dc234470-ccfc-4fab-fb11-d1b697ea3e0b"
      },
      "source": [
        "df['scores'] = df['Description'].apply(lambda Description: sid.polarity_scores(Description))\n",
        "df.head()"
      ],
      "execution_count": 19,
      "outputs": [
        {
          "output_type": "execute_result",
          "data": {
            "text/html": [
              "<div>\n",
              "<style scoped>\n",
              "    .dataframe tbody tr th:only-of-type {\n",
              "        vertical-align: middle;\n",
              "    }\n",
              "\n",
              "    .dataframe tbody tr th {\n",
              "        vertical-align: top;\n",
              "    }\n",
              "\n",
              "    .dataframe thead th {\n",
              "        text-align: right;\n",
              "    }\n",
              "</style>\n",
              "<table border=\"1\" class=\"dataframe\">\n",
              "  <thead>\n",
              "    <tr style=\"text-align: right;\">\n",
              "      <th></th>\n",
              "      <th>User_ID</th>\n",
              "      <th>Description</th>\n",
              "      <th>Browser_Used</th>\n",
              "      <th>Device_Used</th>\n",
              "      <th>Is_Response</th>\n",
              "      <th>Polarity</th>\n",
              "      <th>Sentiment_Type</th>\n",
              "      <th>scores</th>\n",
              "    </tr>\n",
              "  </thead>\n",
              "  <tbody>\n",
              "    <tr>\n",
              "      <th>0</th>\n",
              "      <td>id10326</td>\n",
              "      <td>The room was kind of clean but had a VERY stro...</td>\n",
              "      <td>Edge</td>\n",
              "      <td>Mobile</td>\n",
              "      <td>not happy</td>\n",
              "      <td>0.346190</td>\n",
              "      <td>POSITIVE</td>\n",
              "      <td>{'neg': 0.0, 'neu': 0.675, 'pos': 0.325, 'comp...</td>\n",
              "    </tr>\n",
              "    <tr>\n",
              "      <th>1</th>\n",
              "      <td>id10327</td>\n",
              "      <td>I stayed at the Crown Plaza April -- - April -...</td>\n",
              "      <td>Internet Explorer</td>\n",
              "      <td>Mobile</td>\n",
              "      <td>not happy</td>\n",
              "      <td>0.042363</td>\n",
              "      <td>POSITIVE</td>\n",
              "      <td>{'neg': 0.053, 'neu': 0.897, 'pos': 0.05, 'com...</td>\n",
              "    </tr>\n",
              "    <tr>\n",
              "      <th>2</th>\n",
              "      <td>id10328</td>\n",
              "      <td>I booked this hotel through Hotwire at the low...</td>\n",
              "      <td>Mozilla</td>\n",
              "      <td>Tablet</td>\n",
              "      <td>not happy</td>\n",
              "      <td>0.124969</td>\n",
              "      <td>POSITIVE</td>\n",
              "      <td>{'neg': 0.048, 'neu': 0.866, 'pos': 0.085, 'co...</td>\n",
              "    </tr>\n",
              "    <tr>\n",
              "      <th>3</th>\n",
              "      <td>id10329</td>\n",
              "      <td>Stayed here with husband and sons on the way t...</td>\n",
              "      <td>InternetExplorer</td>\n",
              "      <td>Desktop</td>\n",
              "      <td>happy</td>\n",
              "      <td>0.718500</td>\n",
              "      <td>POSITIVE</td>\n",
              "      <td>{'neg': 0.0, 'neu': 0.653, 'pos': 0.347, 'comp...</td>\n",
              "    </tr>\n",
              "    <tr>\n",
              "      <th>4</th>\n",
              "      <td>id10330</td>\n",
              "      <td>My girlfriends and I stayed here to celebrate ...</td>\n",
              "      <td>Edge</td>\n",
              "      <td>Tablet</td>\n",
              "      <td>not happy</td>\n",
              "      <td>0.117192</td>\n",
              "      <td>POSITIVE</td>\n",
              "      <td>{'neg': 0.041, 'neu': 0.871, 'pos': 0.088, 'co...</td>\n",
              "    </tr>\n",
              "  </tbody>\n",
              "</table>\n",
              "</div>"
            ],
            "text/plain": [
              "   User_ID  ...                                             scores\n",
              "0  id10326  ...  {'neg': 0.0, 'neu': 0.675, 'pos': 0.325, 'comp...\n",
              "1  id10327  ...  {'neg': 0.053, 'neu': 0.897, 'pos': 0.05, 'com...\n",
              "2  id10328  ...  {'neg': 0.048, 'neu': 0.866, 'pos': 0.085, 'co...\n",
              "3  id10329  ...  {'neg': 0.0, 'neu': 0.653, 'pos': 0.347, 'comp...\n",
              "4  id10330  ...  {'neg': 0.041, 'neu': 0.871, 'pos': 0.088, 'co...\n",
              "\n",
              "[5 rows x 8 columns]"
            ]
          },
          "metadata": {
            "tags": []
          },
          "execution_count": 19
        }
      ]
    },
    {
      "cell_type": "code",
      "metadata": {
        "id": "hd43OhFUWAwQ"
      },
      "source": [
        "df['compound'] = df['scores'].apply(lambda score_dict: score_dict['compound'])\n"
      ],
      "execution_count": 20,
      "outputs": []
    },
    {
      "cell_type": "code",
      "metadata": {
        "colab": {
          "base_uri": "https://localhost:8080/",
          "height": 285
        },
        "id": "5he9AbEvWLhb",
        "outputId": "907da759-f575-4298-9722-64715acd1f1d"
      },
      "source": [
        "df['sentiment_type']=''\n",
        "df.loc[df.compound>0,'sentiment_type']='POSITIVE'\n",
        "df.loc[df.compound==0,'sentiment_type']='NEUTRAL'\n",
        "df.loc[df.compound<0,'sentiment_type']='NEGATIVE'\n",
        "df.head()"
      ],
      "execution_count": 21,
      "outputs": [
        {
          "output_type": "execute_result",
          "data": {
            "text/html": [
              "<div>\n",
              "<style scoped>\n",
              "    .dataframe tbody tr th:only-of-type {\n",
              "        vertical-align: middle;\n",
              "    }\n",
              "\n",
              "    .dataframe tbody tr th {\n",
              "        vertical-align: top;\n",
              "    }\n",
              "\n",
              "    .dataframe thead th {\n",
              "        text-align: right;\n",
              "    }\n",
              "</style>\n",
              "<table border=\"1\" class=\"dataframe\">\n",
              "  <thead>\n",
              "    <tr style=\"text-align: right;\">\n",
              "      <th></th>\n",
              "      <th>User_ID</th>\n",
              "      <th>Description</th>\n",
              "      <th>Browser_Used</th>\n",
              "      <th>Device_Used</th>\n",
              "      <th>Is_Response</th>\n",
              "      <th>Polarity</th>\n",
              "      <th>Sentiment_Type</th>\n",
              "      <th>scores</th>\n",
              "      <th>compound</th>\n",
              "      <th>sentiment_type</th>\n",
              "    </tr>\n",
              "  </thead>\n",
              "  <tbody>\n",
              "    <tr>\n",
              "      <th>0</th>\n",
              "      <td>id10326</td>\n",
              "      <td>The room was kind of clean but had a VERY stro...</td>\n",
              "      <td>Edge</td>\n",
              "      <td>Mobile</td>\n",
              "      <td>not happy</td>\n",
              "      <td>0.346190</td>\n",
              "      <td>POSITIVE</td>\n",
              "      <td>{'neg': 0.0, 'neu': 0.675, 'pos': 0.325, 'comp...</td>\n",
              "      <td>0.9628</td>\n",
              "      <td>POSITIVE</td>\n",
              "    </tr>\n",
              "    <tr>\n",
              "      <th>1</th>\n",
              "      <td>id10327</td>\n",
              "      <td>I stayed at the Crown Plaza April -- - April -...</td>\n",
              "      <td>Internet Explorer</td>\n",
              "      <td>Mobile</td>\n",
              "      <td>not happy</td>\n",
              "      <td>0.042363</td>\n",
              "      <td>POSITIVE</td>\n",
              "      <td>{'neg': 0.053, 'neu': 0.897, 'pos': 0.05, 'com...</td>\n",
              "      <td>-0.1243</td>\n",
              "      <td>NEGATIVE</td>\n",
              "    </tr>\n",
              "    <tr>\n",
              "      <th>2</th>\n",
              "      <td>id10328</td>\n",
              "      <td>I booked this hotel through Hotwire at the low...</td>\n",
              "      <td>Mozilla</td>\n",
              "      <td>Tablet</td>\n",
              "      <td>not happy</td>\n",
              "      <td>0.124969</td>\n",
              "      <td>POSITIVE</td>\n",
              "      <td>{'neg': 0.048, 'neu': 0.866, 'pos': 0.085, 'co...</td>\n",
              "      <td>0.9279</td>\n",
              "      <td>POSITIVE</td>\n",
              "    </tr>\n",
              "    <tr>\n",
              "      <th>3</th>\n",
              "      <td>id10329</td>\n",
              "      <td>Stayed here with husband and sons on the way t...</td>\n",
              "      <td>InternetExplorer</td>\n",
              "      <td>Desktop</td>\n",
              "      <td>happy</td>\n",
              "      <td>0.718500</td>\n",
              "      <td>POSITIVE</td>\n",
              "      <td>{'neg': 0.0, 'neu': 0.653, 'pos': 0.347, 'comp...</td>\n",
              "      <td>0.9920</td>\n",
              "      <td>POSITIVE</td>\n",
              "    </tr>\n",
              "    <tr>\n",
              "      <th>4</th>\n",
              "      <td>id10330</td>\n",
              "      <td>My girlfriends and I stayed here to celebrate ...</td>\n",
              "      <td>Edge</td>\n",
              "      <td>Tablet</td>\n",
              "      <td>not happy</td>\n",
              "      <td>0.117192</td>\n",
              "      <td>POSITIVE</td>\n",
              "      <td>{'neg': 0.041, 'neu': 0.871, 'pos': 0.088, 'co...</td>\n",
              "      <td>0.9088</td>\n",
              "      <td>POSITIVE</td>\n",
              "    </tr>\n",
              "  </tbody>\n",
              "</table>\n",
              "</div>"
            ],
            "text/plain": [
              "   User_ID  ... sentiment_type\n",
              "0  id10326  ...       POSITIVE\n",
              "1  id10327  ...       NEGATIVE\n",
              "2  id10328  ...       POSITIVE\n",
              "3  id10329  ...       POSITIVE\n",
              "4  id10330  ...       POSITIVE\n",
              "\n",
              "[5 rows x 10 columns]"
            ]
          },
          "metadata": {
            "tags": []
          },
          "execution_count": 21
        }
      ]
    },
    {
      "cell_type": "code",
      "metadata": {
        "colab": {
          "base_uri": "https://localhost:8080/"
        },
        "id": "MS6QDqT_Wfvi",
        "outputId": "278caf3d-89ca-404e-dfc6-bc44eb522e4c"
      },
      "source": [
        "df['sentiment_type'].value_counts()"
      ],
      "execution_count": 23,
      "outputs": [
        {
          "output_type": "execute_result",
          "data": {
            "text/plain": [
              "POSITIVE    34669\n",
              "NEGATIVE     4189\n",
              "NEUTRAL        74\n",
              "Name: sentiment_type, dtype: int64"
            ]
          },
          "metadata": {
            "tags": []
          },
          "execution_count": 23
        }
      ]
    },
    {
      "cell_type": "code",
      "metadata": {
        "colab": {
          "base_uri": "https://localhost:8080/",
          "height": 338
        },
        "id": "GWN_KRJfWevm",
        "outputId": "870fb429-e027-4b94-aede-6f9e951a43c9"
      },
      "source": [
        "df.sentiment_type.value_counts().plot(kind='bar',title=\"sentiment analysis\")"
      ],
      "execution_count": 24,
      "outputs": [
        {
          "output_type": "execute_result",
          "data": {
            "text/plain": [
              "<matplotlib.axes._subplots.AxesSubplot at 0x7f47e28dec50>"
            ]
          },
          "metadata": {
            "tags": []
          },
          "execution_count": 24
        },
        {
          "output_type": "display_data",
          "data": {
            "image/png": "[encoded data removed]",
            "text/plain": [
              "<Figure size 432x288 with 1 Axes>"
            ]
          },
          "metadata": {
            "tags": [],
            "needs_background": "light"
          }
        }
      ]
    },
    {
      "cell_type": "code",
      "metadata": {
        "id": "W-tIb8N_W7U-"
      },
      "source": [
        ""
      ],
      "execution_count": null,
      "outputs": []
    },
    {
      "cell_type": "markdown",
      "metadata": {
        "id": "AcqckY4meAEn"
      },
      "source": [
        "## Both libraries offer a host of features — it’s best to try to run some sample data on your subject matter to see which performs best for your requirements.\n",
        "## From my tests, VADER seems to work better with things like slang, emojis, etc — whereas TextBlob performs strongly with more formal language usage."
      ]
    },
    {
      "cell_type": "markdown",
      "metadata": {
        "id": "lkNVHMTNdRYF"
      },
      "source": [
        "Both libraries are also highly extendable to look at many other categories related to natural language processing, such as:\n",
        "\n",
        "### Part of Speech Tagging\n",
        "The process of converting a sentence to a list of tuples(word, tag). The tag in case of is a part-of-speech tag, and signifies whether the word is a noun, adjective, verb, etc.\n",
        "\n",
        "### Tokenization\n",
        "Breaking the sentence or block of text into individual ‘tokens’ for analysis.\n",
        "\n",
        "### N-grams\n",
        "Splitting the sentence into blocks of size n. In the below example, I used n=5, so it outputs all possible continuous blocks of 5 tokens."
      ]
    }
  ]
}