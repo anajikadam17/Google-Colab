{
  "nbformat": 4,
  "nbformat_minor": 0,
  "metadata": {
    "colab": {
      "name": "ANN_Churn_Modeling.ipynb",
      "provenance": [],
      "mount_file_id": "1pz1nzh80eX22kQ8m2SB5EonUzM6BWyOg",
      "authorship_tag": "ABX9TyOkIRchqQWm63K7CPLnz6UL",
      "include_colab_link": true
    },
    "kernelspec": {
      "name": "python3",
      "display_name": "Python 3"
    },
    "language_info": {
      "name": "python"
    },
    "accelerator": "GPU"
  },
  "cells": [
    {
      "cell_type": "markdown",
      "metadata": {
        "id": "view-in-github",
        "colab_type": "text"
      },
      "source": [
        "<a href=\"https://colab.research.google.com/github/anajikadam17/Google-Colab/blob/main/ANN/ANN_Churn_Modeling.ipynb\" target=\"_parent\"><img src=\"https://colab.research.google.com/assets/colab-badge.svg\" alt=\"Open In Colab\"/></a>"
      ]
    },
    {
      "cell_type": "code",
      "metadata": {
        "colab": {
          "base_uri": "https://localhost:8080/",
          "height": 35
        },
        "id": "VLMfV-6dxvyf",
        "outputId": "5f631a0c-d384-45a5-ad9c-ffa2d774be1e"
      },
      "source": [
        "# Test whether the GPU is working or not\n",
        "\n",
        "import tensorflow as tf\n",
        "tf.test.gpu_device_name()"
      ],
      "execution_count": 1,
      "outputs": [
        {
          "output_type": "execute_result",
          "data": {
            "application/vnd.google.colaboratory.intrinsic+json": {
              "type": "string"
            },
            "text/plain": [
              "'/device:GPU:0'"
            ]
          },
          "metadata": {
            "tags": []
          },
          "execution_count": 1
        }
      ]
    },
    {
      "cell_type": "code",
      "metadata": {
        "id": "MQoit-bXywCz"
      },
      "source": [
        "# Artificial Neural Network\n",
        "\n",
        "\n",
        "# Part 1 - Data Preprocessing\n",
        "\n",
        "# Importing the libraries\n",
        "import numpy as np\n",
        "import matplotlib.pyplot as plt\n",
        "import pandas as pd\n",
        "\n",
        "# Importing the dataset\n",
        "dataset = pd.read_csv('/content/drive/MyDrive/Colab/ANN/Churn_Modelling.csv')\n",
        "X = dataset.iloc[:, 3:13]\n",
        "y = dataset.iloc[:, 13]\n",
        "\n",
        "#Create dummy variables\n",
        "geography=pd.get_dummies(X[\"Geography\"],drop_first=True)\n",
        "gender=pd.get_dummies(X['Gender'],drop_first=True)\n",
        "\n",
        "## Concatenate the Data Frames\n",
        "\n",
        "X=pd.concat([X,geography,gender],axis=1)\n",
        "\n",
        "## Drop Unnecessary columns\n",
        "X=X.drop(['Geography','Gender'],axis=1)\n"
      ],
      "execution_count": 2,
      "outputs": []
    },
    {
      "cell_type": "code",
      "metadata": {
        "id": "apCPn1qmy6Zg"
      },
      "source": [
        "# Splitting the dataset into the Training set and Test set\n",
        "from sklearn.model_selection import train_test_split\n",
        "X_train, X_test, y_train, y_test = train_test_split(X, y, test_size = 0.2, random_state = 0)\n",
        "\n",
        "# Feature Scaling\n",
        "from sklearn.preprocessing import StandardScaler\n",
        "sc = StandardScaler()\n",
        "X_train = sc.fit_transform(X_train)\n",
        "X_test = sc.transform(X_test)\n",
        "\n"
      ],
      "execution_count": 3,
      "outputs": []
    },
    {
      "cell_type": "code",
      "metadata": {
        "id": "cgg6lpoo0reT"
      },
      "source": [
        "# Part 2 - Now let's make the ANN!\n",
        "\n",
        "# Importing the Keras libraries and packages\n",
        "import keras\n",
        "from keras.models import Sequential\n",
        "from keras.layers import Dense\n",
        "from keras.layers import LeakyReLU,PReLU,ELU\n",
        "from keras.layers import Dropout\n"
      ],
      "execution_count": 6,
      "outputs": []
    },
    {
      "cell_type": "code",
      "metadata": {
        "colab": {
          "base_uri": "https://localhost:8080/"
        },
        "id": "rMB_qY8Kz4_E",
        "outputId": "6888d622-9c10-40b6-a611-2703f8a534a4"
      },
      "source": [
        "# Initialising the ANN\n",
        "classifier = Sequential()\n",
        "\n",
        "# Adding the input layer and the first hidden layer\n",
        "classifier.add(Dense(units = 6, kernel_initializer= 'he_uniform', activation='relu',input_dim = 11))\n",
        "\n",
        "# Adding the second hidden layer\n",
        "classifier.add(Dense(units = 6, kernel_initializer = 'he_uniform', activation='relu'))\n",
        "# Adding the output layer\n",
        "classifier.add(Dense(units = 1, kernel_initializer = 'glorot_uniform', activation = 'sigmoid'))\n",
        "\n",
        "# Compiling the ANN\n",
        "classifier.compile(optimizer = 'Adamax', loss = 'binary_crossentropy', metrics = ['accuracy'])\n",
        "# binary_crossentropy : output binary format\n",
        "\n",
        "\n",
        "# Fitting the ANN to the Training set\n",
        "model_history=classifier.fit(X_train, y_train,validation_split=0.33, batch_size = 10, epochs = 100) # batch size: specific use computational power use\n",
        "# one epoch = one forward pass and one backward pass of all the training examples\n",
        "#batch size = the number of training examples in one forward/backward pass. The higher the batch size, the more memory space you'll need.\n",
        "\n",
        "\n",
        "\n"
      ],
      "execution_count": 11,
      "outputs": [
        {
          "output_type": "stream",
          "text": [
            "Epoch 1/100\n",
            "536/536 [==============================] - 3s 4ms/step - loss: 0.7611 - accuracy: 0.5647 - val_loss: 0.5554 - val_accuracy: 0.7531\n",
            "Epoch 2/100\n",
            "536/536 [==============================] - 2s 3ms/step - loss: 0.5298 - accuracy: 0.7775 - val_loss: 0.5121 - val_accuracy: 0.7944\n",
            "Epoch 3/100\n",
            "536/536 [==============================] - 2s 3ms/step - loss: 0.4984 - accuracy: 0.7979 - val_loss: 0.4982 - val_accuracy: 0.7955\n",
            "Epoch 4/100\n",
            "536/536 [==============================] - 2s 3ms/step - loss: 0.4858 - accuracy: 0.8001 - val_loss: 0.4889 - val_accuracy: 0.7955\n",
            "Epoch 5/100\n",
            "536/536 [==============================] - 2s 3ms/step - loss: 0.4930 - accuracy: 0.7817 - val_loss: 0.4808 - val_accuracy: 0.7955\n",
            "Epoch 6/100\n",
            "536/536 [==============================] - 2s 3ms/step - loss: 0.4697 - accuracy: 0.7981 - val_loss: 0.4738 - val_accuracy: 0.7963\n",
            "Epoch 7/100\n",
            "536/536 [==============================] - 2s 3ms/step - loss: 0.4632 - accuracy: 0.7978 - val_loss: 0.4673 - val_accuracy: 0.7978\n",
            "Epoch 8/100\n",
            "536/536 [==============================] - 2s 3ms/step - loss: 0.4521 - accuracy: 0.8033 - val_loss: 0.4610 - val_accuracy: 0.7978\n",
            "Epoch 9/100\n",
            "536/536 [==============================] - 2s 3ms/step - loss: 0.4466 - accuracy: 0.8040 - val_loss: 0.4554 - val_accuracy: 0.7997\n",
            "Epoch 10/100\n",
            "536/536 [==============================] - 2s 3ms/step - loss: 0.4540 - accuracy: 0.7964 - val_loss: 0.4513 - val_accuracy: 0.7997\n",
            "Epoch 11/100\n",
            "536/536 [==============================] - 2s 3ms/step - loss: 0.4325 - accuracy: 0.8106 - val_loss: 0.4473 - val_accuracy: 0.8005\n",
            "Epoch 12/100\n",
            "536/536 [==============================] - 2s 3ms/step - loss: 0.4334 - accuracy: 0.8103 - val_loss: 0.4438 - val_accuracy: 0.8012\n",
            "Epoch 13/100\n",
            "536/536 [==============================] - 2s 3ms/step - loss: 0.4274 - accuracy: 0.8157 - val_loss: 0.4409 - val_accuracy: 0.8012\n",
            "Epoch 14/100\n",
            "536/536 [==============================] - 2s 3ms/step - loss: 0.4159 - accuracy: 0.8220 - val_loss: 0.4384 - val_accuracy: 0.8005\n",
            "Epoch 15/100\n",
            "536/536 [==============================] - 2s 3ms/step - loss: 0.4263 - accuracy: 0.8145 - val_loss: 0.4360 - val_accuracy: 0.8020\n",
            "Epoch 16/100\n",
            "536/536 [==============================] - 2s 3ms/step - loss: 0.4275 - accuracy: 0.8186 - val_loss: 0.4342 - val_accuracy: 0.8031\n",
            "Epoch 17/100\n",
            "536/536 [==============================] - 2s 3ms/step - loss: 0.4241 - accuracy: 0.8165 - val_loss: 0.4325 - val_accuracy: 0.8046\n",
            "Epoch 18/100\n",
            "536/536 [==============================] - 2s 3ms/step - loss: 0.4206 - accuracy: 0.8213 - val_loss: 0.4309 - val_accuracy: 0.8042\n",
            "Epoch 19/100\n",
            "536/536 [==============================] - 2s 3ms/step - loss: 0.4178 - accuracy: 0.8230 - val_loss: 0.4297 - val_accuracy: 0.8065\n",
            "Epoch 20/100\n",
            "536/536 [==============================] - 2s 3ms/step - loss: 0.4271 - accuracy: 0.8143 - val_loss: 0.4286 - val_accuracy: 0.8103\n",
            "Epoch 21/100\n",
            "536/536 [==============================] - 2s 3ms/step - loss: 0.4234 - accuracy: 0.8186 - val_loss: 0.4274 - val_accuracy: 0.8126\n",
            "Epoch 22/100\n",
            "536/536 [==============================] - 2s 3ms/step - loss: 0.4075 - accuracy: 0.8276 - val_loss: 0.4262 - val_accuracy: 0.8137\n",
            "Epoch 23/100\n",
            "536/536 [==============================] - 2s 3ms/step - loss: 0.4244 - accuracy: 0.8224 - val_loss: 0.4254 - val_accuracy: 0.8141\n",
            "Epoch 24/100\n",
            "536/536 [==============================] - 2s 3ms/step - loss: 0.4116 - accuracy: 0.8198 - val_loss: 0.4245 - val_accuracy: 0.8145\n",
            "Epoch 25/100\n",
            "536/536 [==============================] - 2s 3ms/step - loss: 0.4074 - accuracy: 0.8275 - val_loss: 0.4236 - val_accuracy: 0.8164\n",
            "Epoch 26/100\n",
            "536/536 [==============================] - 2s 3ms/step - loss: 0.4209 - accuracy: 0.8229 - val_loss: 0.4227 - val_accuracy: 0.8167\n",
            "Epoch 27/100\n",
            "536/536 [==============================] - 2s 3ms/step - loss: 0.4122 - accuracy: 0.8249 - val_loss: 0.4217 - val_accuracy: 0.8179\n",
            "Epoch 28/100\n",
            "536/536 [==============================] - 2s 3ms/step - loss: 0.4115 - accuracy: 0.8334 - val_loss: 0.4207 - val_accuracy: 0.8194\n",
            "Epoch 29/100\n",
            "536/536 [==============================] - 2s 3ms/step - loss: 0.4098 - accuracy: 0.8305 - val_loss: 0.4196 - val_accuracy: 0.8205\n",
            "Epoch 30/100\n",
            "536/536 [==============================] - 2s 3ms/step - loss: 0.4102 - accuracy: 0.8311 - val_loss: 0.4183 - val_accuracy: 0.8198\n",
            "Epoch 31/100\n",
            "536/536 [==============================] - 2s 3ms/step - loss: 0.3983 - accuracy: 0.8386 - val_loss: 0.4172 - val_accuracy: 0.8198\n",
            "Epoch 32/100\n",
            "536/536 [==============================] - 2s 3ms/step - loss: 0.4177 - accuracy: 0.8264 - val_loss: 0.4161 - val_accuracy: 0.8209\n",
            "Epoch 33/100\n",
            "536/536 [==============================] - 2s 3ms/step - loss: 0.3993 - accuracy: 0.8328 - val_loss: 0.4150 - val_accuracy: 0.8217\n",
            "Epoch 34/100\n",
            "536/536 [==============================] - 2s 3ms/step - loss: 0.4059 - accuracy: 0.8293 - val_loss: 0.4139 - val_accuracy: 0.8209\n",
            "Epoch 35/100\n",
            "536/536 [==============================] - 2s 3ms/step - loss: 0.4046 - accuracy: 0.8303 - val_loss: 0.4130 - val_accuracy: 0.8209\n",
            "Epoch 36/100\n",
            "536/536 [==============================] - 2s 3ms/step - loss: 0.3939 - accuracy: 0.8388 - val_loss: 0.4121 - val_accuracy: 0.8205\n",
            "Epoch 37/100\n",
            "536/536 [==============================] - 2s 3ms/step - loss: 0.3841 - accuracy: 0.8424 - val_loss: 0.4112 - val_accuracy: 0.8236\n",
            "Epoch 38/100\n",
            "536/536 [==============================] - 2s 3ms/step - loss: 0.3921 - accuracy: 0.8387 - val_loss: 0.4104 - val_accuracy: 0.8247\n",
            "Epoch 39/100\n",
            "536/536 [==============================] - 2s 3ms/step - loss: 0.3901 - accuracy: 0.8382 - val_loss: 0.4096 - val_accuracy: 0.8251\n",
            "Epoch 40/100\n",
            "536/536 [==============================] - 2s 3ms/step - loss: 0.3981 - accuracy: 0.8348 - val_loss: 0.4088 - val_accuracy: 0.8251\n",
            "Epoch 41/100\n",
            "536/536 [==============================] - 2s 3ms/step - loss: 0.3979 - accuracy: 0.8430 - val_loss: 0.4082 - val_accuracy: 0.8258\n",
            "Epoch 42/100\n",
            "536/536 [==============================] - 2s 3ms/step - loss: 0.3875 - accuracy: 0.8392 - val_loss: 0.4076 - val_accuracy: 0.8258\n",
            "Epoch 43/100\n",
            "536/536 [==============================] - 2s 3ms/step - loss: 0.3967 - accuracy: 0.8409 - val_loss: 0.4072 - val_accuracy: 0.8270\n",
            "Epoch 44/100\n",
            "536/536 [==============================] - 2s 3ms/step - loss: 0.4019 - accuracy: 0.8322 - val_loss: 0.4066 - val_accuracy: 0.8277\n",
            "Epoch 45/100\n",
            "536/536 [==============================] - 2s 3ms/step - loss: 0.3849 - accuracy: 0.8426 - val_loss: 0.4062 - val_accuracy: 0.8281\n",
            "Epoch 46/100\n",
            "536/536 [==============================] - 2s 3ms/step - loss: 0.3991 - accuracy: 0.8398 - val_loss: 0.4057 - val_accuracy: 0.8289\n",
            "Epoch 47/100\n",
            "536/536 [==============================] - 2s 3ms/step - loss: 0.3773 - accuracy: 0.8494 - val_loss: 0.4052 - val_accuracy: 0.8281\n",
            "Epoch 48/100\n",
            "536/536 [==============================] - 2s 3ms/step - loss: 0.3942 - accuracy: 0.8324 - val_loss: 0.4048 - val_accuracy: 0.8296\n",
            "Epoch 49/100\n",
            "536/536 [==============================] - 2s 3ms/step - loss: 0.3888 - accuracy: 0.8425 - val_loss: 0.4042 - val_accuracy: 0.8296\n",
            "Epoch 50/100\n",
            "536/536 [==============================] - 2s 3ms/step - loss: 0.3889 - accuracy: 0.8402 - val_loss: 0.4037 - val_accuracy: 0.8300\n",
            "Epoch 51/100\n",
            "536/536 [==============================] - 2s 3ms/step - loss: 0.3843 - accuracy: 0.8400 - val_loss: 0.4033 - val_accuracy: 0.8304\n",
            "Epoch 52/100\n",
            "536/536 [==============================] - 2s 3ms/step - loss: 0.3921 - accuracy: 0.8378 - val_loss: 0.4029 - val_accuracy: 0.8307\n",
            "Epoch 53/100\n",
            "536/536 [==============================] - 2s 3ms/step - loss: 0.3881 - accuracy: 0.8426 - val_loss: 0.4026 - val_accuracy: 0.8304\n",
            "Epoch 54/100\n",
            "536/536 [==============================] - 2s 3ms/step - loss: 0.3895 - accuracy: 0.8377 - val_loss: 0.4024 - val_accuracy: 0.8307\n",
            "Epoch 55/100\n",
            "536/536 [==============================] - 2s 3ms/step - loss: 0.3853 - accuracy: 0.8389 - val_loss: 0.4020 - val_accuracy: 0.8300\n",
            "Epoch 56/100\n",
            "536/536 [==============================] - 2s 3ms/step - loss: 0.3753 - accuracy: 0.8475 - val_loss: 0.4016 - val_accuracy: 0.8300\n",
            "Epoch 57/100\n",
            "536/536 [==============================] - 2s 3ms/step - loss: 0.3880 - accuracy: 0.8349 - val_loss: 0.4013 - val_accuracy: 0.8300\n",
            "Epoch 58/100\n",
            "536/536 [==============================] - 2s 3ms/step - loss: 0.3809 - accuracy: 0.8427 - val_loss: 0.4011 - val_accuracy: 0.8292\n",
            "Epoch 59/100\n",
            "536/536 [==============================] - 2s 3ms/step - loss: 0.3938 - accuracy: 0.8365 - val_loss: 0.4010 - val_accuracy: 0.8300\n",
            "Epoch 60/100\n",
            "536/536 [==============================] - 2s 3ms/step - loss: 0.3698 - accuracy: 0.8467 - val_loss: 0.4007 - val_accuracy: 0.8307\n",
            "Epoch 61/100\n",
            "536/536 [==============================] - 2s 3ms/step - loss: 0.3749 - accuracy: 0.8492 - val_loss: 0.4002 - val_accuracy: 0.8300\n",
            "Epoch 62/100\n",
            "536/536 [==============================] - 2s 3ms/step - loss: 0.4015 - accuracy: 0.8312 - val_loss: 0.4000 - val_accuracy: 0.8307\n",
            "Epoch 63/100\n",
            "536/536 [==============================] - 2s 3ms/step - loss: 0.3789 - accuracy: 0.8455 - val_loss: 0.3997 - val_accuracy: 0.8304\n",
            "Epoch 64/100\n",
            "536/536 [==============================] - 2s 3ms/step - loss: 0.3899 - accuracy: 0.8416 - val_loss: 0.3997 - val_accuracy: 0.8281\n",
            "Epoch 65/100\n",
            "536/536 [==============================] - 2s 3ms/step - loss: 0.3846 - accuracy: 0.8441 - val_loss: 0.3993 - val_accuracy: 0.8311\n",
            "Epoch 66/100\n",
            "536/536 [==============================] - 2s 3ms/step - loss: 0.3731 - accuracy: 0.8447 - val_loss: 0.3990 - val_accuracy: 0.8315\n",
            "Epoch 67/100\n",
            "536/536 [==============================] - 2s 3ms/step - loss: 0.3787 - accuracy: 0.8451 - val_loss: 0.3989 - val_accuracy: 0.8296\n",
            "Epoch 68/100\n",
            "536/536 [==============================] - 2s 3ms/step - loss: 0.3585 - accuracy: 0.8528 - val_loss: 0.3986 - val_accuracy: 0.8307\n",
            "Epoch 69/100\n",
            "536/536 [==============================] - 2s 3ms/step - loss: 0.3761 - accuracy: 0.8493 - val_loss: 0.3982 - val_accuracy: 0.8296\n",
            "Epoch 70/100\n",
            "536/536 [==============================] - 2s 3ms/step - loss: 0.3791 - accuracy: 0.8377 - val_loss: 0.3982 - val_accuracy: 0.8307\n",
            "Epoch 71/100\n",
            "536/536 [==============================] - 2s 3ms/step - loss: 0.3702 - accuracy: 0.8455 - val_loss: 0.3979 - val_accuracy: 0.8307\n",
            "Epoch 72/100\n",
            "536/536 [==============================] - 2s 3ms/step - loss: 0.3823 - accuracy: 0.8417 - val_loss: 0.3979 - val_accuracy: 0.8292\n",
            "Epoch 73/100\n",
            "536/536 [==============================] - 2s 3ms/step - loss: 0.3752 - accuracy: 0.8436 - val_loss: 0.3976 - val_accuracy: 0.8296\n",
            "Epoch 74/100\n",
            "536/536 [==============================] - 2s 3ms/step - loss: 0.3805 - accuracy: 0.8396 - val_loss: 0.3975 - val_accuracy: 0.8300\n",
            "Epoch 75/100\n",
            "536/536 [==============================] - 2s 3ms/step - loss: 0.3777 - accuracy: 0.8438 - val_loss: 0.3974 - val_accuracy: 0.8296\n",
            "Epoch 76/100\n",
            "536/536 [==============================] - 2s 3ms/step - loss: 0.3865 - accuracy: 0.8374 - val_loss: 0.3971 - val_accuracy: 0.8300\n",
            "Epoch 77/100\n",
            "536/536 [==============================] - 2s 3ms/step - loss: 0.3629 - accuracy: 0.8463 - val_loss: 0.3967 - val_accuracy: 0.8304\n",
            "Epoch 78/100\n",
            "536/536 [==============================] - 2s 3ms/step - loss: 0.3837 - accuracy: 0.8416 - val_loss: 0.3969 - val_accuracy: 0.8315\n",
            "Epoch 79/100\n",
            "536/536 [==============================] - 2s 3ms/step - loss: 0.3776 - accuracy: 0.8406 - val_loss: 0.3963 - val_accuracy: 0.8300\n",
            "Epoch 80/100\n",
            "536/536 [==============================] - 2s 3ms/step - loss: 0.3742 - accuracy: 0.8404 - val_loss: 0.3960 - val_accuracy: 0.8311\n",
            "Epoch 81/100\n",
            "536/536 [==============================] - 2s 3ms/step - loss: 0.3635 - accuracy: 0.8498 - val_loss: 0.3958 - val_accuracy: 0.8292\n",
            "Epoch 82/100\n",
            "536/536 [==============================] - 2s 3ms/step - loss: 0.3669 - accuracy: 0.8451 - val_loss: 0.3956 - val_accuracy: 0.8289\n",
            "Epoch 83/100\n",
            "536/536 [==============================] - 2s 3ms/step - loss: 0.3759 - accuracy: 0.8376 - val_loss: 0.3956 - val_accuracy: 0.8300\n",
            "Epoch 84/100\n",
            "536/536 [==============================] - 2s 3ms/step - loss: 0.3591 - accuracy: 0.8514 - val_loss: 0.3950 - val_accuracy: 0.8307\n",
            "Epoch 85/100\n",
            "536/536 [==============================] - 2s 3ms/step - loss: 0.3771 - accuracy: 0.8422 - val_loss: 0.3947 - val_accuracy: 0.8323\n",
            "Epoch 86/100\n",
            "536/536 [==============================] - 2s 3ms/step - loss: 0.3735 - accuracy: 0.8428 - val_loss: 0.3947 - val_accuracy: 0.8323\n",
            "Epoch 87/100\n",
            "536/536 [==============================] - 2s 3ms/step - loss: 0.3717 - accuracy: 0.8430 - val_loss: 0.3944 - val_accuracy: 0.8311\n",
            "Epoch 88/100\n",
            "536/536 [==============================] - 2s 3ms/step - loss: 0.3886 - accuracy: 0.8313 - val_loss: 0.3940 - val_accuracy: 0.8311\n",
            "Epoch 89/100\n",
            "536/536 [==============================] - 2s 3ms/step - loss: 0.3731 - accuracy: 0.8444 - val_loss: 0.3939 - val_accuracy: 0.8311\n",
            "Epoch 90/100\n",
            "536/536 [==============================] - 2s 3ms/step - loss: 0.3864 - accuracy: 0.8337 - val_loss: 0.3937 - val_accuracy: 0.8311\n",
            "Epoch 91/100\n",
            "536/536 [==============================] - 2s 3ms/step - loss: 0.3595 - accuracy: 0.8512 - val_loss: 0.3935 - val_accuracy: 0.8315\n",
            "Epoch 92/100\n",
            "536/536 [==============================] - 2s 3ms/step - loss: 0.3819 - accuracy: 0.8352 - val_loss: 0.3932 - val_accuracy: 0.8315\n",
            "Epoch 93/100\n",
            "536/536 [==============================] - 2s 3ms/step - loss: 0.3647 - accuracy: 0.8465 - val_loss: 0.3929 - val_accuracy: 0.8311\n",
            "Epoch 94/100\n",
            "536/536 [==============================] - 2s 3ms/step - loss: 0.3708 - accuracy: 0.8428 - val_loss: 0.3925 - val_accuracy: 0.8323\n",
            "Epoch 95/100\n",
            "536/536 [==============================] - 2s 3ms/step - loss: 0.3670 - accuracy: 0.8391 - val_loss: 0.3924 - val_accuracy: 0.8319\n",
            "Epoch 96/100\n",
            "536/536 [==============================] - 2s 3ms/step - loss: 0.3715 - accuracy: 0.8410 - val_loss: 0.3923 - val_accuracy: 0.8319\n",
            "Epoch 97/100\n",
            "536/536 [==============================] - 2s 3ms/step - loss: 0.3628 - accuracy: 0.8425 - val_loss: 0.3917 - val_accuracy: 0.8326\n",
            "Epoch 98/100\n",
            "536/536 [==============================] - 2s 3ms/step - loss: 0.3647 - accuracy: 0.8450 - val_loss: 0.3916 - val_accuracy: 0.8326\n",
            "Epoch 99/100\n",
            "536/536 [==============================] - 2s 3ms/step - loss: 0.3588 - accuracy: 0.8475 - val_loss: 0.3912 - val_accuracy: 0.8319\n",
            "Epoch 100/100\n",
            "536/536 [==============================] - 2s 3ms/step - loss: 0.3858 - accuracy: 0.8363 - val_loss: 0.3908 - val_accuracy: 0.8319\n"
          ],
          "name": "stdout"
        }
      ]
    },
    {
      "cell_type": "code",
      "metadata": {
        "colab": {
          "base_uri": "https://localhost:8080/"
        },
        "id": "6fRBVVGl3JKZ",
        "outputId": "35042a1a-925a-4b63-a465-ce6a2e613b60"
      },
      "source": [
        "classifier.summary()"
      ],
      "execution_count": 16,
      "outputs": [
        {
          "output_type": "stream",
          "text": [
            "Model: \"sequential_65\"\n",
            "_________________________________________________________________\n",
            "Layer (type)                 Output Shape              Param #   \n",
            "=================================================================\n",
            "dense_190 (Dense)            (None, 6)                 72        \n",
            "_________________________________________________________________\n",
            "dense_191 (Dense)            (None, 6)                 42        \n",
            "_________________________________________________________________\n",
            "dense_192 (Dense)            (None, 1)                 7         \n",
            "=================================================================\n",
            "Total params: 121\n",
            "Trainable params: 121\n",
            "Non-trainable params: 0\n",
            "_________________________________________________________________\n"
          ],
          "name": "stdout"
        }
      ]
    },
    {
      "cell_type": "code",
      "metadata": {
        "colab": {
          "base_uri": "https://localhost:8080/",
          "height": 590
        },
        "id": "PdAWmczKz4rw",
        "outputId": "1c291cb3-349b-471e-b1b1-2784805de227"
      },
      "source": [
        "\n",
        "# list all data in history\n",
        "\n",
        "print(model_history.history.keys())\n",
        "# summarize history for accuracy\n",
        "plt.plot(model_history.history['accuracy'])\n",
        "plt.plot(model_history.history['val_accuracy'])\n",
        "plt.title('model accuracy')\n",
        "plt.ylabel('accuracy')\n",
        "plt.xlabel('epoch')\n",
        "plt.legend(['train', 'test'], loc='upper left')\n",
        "plt.show()\n",
        "\n",
        "# summarize history for loss\n",
        "plt.plot(model_history.history['loss'])\n",
        "plt.plot(model_history.history['val_loss'])\n",
        "plt.title('model loss')\n",
        "plt.ylabel('loss')\n",
        "plt.xlabel('epoch')\n",
        "plt.legend(['train', 'test'], loc='upper left')\n",
        "plt.show()"
      ],
      "execution_count": 17,
      "outputs": [
        {
          "output_type": "stream",
          "text": [
            "dict_keys(['loss', 'accuracy', 'val_loss', 'val_accuracy'])\n"
          ],
          "name": "stdout"
        },
        {
          "output_type": "display_data",
          "data": {
            "image/png": "[encoded data removed]",
            "text/plain": [
              "<Figure size 432x288 with 1 Axes>"
            ]
          },
          "metadata": {
            "tags": [],
            "needs_background": "light"
          }
        },
        {
          "output_type": "display_data",
          "data": {
            "image/png": "[encoded data removed]",
            "text/plain": [
              "<Figure size 432x288 with 1 Axes>"
            ]
          },
          "metadata": {
            "tags": [],
            "needs_background": "light"
          }
        }
      ]
    },
    {
      "cell_type": "code",
      "metadata": {
        "colab": {
          "base_uri": "https://localhost:8080/"
        },
        "id": "qEGOwlqNz4L9",
        "outputId": "1d2090de-9078-4a10-be7b-92bd39c5efb7"
      },
      "source": [
        "\n",
        "# Part 3 - Making the predictions and evaluating the model\n",
        "\n",
        "# Predicting the Test set results\n",
        "y_pred = classifier.predict(X_test)\n",
        "y_pred = (y_pred > 0.5)\n",
        "\n",
        "# Making the Confusion Matrix\n",
        "from sklearn.metrics import confusion_matrix\n",
        "cm = confusion_matrix(y_test, y_pred)\n",
        "print(cm)\n",
        "# Calculate the Accuracy\n",
        "from sklearn.metrics import accuracy_score\n",
        "score=accuracy_score(y_pred,y_test)\n",
        "print(score)"
      ],
      "execution_count": 19,
      "outputs": [
        {
          "output_type": "stream",
          "text": [
            "[[1557   38]\n",
            " [ 256  149]]\n",
            "0.853\n"
          ],
          "name": "stdout"
        }
      ]
    },
    {
      "cell_type": "code",
      "metadata": {
        "colab": {
          "base_uri": "https://localhost:8080/"
        },
        "id": "N7VSiylW05HD",
        "outputId": "1ac5cf50-ea45-46c7-f755-6321e17eae65"
      },
      "source": [
        "# Create deep neural nets usung Dropout\n",
        "# Initialising the ANN\n",
        "classifier = Sequential()\n",
        "\n",
        "# Adding the input layer and the first hidden layer\n",
        "classifier.add(Dense(units = 10, kernel_initializer= 'he_uniform', activation='relu',input_dim = 11))\n",
        "classifier.add(Dropout(0.3))\n",
        "# Adding the second hidden layer\n",
        "classifier.add(Dense(units = 20, kernel_initializer = 'he_uniform', activation='relu'))\n",
        "classifier.add(Dropout(0.4))\n",
        "# Adding the third hidden layer\n",
        "classifier.add(Dense(units = 15, kernel_initializer = 'he_uniform', activation='relu'))\n",
        "classifier.add(Dropout(0.2))\n",
        "# Adding the output layer\n",
        "classifier.add(Dense(units = 1, kernel_initializer = 'glorot_uniform', activation = 'sigmoid'))\n",
        "\n",
        "# Compiling the ANN\n",
        "classifier.compile(optimizer = 'Adamax', loss = 'binary_crossentropy', metrics = ['accuracy'])\n",
        "# binary_crossentropy : output binary format\n",
        "\n",
        "\n",
        "# Fitting the ANN to the Training set\n",
        "model_history=classifier.fit(X_train, y_train,validation_split=0.33, batch_size = 10, epochs = 100)"
      ],
      "execution_count": 20,
      "outputs": [
        {
          "output_type": "stream",
          "text": [
            "Epoch 1/100\n",
            "536/536 [==============================] - 3s 4ms/step - loss: 1.0251 - accuracy: 0.3949 - val_loss: 0.5410 - val_accuracy: 0.7948\n",
            "Epoch 2/100\n",
            "536/536 [==============================] - 2s 3ms/step - loss: 0.5958 - accuracy: 0.7526 - val_loss: 0.5093 - val_accuracy: 0.7955\n",
            "Epoch 3/100\n",
            "536/536 [==============================] - 2s 3ms/step - loss: 0.5432 - accuracy: 0.7824 - val_loss: 0.4946 - val_accuracy: 0.7955\n",
            "Epoch 4/100\n",
            "536/536 [==============================] - 2s 3ms/step - loss: 0.5290 - accuracy: 0.7907 - val_loss: 0.4853 - val_accuracy: 0.7955\n",
            "Epoch 5/100\n",
            "536/536 [==============================] - 2s 3ms/step - loss: 0.4959 - accuracy: 0.7962 - val_loss: 0.4778 - val_accuracy: 0.7955\n",
            "Epoch 6/100\n",
            "536/536 [==============================] - 2s 4ms/step - loss: 0.4994 - accuracy: 0.7957 - val_loss: 0.4713 - val_accuracy: 0.7955\n",
            "Epoch 7/100\n",
            "536/536 [==============================] - 2s 3ms/step - loss: 0.4883 - accuracy: 0.7972 - val_loss: 0.4659 - val_accuracy: 0.7955\n",
            "Epoch 8/100\n",
            "536/536 [==============================] - 2s 4ms/step - loss: 0.4785 - accuracy: 0.8003 - val_loss: 0.4618 - val_accuracy: 0.7955\n",
            "Epoch 9/100\n",
            "536/536 [==============================] - 2s 4ms/step - loss: 0.4702 - accuracy: 0.8017 - val_loss: 0.4582 - val_accuracy: 0.7963\n",
            "Epoch 10/100\n",
            "536/536 [==============================] - 2s 4ms/step - loss: 0.4737 - accuracy: 0.7956 - val_loss: 0.4554 - val_accuracy: 0.7959\n",
            "Epoch 11/100\n",
            "536/536 [==============================] - 2s 3ms/step - loss: 0.4623 - accuracy: 0.8062 - val_loss: 0.4518 - val_accuracy: 0.7967\n",
            "Epoch 12/100\n",
            "536/536 [==============================] - 2s 4ms/step - loss: 0.4721 - accuracy: 0.7950 - val_loss: 0.4497 - val_accuracy: 0.7959\n",
            "Epoch 13/100\n",
            "536/536 [==============================] - 2s 3ms/step - loss: 0.4587 - accuracy: 0.8093 - val_loss: 0.4457 - val_accuracy: 0.7989\n",
            "Epoch 14/100\n",
            "536/536 [==============================] - 2s 3ms/step - loss: 0.4656 - accuracy: 0.7990 - val_loss: 0.4428 - val_accuracy: 0.7993\n",
            "Epoch 15/100\n",
            "536/536 [==============================] - 2s 3ms/step - loss: 0.4620 - accuracy: 0.7943 - val_loss: 0.4409 - val_accuracy: 0.8005\n",
            "Epoch 16/100\n",
            "536/536 [==============================] - 2s 3ms/step - loss: 0.4552 - accuracy: 0.8082 - val_loss: 0.4389 - val_accuracy: 0.8001\n",
            "Epoch 17/100\n",
            "536/536 [==============================] - 2s 3ms/step - loss: 0.4490 - accuracy: 0.8146 - val_loss: 0.4364 - val_accuracy: 0.8020\n",
            "Epoch 18/100\n",
            "536/536 [==============================] - 2s 3ms/step - loss: 0.4512 - accuracy: 0.8092 - val_loss: 0.4341 - val_accuracy: 0.8031\n",
            "Epoch 19/100\n",
            "536/536 [==============================] - 2s 3ms/step - loss: 0.4427 - accuracy: 0.8192 - val_loss: 0.4329 - val_accuracy: 0.8031\n",
            "Epoch 20/100\n",
            "536/536 [==============================] - 2s 3ms/step - loss: 0.4387 - accuracy: 0.8174 - val_loss: 0.4304 - val_accuracy: 0.8076\n",
            "Epoch 21/100\n",
            "536/536 [==============================] - 2s 3ms/step - loss: 0.4574 - accuracy: 0.7999 - val_loss: 0.4297 - val_accuracy: 0.8058\n",
            "Epoch 22/100\n",
            "536/536 [==============================] - 2s 3ms/step - loss: 0.4492 - accuracy: 0.8086 - val_loss: 0.4286 - val_accuracy: 0.8058\n",
            "Epoch 23/100\n",
            "536/536 [==============================] - 2s 3ms/step - loss: 0.4260 - accuracy: 0.8222 - val_loss: 0.4265 - val_accuracy: 0.8080\n",
            "Epoch 24/100\n",
            "536/536 [==============================] - 2s 3ms/step - loss: 0.4485 - accuracy: 0.8053 - val_loss: 0.4249 - val_accuracy: 0.8099\n",
            "Epoch 25/100\n",
            "536/536 [==============================] - 2s 4ms/step - loss: 0.4351 - accuracy: 0.8076 - val_loss: 0.4222 - val_accuracy: 0.8126\n",
            "Epoch 26/100\n",
            "536/536 [==============================] - 2s 3ms/step - loss: 0.4287 - accuracy: 0.8145 - val_loss: 0.4217 - val_accuracy: 0.8126\n",
            "Epoch 27/100\n",
            "536/536 [==============================] - 2s 4ms/step - loss: 0.4345 - accuracy: 0.8150 - val_loss: 0.4205 - val_accuracy: 0.8114\n",
            "Epoch 28/100\n",
            "536/536 [==============================] - 2s 3ms/step - loss: 0.4350 - accuracy: 0.8118 - val_loss: 0.4190 - val_accuracy: 0.8126\n",
            "Epoch 29/100\n",
            "536/536 [==============================] - 2s 4ms/step - loss: 0.4311 - accuracy: 0.8166 - val_loss: 0.4180 - val_accuracy: 0.8122\n",
            "Epoch 30/100\n",
            "536/536 [==============================] - 2s 3ms/step - loss: 0.4388 - accuracy: 0.8118 - val_loss: 0.4178 - val_accuracy: 0.8118\n",
            "Epoch 31/100\n",
            "536/536 [==============================] - 2s 4ms/step - loss: 0.4397 - accuracy: 0.8141 - val_loss: 0.4173 - val_accuracy: 0.8107\n",
            "Epoch 32/100\n",
            "536/536 [==============================] - 2s 3ms/step - loss: 0.4180 - accuracy: 0.8165 - val_loss: 0.4159 - val_accuracy: 0.8141\n",
            "Epoch 33/100\n",
            "536/536 [==============================] - 2s 3ms/step - loss: 0.4285 - accuracy: 0.8176 - val_loss: 0.4157 - val_accuracy: 0.8137\n",
            "Epoch 34/100\n",
            "536/536 [==============================] - 2s 3ms/step - loss: 0.4277 - accuracy: 0.8173 - val_loss: 0.4143 - val_accuracy: 0.8141\n",
            "Epoch 35/100\n",
            "536/536 [==============================] - 2s 4ms/step - loss: 0.4347 - accuracy: 0.8093 - val_loss: 0.4147 - val_accuracy: 0.8114\n",
            "Epoch 36/100\n",
            "536/536 [==============================] - 2s 4ms/step - loss: 0.4159 - accuracy: 0.8208 - val_loss: 0.4119 - val_accuracy: 0.8152\n",
            "Epoch 37/100\n",
            "536/536 [==============================] - 2s 4ms/step - loss: 0.4180 - accuracy: 0.8205 - val_loss: 0.4110 - val_accuracy: 0.8160\n",
            "Epoch 38/100\n",
            "536/536 [==============================] - 2s 3ms/step - loss: 0.4202 - accuracy: 0.8172 - val_loss: 0.4095 - val_accuracy: 0.8183\n",
            "Epoch 39/100\n",
            "536/536 [==============================] - 2s 3ms/step - loss: 0.4099 - accuracy: 0.8248 - val_loss: 0.4102 - val_accuracy: 0.8160\n",
            "Epoch 40/100\n",
            "536/536 [==============================] - 2s 3ms/step - loss: 0.4162 - accuracy: 0.8252 - val_loss: 0.4102 - val_accuracy: 0.8156\n",
            "Epoch 41/100\n",
            "536/536 [==============================] - 2s 4ms/step - loss: 0.4171 - accuracy: 0.8201 - val_loss: 0.4093 - val_accuracy: 0.8164\n",
            "Epoch 42/100\n",
            "536/536 [==============================] - 2s 4ms/step - loss: 0.4219 - accuracy: 0.8220 - val_loss: 0.4083 - val_accuracy: 0.8186\n",
            "Epoch 43/100\n",
            "536/536 [==============================] - 2s 3ms/step - loss: 0.4073 - accuracy: 0.8333 - val_loss: 0.4082 - val_accuracy: 0.8167\n",
            "Epoch 44/100\n",
            "536/536 [==============================] - 2s 3ms/step - loss: 0.4128 - accuracy: 0.8197 - val_loss: 0.4078 - val_accuracy: 0.8164\n",
            "Epoch 45/100\n",
            "536/536 [==============================] - 2s 3ms/step - loss: 0.4070 - accuracy: 0.8264 - val_loss: 0.4064 - val_accuracy: 0.8183\n",
            "Epoch 46/100\n",
            "536/536 [==============================] - 2s 4ms/step - loss: 0.4195 - accuracy: 0.8245 - val_loss: 0.4066 - val_accuracy: 0.8167\n",
            "Epoch 47/100\n",
            "536/536 [==============================] - 2s 4ms/step - loss: 0.4287 - accuracy: 0.8129 - val_loss: 0.4052 - val_accuracy: 0.8186\n",
            "Epoch 48/100\n",
            "536/536 [==============================] - 2s 3ms/step - loss: 0.4266 - accuracy: 0.8216 - val_loss: 0.4055 - val_accuracy: 0.8171\n",
            "Epoch 49/100\n",
            "536/536 [==============================] - 2s 3ms/step - loss: 0.4074 - accuracy: 0.8326 - val_loss: 0.4041 - val_accuracy: 0.8198\n",
            "Epoch 50/100\n",
            "536/536 [==============================] - 2s 4ms/step - loss: 0.4158 - accuracy: 0.8294 - val_loss: 0.4032 - val_accuracy: 0.8198\n",
            "Epoch 51/100\n",
            "536/536 [==============================] - 2s 3ms/step - loss: 0.4324 - accuracy: 0.8155 - val_loss: 0.4030 - val_accuracy: 0.8186\n",
            "Epoch 52/100\n",
            "536/536 [==============================] - 2s 3ms/step - loss: 0.3970 - accuracy: 0.8370 - val_loss: 0.4043 - val_accuracy: 0.8152\n",
            "Epoch 53/100\n",
            "536/536 [==============================] - 2s 3ms/step - loss: 0.4104 - accuracy: 0.8255 - val_loss: 0.4017 - val_accuracy: 0.8205\n",
            "Epoch 54/100\n",
            "536/536 [==============================] - 2s 4ms/step - loss: 0.4117 - accuracy: 0.8250 - val_loss: 0.4010 - val_accuracy: 0.8205\n",
            "Epoch 55/100\n",
            "536/536 [==============================] - 2s 3ms/step - loss: 0.4113 - accuracy: 0.8321 - val_loss: 0.3999 - val_accuracy: 0.8236\n",
            "Epoch 56/100\n",
            "536/536 [==============================] - 2s 3ms/step - loss: 0.3982 - accuracy: 0.8338 - val_loss: 0.3985 - val_accuracy: 0.8243\n",
            "Epoch 57/100\n",
            "536/536 [==============================] - 2s 4ms/step - loss: 0.3978 - accuracy: 0.8345 - val_loss: 0.3985 - val_accuracy: 0.8236\n",
            "Epoch 58/100\n",
            "536/536 [==============================] - 2s 3ms/step - loss: 0.4051 - accuracy: 0.8272 - val_loss: 0.3967 - val_accuracy: 0.8270\n",
            "Epoch 59/100\n",
            "536/536 [==============================] - 2s 3ms/step - loss: 0.3995 - accuracy: 0.8333 - val_loss: 0.3954 - val_accuracy: 0.8277\n",
            "Epoch 60/100\n",
            "536/536 [==============================] - 2s 4ms/step - loss: 0.4034 - accuracy: 0.8249 - val_loss: 0.3961 - val_accuracy: 0.8258\n",
            "Epoch 61/100\n",
            "536/536 [==============================] - 2s 4ms/step - loss: 0.3940 - accuracy: 0.8328 - val_loss: 0.3954 - val_accuracy: 0.8277\n",
            "Epoch 62/100\n",
            "536/536 [==============================] - 2s 3ms/step - loss: 0.4012 - accuracy: 0.8285 - val_loss: 0.3954 - val_accuracy: 0.8254\n",
            "Epoch 63/100\n",
            "536/536 [==============================] - 2s 4ms/step - loss: 0.4030 - accuracy: 0.8292 - val_loss: 0.3954 - val_accuracy: 0.8243\n",
            "Epoch 64/100\n",
            "536/536 [==============================] - 2s 3ms/step - loss: 0.3958 - accuracy: 0.8296 - val_loss: 0.3952 - val_accuracy: 0.8247\n",
            "Epoch 65/100\n",
            "536/536 [==============================] - 2s 4ms/step - loss: 0.3847 - accuracy: 0.8458 - val_loss: 0.3923 - val_accuracy: 0.8296\n",
            "Epoch 66/100\n",
            "536/536 [==============================] - 2s 3ms/step - loss: 0.3911 - accuracy: 0.8409 - val_loss: 0.3910 - val_accuracy: 0.8315\n",
            "Epoch 67/100\n",
            "536/536 [==============================] - 2s 3ms/step - loss: 0.3979 - accuracy: 0.8308 - val_loss: 0.3912 - val_accuracy: 0.8307\n",
            "Epoch 68/100\n",
            "536/536 [==============================] - 2s 3ms/step - loss: 0.4018 - accuracy: 0.8311 - val_loss: 0.3890 - val_accuracy: 0.8326\n",
            "Epoch 69/100\n",
            "536/536 [==============================] - 2s 3ms/step - loss: 0.4039 - accuracy: 0.8312 - val_loss: 0.3884 - val_accuracy: 0.8338\n",
            "Epoch 70/100\n",
            "536/536 [==============================] - 2s 3ms/step - loss: 0.3964 - accuracy: 0.8274 - val_loss: 0.3882 - val_accuracy: 0.8342\n",
            "Epoch 71/100\n",
            "536/536 [==============================] - 2s 4ms/step - loss: 0.3781 - accuracy: 0.8451 - val_loss: 0.3882 - val_accuracy: 0.8342\n",
            "Epoch 72/100\n",
            "536/536 [==============================] - 2s 4ms/step - loss: 0.3930 - accuracy: 0.8339 - val_loss: 0.3885 - val_accuracy: 0.8338\n",
            "Epoch 73/100\n",
            "536/536 [==============================] - 2s 4ms/step - loss: 0.3898 - accuracy: 0.8393 - val_loss: 0.3879 - val_accuracy: 0.8338\n",
            "Epoch 74/100\n",
            "536/536 [==============================] - 2s 4ms/step - loss: 0.4007 - accuracy: 0.8308 - val_loss: 0.3879 - val_accuracy: 0.8330\n",
            "Epoch 75/100\n",
            "536/536 [==============================] - 2s 3ms/step - loss: 0.3899 - accuracy: 0.8336 - val_loss: 0.3869 - val_accuracy: 0.8338\n",
            "Epoch 76/100\n",
            "536/536 [==============================] - 2s 3ms/step - loss: 0.3981 - accuracy: 0.8332 - val_loss: 0.3885 - val_accuracy: 0.8307\n",
            "Epoch 77/100\n",
            "536/536 [==============================] - 2s 4ms/step - loss: 0.4080 - accuracy: 0.8293 - val_loss: 0.3880 - val_accuracy: 0.8304\n",
            "Epoch 78/100\n",
            "536/536 [==============================] - 2s 3ms/step - loss: 0.4039 - accuracy: 0.8320 - val_loss: 0.3886 - val_accuracy: 0.8300\n",
            "Epoch 79/100\n",
            "536/536 [==============================] - 2s 4ms/step - loss: 0.3846 - accuracy: 0.8428 - val_loss: 0.3874 - val_accuracy: 0.8311\n",
            "Epoch 80/100\n",
            "536/536 [==============================] - 2s 4ms/step - loss: 0.3825 - accuracy: 0.8404 - val_loss: 0.3878 - val_accuracy: 0.8304\n",
            "Epoch 81/100\n",
            "536/536 [==============================] - 2s 3ms/step - loss: 0.3894 - accuracy: 0.8399 - val_loss: 0.3850 - val_accuracy: 0.8330\n",
            "Epoch 82/100\n",
            "536/536 [==============================] - 2s 3ms/step - loss: 0.3954 - accuracy: 0.8388 - val_loss: 0.3849 - val_accuracy: 0.8319\n",
            "Epoch 83/100\n",
            "536/536 [==============================] - 2s 4ms/step - loss: 0.4002 - accuracy: 0.8377 - val_loss: 0.3851 - val_accuracy: 0.8323\n",
            "Epoch 84/100\n",
            "536/536 [==============================] - 2s 3ms/step - loss: 0.4097 - accuracy: 0.8262 - val_loss: 0.3837 - val_accuracy: 0.8357\n",
            "Epoch 85/100\n",
            "536/536 [==============================] - 2s 3ms/step - loss: 0.3936 - accuracy: 0.8437 - val_loss: 0.3838 - val_accuracy: 0.8357\n",
            "Epoch 86/100\n",
            "536/536 [==============================] - 2s 4ms/step - loss: 0.3877 - accuracy: 0.8443 - val_loss: 0.3825 - val_accuracy: 0.8372\n",
            "Epoch 87/100\n",
            "536/536 [==============================] - 2s 4ms/step - loss: 0.4035 - accuracy: 0.8274 - val_loss: 0.3832 - val_accuracy: 0.8353\n",
            "Epoch 88/100\n",
            "536/536 [==============================] - 2s 4ms/step - loss: 0.3914 - accuracy: 0.8371 - val_loss: 0.3822 - val_accuracy: 0.8364\n",
            "Epoch 89/100\n",
            "536/536 [==============================] - 2s 4ms/step - loss: 0.3798 - accuracy: 0.8342 - val_loss: 0.3817 - val_accuracy: 0.8379\n",
            "Epoch 90/100\n",
            "536/536 [==============================] - 2s 3ms/step - loss: 0.3985 - accuracy: 0.8298 - val_loss: 0.3823 - val_accuracy: 0.8360\n",
            "Epoch 91/100\n",
            "536/536 [==============================] - 2s 4ms/step - loss: 0.3985 - accuracy: 0.8262 - val_loss: 0.3815 - val_accuracy: 0.8364\n",
            "Epoch 92/100\n",
            "536/536 [==============================] - 2s 4ms/step - loss: 0.4083 - accuracy: 0.8328 - val_loss: 0.3817 - val_accuracy: 0.8353\n",
            "Epoch 93/100\n",
            "536/536 [==============================] - 2s 4ms/step - loss: 0.4079 - accuracy: 0.8272 - val_loss: 0.3819 - val_accuracy: 0.8338\n",
            "Epoch 94/100\n",
            "536/536 [==============================] - 2s 4ms/step - loss: 0.3912 - accuracy: 0.8355 - val_loss: 0.3798 - val_accuracy: 0.8383\n",
            "Epoch 95/100\n",
            "536/536 [==============================] - 2s 3ms/step - loss: 0.3842 - accuracy: 0.8360 - val_loss: 0.3795 - val_accuracy: 0.8372\n",
            "Epoch 96/100\n",
            "536/536 [==============================] - 2s 3ms/step - loss: 0.3946 - accuracy: 0.8336 - val_loss: 0.3803 - val_accuracy: 0.8357\n",
            "Epoch 97/100\n",
            "536/536 [==============================] - 2s 4ms/step - loss: 0.3813 - accuracy: 0.8369 - val_loss: 0.3804 - val_accuracy: 0.8353\n",
            "Epoch 98/100\n",
            "536/536 [==============================] - 2s 4ms/step - loss: 0.3978 - accuracy: 0.8382 - val_loss: 0.3800 - val_accuracy: 0.8364\n",
            "Epoch 99/100\n",
            "536/536 [==============================] - 2s 3ms/step - loss: 0.4023 - accuracy: 0.8299 - val_loss: 0.3790 - val_accuracy: 0.8376\n",
            "Epoch 100/100\n",
            "536/536 [==============================] - 2s 3ms/step - loss: 0.3935 - accuracy: 0.8289 - val_loss: 0.3803 - val_accuracy: 0.8326\n"
          ],
          "name": "stdout"
        }
      ]
    },
    {
      "cell_type": "code",
      "metadata": {
        "colab": {
          "base_uri": "https://localhost:8080/"
        },
        "id": "6CnRyqnW68XB",
        "outputId": "1a74cfd5-62b9-47b2-bb7e-342f9a4ca48a"
      },
      "source": [
        "classifier.summary()"
      ],
      "execution_count": 23,
      "outputs": [
        {
          "output_type": "stream",
          "text": [
            "Model: \"sequential_66\"\n",
            "_________________________________________________________________\n",
            "Layer (type)                 Output Shape              Param #   \n",
            "=================================================================\n",
            "dense_193 (Dense)            (None, 10)                120       \n",
            "_________________________________________________________________\n",
            "dropout_123 (Dropout)        (None, 10)                0         \n",
            "_________________________________________________________________\n",
            "dense_194 (Dense)            (None, 20)                220       \n",
            "_________________________________________________________________\n",
            "dropout_124 (Dropout)        (None, 20)                0         \n",
            "_________________________________________________________________\n",
            "dense_195 (Dense)            (None, 15)                315       \n",
            "_________________________________________________________________\n",
            "dropout_125 (Dropout)        (None, 15)                0         \n",
            "_________________________________________________________________\n",
            "dense_196 (Dense)            (None, 1)                 16        \n",
            "=================================================================\n",
            "Total params: 671\n",
            "Trainable params: 671\n",
            "Non-trainable params: 0\n",
            "_________________________________________________________________\n"
          ],
          "name": "stdout"
        }
      ]
    },
    {
      "cell_type": "code",
      "metadata": {
        "colab": {
          "base_uri": "https://localhost:8080/",
          "height": 590
        },
        "id": "lHtFScEu05CS",
        "outputId": "53e938f3-775c-4c32-88b5-16a9a0745483"
      },
      "source": [
        "# Model History Graph after adding Dropout and third layer add\n",
        "\n",
        "print(model_history.history.keys())\n",
        "# summarize history for accuracy\n",
        "plt.plot(model_history.history['accuracy'])\n",
        "plt.plot(model_history.history['val_accuracy'])\n",
        "plt.title('model accuracy')\n",
        "plt.ylabel('accuracy')\n",
        "plt.xlabel('epoch')\n",
        "plt.legend(['train', 'test'], loc='upper left')\n",
        "plt.show()\n",
        "\n",
        "# summarize history for loss\n",
        "plt.plot(model_history.history['loss'])\n",
        "plt.plot(model_history.history['val_loss'])\n",
        "plt.title('model loss')\n",
        "plt.ylabel('loss')\n",
        "plt.xlabel('epoch')\n",
        "plt.legend(['train', 'test'], loc='upper left')\n",
        "plt.show()"
      ],
      "execution_count": 21,
      "outputs": [
        {
          "output_type": "stream",
          "text": [
            "dict_keys(['loss', 'accuracy', 'val_loss', 'val_accuracy'])\n"
          ],
          "name": "stdout"
        },
        {
          "output_type": "display_data",
          "data": {
            "image/png": "[encoded data removed]",
            "text/plain": [
              "<Figure size 432x288 with 1 Axes>"
            ]
          },
          "metadata": {
            "tags": [],
            "needs_background": "light"
          }
        },
        {
          "output_type": "display_data",
          "data": {
            "image/png": "[encoded data removed]",
            "text/plain": [
              "<Figure size 432x288 with 1 Axes>"
            ]
          },
          "metadata": {
            "tags": [],
            "needs_background": "light"
          }
        }
      ]
    },
    {
      "cell_type": "code",
      "metadata": {
        "colab": {
          "base_uri": "https://localhost:8080/"
        },
        "id": "sD1BjX-v049H",
        "outputId": "607a9ff6-6a74-41ca-cfaf-60a5d31c03ef"
      },
      "source": [
        "# Part 3 - Making the predictions and evaluating the model\n",
        "\n",
        "# Predicting the Test set results\n",
        "y_pred = classifier.predict(X_test)\n",
        "y_pred = (y_pred > 0.5)\n",
        "\n",
        "# Making the Confusion Matrix\n",
        "from sklearn.metrics import confusion_matrix\n",
        "cm = confusion_matrix(y_test, y_pred)\n",
        "print(cm)\n",
        "# Calculate the Accuracy\n",
        "from sklearn.metrics import accuracy_score\n",
        "score=accuracy_score(y_pred,y_test)\n",
        "print(score)"
      ],
      "execution_count": 22,
      "outputs": [
        {
          "output_type": "stream",
          "text": [
            "[[1581   14]\n",
            " [ 298  107]]\n",
            "0.844\n"
          ],
          "name": "stdout"
        }
      ]
    },
    {
      "cell_type": "code",
      "metadata": {
        "id": "iobFQJOd6Hbc"
      },
      "source": [
        ""
      ],
      "execution_count": null,
      "outputs": []
    },
    {
      "cell_type": "code",
      "metadata": {
        "id": "wJfL-7OIzKtw"
      },
      "source": [
        "## Perform Hyperparameter Optimization\n",
        "\n",
        "from keras.wrappers.scikit_learn import KerasClassifier\n",
        "from sklearn.model_selection import GridSearchCV\n",
        "\n",
        "from keras.models import Sequential\n",
        "from keras.layers import Dense, Activation, Embedding, Flatten, LeakyReLU, BatchNormalization, Dropout\n",
        "from keras.activations import relu, sigmoid"
      ],
      "execution_count": 4,
      "outputs": []
    },
    {
      "cell_type": "code",
      "metadata": {
        "colab": {
          "base_uri": "https://localhost:8080/"
        },
        "id": "EhvGceoNy_8q",
        "outputId": "a5aa9720-09b0-477c-eb0a-a8697bdf08e4"
      },
      "source": [
        "\n",
        "def create_model(layers, activation):\n",
        "    model = Sequential()\n",
        "    for i, nodes in enumerate(layers):\n",
        "        if i==0:\n",
        "            model.add(Dense(nodes,input_dim=X_train.shape[1]))\n",
        "            model.add(Activation(activation))\n",
        "            model.add(Dropout(0.3))\n",
        "        else:\n",
        "            model.add(Dense(nodes))\n",
        "            model.add(Activation(activation))\n",
        "            model.add(Dropout(0.3))\n",
        "            \n",
        "    model.add(Dense(units = 1, kernel_initializer= 'glorot_uniform', activation = 'sigmoid')) # Note: no activation beyond this point\n",
        "    \n",
        "    model.compile(optimizer='adam', loss='binary_crossentropy',metrics=['accuracy'])\n",
        "    return model\n",
        "    \n",
        "model = KerasClassifier(build_fn=create_model, verbose=0)\n",
        "\n",
        "\n",
        "layers = [[20], [40, 20], [45, 30, 15]]\n",
        "activations = ['sigmoid', 'relu']\n",
        "param_grid = dict(layers=layers, activation=activations, batch_size = [128, 256], epochs=[30])\n",
        "grid = GridSearchCV(estimator=model, param_grid=param_grid,cv=5)\n",
        "\n",
        "grid_result = grid.fit(X_train, y_train)\n",
        "\n",
        "print([grid_result.best_score_,grid_result.best_params_])"
      ],
      "execution_count": 5,
      "outputs": [
        {
          "output_type": "stream",
          "text": [
            "[0.8553750038146972, {'activation': 'relu', 'batch_size': 128, 'epochs': 30, 'layers': [45, 30, 15]}]\n"
          ],
          "name": "stdout"
        }
      ]
    },
    {
      "cell_type": "code",
      "metadata": {
        "colab": {
          "base_uri": "https://localhost:8080/"
        },
        "id": "O65bXK3t6KRa",
        "outputId": "2aeb161e-34b7-4e46-80c0-b4167b25498a"
      },
      "source": [
        "# Initialising the ANN\n",
        "classifier = Sequential()\n",
        "\n",
        "# Adding the input layer and the first hidden layer\n",
        "classifier.add(Dense(units = 45, kernel_initializer= 'he_uniform', activation='relu',input_dim = 11))\n",
        "\n",
        "# Adding the second hidden layer\n",
        "classifier.add(Dense(units = 30, kernel_initializer = 'he_uniform', activation='relu'))\n",
        "\n",
        "# Adding the second hidden layer\n",
        "classifier.add(Dense(units = 15, kernel_initializer = 'he_uniform', activation='relu'))\n",
        "\n",
        "# Adding the output layer\n",
        "classifier.add(Dense(units = 1, kernel_initializer = 'glorot_uniform', activation = 'sigmoid'))\n",
        "\n",
        "# Compiling the ANN\n",
        "classifier.compile(optimizer = 'Adamax', loss = 'binary_crossentropy', metrics = ['accuracy'])\n",
        "# binary_crossentropy : output binary format\n",
        "\n",
        "\n",
        "# Fitting the ANN to the Training set\n",
        "model_history=classifier.fit(X_train, y_train,validation_split=0.33, batch_size = 128, epochs = 30)"
      ],
      "execution_count": 24,
      "outputs": [
        {
          "output_type": "stream",
          "text": [
            "Epoch 1/30\n",
            "42/42 [==============================] - 1s 9ms/step - loss: 0.5042 - accuracy: 0.8004 - val_loss: 0.4864 - val_accuracy: 0.7978\n",
            "Epoch 2/30\n",
            "42/42 [==============================] - 0s 4ms/step - loss: 0.4725 - accuracy: 0.7982 - val_loss: 0.4699 - val_accuracy: 0.7967\n",
            "Epoch 3/30\n",
            "42/42 [==============================] - 0s 4ms/step - loss: 0.4620 - accuracy: 0.7898 - val_loss: 0.4603 - val_accuracy: 0.7967\n",
            "Epoch 4/30\n",
            "42/42 [==============================] - 0s 3ms/step - loss: 0.4494 - accuracy: 0.7941 - val_loss: 0.4532 - val_accuracy: 0.7986\n",
            "Epoch 5/30\n",
            "42/42 [==============================] - 0s 4ms/step - loss: 0.4390 - accuracy: 0.7995 - val_loss: 0.4483 - val_accuracy: 0.8012\n",
            "Epoch 6/30\n",
            "42/42 [==============================] - 0s 4ms/step - loss: 0.4318 - accuracy: 0.8121 - val_loss: 0.4448 - val_accuracy: 0.8016\n",
            "Epoch 7/30\n",
            "42/42 [==============================] - 0s 4ms/step - loss: 0.4272 - accuracy: 0.8110 - val_loss: 0.4421 - val_accuracy: 0.8031\n",
            "Epoch 8/30\n",
            "42/42 [==============================] - 0s 3ms/step - loss: 0.4260 - accuracy: 0.8155 - val_loss: 0.4395 - val_accuracy: 0.7997\n",
            "Epoch 9/30\n",
            "42/42 [==============================] - 0s 4ms/step - loss: 0.4221 - accuracy: 0.8123 - val_loss: 0.4373 - val_accuracy: 0.8008\n",
            "Epoch 10/30\n",
            "42/42 [==============================] - 0s 4ms/step - loss: 0.4099 - accuracy: 0.8149 - val_loss: 0.4353 - val_accuracy: 0.8020\n",
            "Epoch 11/30\n",
            "42/42 [==============================] - 0s 4ms/step - loss: 0.4188 - accuracy: 0.8090 - val_loss: 0.4328 - val_accuracy: 0.8031\n",
            "Epoch 12/30\n",
            "42/42 [==============================] - 0s 3ms/step - loss: 0.3987 - accuracy: 0.8261 - val_loss: 0.4304 - val_accuracy: 0.8039\n",
            "Epoch 13/30\n",
            "42/42 [==============================] - 0s 4ms/step - loss: 0.4060 - accuracy: 0.8233 - val_loss: 0.4291 - val_accuracy: 0.8080\n",
            "Epoch 14/30\n",
            "42/42 [==============================] - 0s 3ms/step - loss: 0.3989 - accuracy: 0.8252 - val_loss: 0.4264 - val_accuracy: 0.8069\n",
            "Epoch 15/30\n",
            "42/42 [==============================] - 0s 4ms/step - loss: 0.3896 - accuracy: 0.8280 - val_loss: 0.4237 - val_accuracy: 0.8058\n",
            "Epoch 16/30\n",
            "42/42 [==============================] - 0s 3ms/step - loss: 0.3947 - accuracy: 0.8250 - val_loss: 0.4215 - val_accuracy: 0.8088\n",
            "Epoch 17/30\n",
            "42/42 [==============================] - 0s 3ms/step - loss: 0.3798 - accuracy: 0.8413 - val_loss: 0.4188 - val_accuracy: 0.8088\n",
            "Epoch 18/30\n",
            "42/42 [==============================] - 0s 4ms/step - loss: 0.3884 - accuracy: 0.8339 - val_loss: 0.4170 - val_accuracy: 0.8122\n",
            "Epoch 19/30\n",
            "42/42 [==============================] - 0s 3ms/step - loss: 0.3856 - accuracy: 0.8361 - val_loss: 0.4156 - val_accuracy: 0.8141\n",
            "Epoch 20/30\n",
            "42/42 [==============================] - 0s 3ms/step - loss: 0.3840 - accuracy: 0.8440 - val_loss: 0.4115 - val_accuracy: 0.8167\n",
            "Epoch 21/30\n",
            "42/42 [==============================] - 0s 3ms/step - loss: 0.3877 - accuracy: 0.8375 - val_loss: 0.4096 - val_accuracy: 0.8183\n",
            "Epoch 22/30\n",
            "42/42 [==============================] - 0s 5ms/step - loss: 0.3819 - accuracy: 0.8358 - val_loss: 0.4069 - val_accuracy: 0.8209\n",
            "Epoch 23/30\n",
            "42/42 [==============================] - 0s 4ms/step - loss: 0.3722 - accuracy: 0.8403 - val_loss: 0.4047 - val_accuracy: 0.8224\n",
            "Epoch 24/30\n",
            "42/42 [==============================] - 0s 3ms/step - loss: 0.3573 - accuracy: 0.8510 - val_loss: 0.4017 - val_accuracy: 0.8247\n",
            "Epoch 25/30\n",
            "42/42 [==============================] - 0s 4ms/step - loss: 0.3747 - accuracy: 0.8427 - val_loss: 0.3992 - val_accuracy: 0.8262\n",
            "Epoch 26/30\n",
            "42/42 [==============================] - 0s 4ms/step - loss: 0.3599 - accuracy: 0.8499 - val_loss: 0.3972 - val_accuracy: 0.8285\n",
            "Epoch 27/30\n",
            "42/42 [==============================] - 0s 3ms/step - loss: 0.3650 - accuracy: 0.8457 - val_loss: 0.3945 - val_accuracy: 0.8296\n",
            "Epoch 28/30\n",
            "42/42 [==============================] - 0s 3ms/step - loss: 0.3536 - accuracy: 0.8555 - val_loss: 0.3926 - val_accuracy: 0.8304\n",
            "Epoch 29/30\n",
            "42/42 [==============================] - 0s 3ms/step - loss: 0.3382 - accuracy: 0.8634 - val_loss: 0.3905 - val_accuracy: 0.8326\n",
            "Epoch 30/30\n",
            "42/42 [==============================] - 0s 4ms/step - loss: 0.3573 - accuracy: 0.8511 - val_loss: 0.3884 - val_accuracy: 0.8364\n"
          ],
          "name": "stdout"
        }
      ]
    },
    {
      "cell_type": "code",
      "metadata": {
        "colab": {
          "base_uri": "https://localhost:8080/"
        },
        "id": "ouNDy4dd6J3t",
        "outputId": "85fa4bd0-ca52-4da2-840d-34e9edb6f59b"
      },
      "source": [
        "classifier.summary()"
      ],
      "execution_count": 25,
      "outputs": [
        {
          "output_type": "stream",
          "text": [
            "Model: \"sequential_67\"\n",
            "_________________________________________________________________\n",
            "Layer (type)                 Output Shape              Param #   \n",
            "=================================================================\n",
            "dense_197 (Dense)            (None, 45)                540       \n",
            "_________________________________________________________________\n",
            "dense_198 (Dense)            (None, 30)                1380      \n",
            "_________________________________________________________________\n",
            "dense_199 (Dense)            (None, 15)                465       \n",
            "_________________________________________________________________\n",
            "dense_200 (Dense)            (None, 1)                 16        \n",
            "=================================================================\n",
            "Total params: 2,401\n",
            "Trainable params: 2,401\n",
            "Non-trainable params: 0\n",
            "_________________________________________________________________\n"
          ],
          "name": "stdout"
        }
      ]
    },
    {
      "cell_type": "code",
      "metadata": {
        "colab": {
          "base_uri": "https://localhost:8080/",
          "height": 590
        },
        "id": "InlQhx6B7-jM",
        "outputId": "e1b0a103-31c6-441f-a810-d74e8f7e9476"
      },
      "source": [
        "# Model History Graph after adding Parameter which get from parameter tuning\n",
        "\n",
        "print(model_history.history.keys())\n",
        "# summarize history for accuracy\n",
        "plt.plot(model_history.history['accuracy'])\n",
        "plt.plot(model_history.history['val_accuracy'])\n",
        "plt.title('model accuracy')\n",
        "plt.ylabel('accuracy')\n",
        "plt.xlabel('epoch')\n",
        "plt.legend(['train', 'test'], loc='upper left')\n",
        "plt.show()\n",
        "\n",
        "# summarize history for loss\n",
        "plt.plot(model_history.history['loss'])\n",
        "plt.plot(model_history.history['val_loss'])\n",
        "plt.title('model loss')\n",
        "plt.ylabel('loss')\n",
        "plt.xlabel('epoch')\n",
        "plt.legend(['train', 'test'], loc='upper left')\n",
        "plt.show()"
      ],
      "execution_count": 26,
      "outputs": [
        {
          "output_type": "stream",
          "text": [
            "dict_keys(['loss', 'accuracy', 'val_loss', 'val_accuracy'])\n"
          ],
          "name": "stdout"
        },
        {
          "output_type": "display_data",
          "data": {
            "image/png": "[encoded data removed]",
            "text/plain": [
              "<Figure size 432x288 with 1 Axes>"
            ]
          },
          "metadata": {
            "tags": [],
            "needs_background": "light"
          }
        },
        {
          "output_type": "display_data",
          "data": {
            "image/png": "[encoded data removed]",
            "text/plain": [
              "<Figure size 432x288 with 1 Axes>"
            ]
          },
          "metadata": {
            "tags": [],
            "needs_background": "light"
          }
        }
      ]
    },
    {
      "cell_type": "code",
      "metadata": {
        "colab": {
          "base_uri": "https://localhost:8080/"
        },
        "id": "0nBqoKEE8Wb2",
        "outputId": "1b7a7194-0687-4728-c1ef-fd142390faf9"
      },
      "source": [
        "# Part 3 - Making the predictions and evaluating the model\n",
        "\n",
        "# Predicting the Test set results\n",
        "y_pred = classifier.predict(X_test)\n",
        "y_pred = (y_pred > 0.5)\n",
        "\n",
        "# Making the Confusion Matrix\n",
        "from sklearn.metrics import confusion_matrix\n",
        "cm = confusion_matrix(y_test, y_pred)\n",
        "print(cm)\n",
        "# Calculate the Accuracy\n",
        "from sklearn.metrics import accuracy_score\n",
        "score=accuracy_score(y_pred,y_test)\n",
        "print(score)"
      ],
      "execution_count": 27,
      "outputs": [
        {
          "output_type": "stream",
          "text": [
            "[[1517   78]\n",
            " [ 229  176]]\n",
            "0.8465\n"
          ],
          "name": "stdout"
        }
      ]
    },
    {
      "cell_type": "code",
      "metadata": {
        "id": "gb2uKSvK8jHk"
      },
      "source": [
        ""
      ],
      "execution_count": null,
      "outputs": []
    }
  ]
}