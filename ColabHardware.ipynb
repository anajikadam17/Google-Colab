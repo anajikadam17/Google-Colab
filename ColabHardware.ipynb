{
  "nbformat": 4,
  "nbformat_minor": 0,
  "metadata": {
    "colab": {
      "name": "ColabHardware.ipynb",
      "provenance": [],
      "mount_file_id": "1t6zjVOjOTvH3baf5LOfKcTZ3xfpQ538y",
      "authorship_tag": "ABX9TyMqzfKUAzKUKlJJ1i9qlzly",
      "include_colab_link": true
    },
    "kernelspec": {
      "name": "python3",
      "display_name": "Python 3"
    },
    "language_info": {
      "name": "python"
    },
    "accelerator": "GPU"
  },
  "cells": [
    {
      "cell_type": "markdown",
      "metadata": {
        "id": "view-in-github",
        "colab_type": "text"
      },
      "source": [
        "<a href=\"https://colab.research.google.com/github/anajikadam17/Google-Colab/blob/main/ColabHardware.ipynb\" target=\"_parent\"><img src=\"https://colab.research.google.com/assets/colab-badge.svg\" alt=\"Open In Colab\"/></a>"
      ]
    },
    {
      "cell_type": "code",
      "metadata": {
        "colab": {
          "base_uri": "https://localhost:8080/",
          "height": 35
        },
        "id": "NgRMx9OLsyY2",
        "outputId": "653db6e5-6062-471b-e56c-8ffe4891d634"
      },
      "source": [
        "# Test whether the GPU is working or not\n",
        "\n",
        "import tensorflow as tf\n",
        "tf.test.gpu_device_name()"
      ],
      "execution_count": 2,
      "outputs": [
        {
          "output_type": "execute_result",
          "data": {
            "application/vnd.google.colaboratory.intrinsic+json": {
              "type": "string"
            },
            "text/plain": [
              "'/device:GPU:0'"
            ]
          },
          "metadata": {
            "tags": []
          },
          "execution_count": 2
        }
      ]
    },
    {
      "cell_type": "code",
      "metadata": {
        "colab": {
          "base_uri": "https://localhost:8080/"
        },
        "id": "hP7Je8mFuXqQ",
        "outputId": "660f7e5c-2cff-48bb-cb55-3d8fb6a52216"
      },
      "source": [
        "# Which GPU we are working..\n",
        "\n",
        "from tensorflow.python.client import device_lib\n",
        "device_lib.list_local_devices()"
      ],
      "execution_count": 4,
      "outputs": [
        {
          "output_type": "execute_result",
          "data": {
            "text/plain": [
              "[name: \"/device:CPU:0\"\n",
              " device_type: \"CPU\"\n",
              " memory_limit: 268435456\n",
              " locality {\n",
              " }\n",
              " incarnation: 5454604108253493665, name: \"/device:GPU:0\"\n",
              " device_type: \"GPU\"\n",
              " memory_limit: 14509932544\n",
              " locality {\n",
              "   bus_id: 1\n",
              "   links {\n",
              "   }\n",
              " }\n",
              " incarnation: 14321784609478534815\n",
              " physical_device_desc: \"device: 0, name: Tesla T4, pci bus id: 0000:00:04.0, compute capability: 7.5\"]"
            ]
          },
          "metadata": {
            "tags": []
          },
          "execution_count": 4
        }
      ]
    },
    {
      "cell_type": "code",
      "metadata": {
        "colab": {
          "base_uri": "https://localhost:8080/"
        },
        "id": "nzxVaWzkvgQM",
        "outputId": "f8bd4a3c-65ef-4684-f1c7-9762e31d733b"
      },
      "source": [
        "# RAM info\n",
        "\n",
        "!cat /proc/meminfo"
      ],
      "execution_count": 5,
      "outputs": [
        {
          "output_type": "stream",
          "text": [
            "MemTotal:       13305328 kB\n",
            "MemFree:         9411200 kB\n",
            "MemAvailable:   12014992 kB\n",
            "Buffers:           92292 kB\n",
            "Cached:          2507492 kB\n",
            "SwapCached:            0 kB\n",
            "Active:          1354632 kB\n",
            "Inactive:        2146568 kB\n",
            "Active(anon):     716076 kB\n",
            "Inactive(anon):    10672 kB\n",
            "Active(file):     638556 kB\n",
            "Inactive(file):  2135896 kB\n",
            "Unevictable:           0 kB\n",
            "Mlocked:               0 kB\n",
            "SwapTotal:             0 kB\n",
            "SwapFree:              0 kB\n",
            "Dirty:               244 kB\n",
            "Writeback:             0 kB\n",
            "AnonPages:        901528 kB\n",
            "Mapped:           601324 kB\n",
            "Shmem:             11428 kB\n",
            "KReclaimable:     141620 kB\n",
            "Slab:             201036 kB\n",
            "SReclaimable:     141620 kB\n",
            "SUnreclaim:        59416 kB\n",
            "KernelStack:        5344 kB\n",
            "PageTables:         9440 kB\n",
            "NFS_Unstable:          0 kB\n",
            "Bounce:                0 kB\n",
            "WritebackTmp:          0 kB\n",
            "CommitLimit:     6652664 kB\n",
            "Committed_AS:    4138824 kB\n",
            "VmallocTotal:   34359738367 kB\n",
            "VmallocUsed:       51612 kB\n",
            "VmallocChunk:          0 kB\n",
            "Percpu:             1424 kB\n",
            "AnonHugePages:         0 kB\n",
            "ShmemHugePages:        0 kB\n",
            "ShmemPmdMapped:        0 kB\n",
            "FileHugePages:         0 kB\n",
            "FilePmdMapped:         0 kB\n",
            "HugePages_Total:       0\n",
            "HugePages_Free:        0\n",
            "HugePages_Rsvd:        0\n",
            "HugePages_Surp:        0\n",
            "Hugepagesize:       2048 kB\n",
            "Hugetlb:               0 kB\n",
            "DirectMap4k:      220360 kB\n",
            "DirectMap2M:     6070272 kB\n",
            "DirectMap1G:     9437184 kB\n"
          ],
          "name": "stdout"
        }
      ]
    },
    {
      "cell_type": "code",
      "metadata": {
        "id": "q_p0os_svqz5"
      },
      "source": [
        ""
      ],
      "execution_count": null,
      "outputs": []
    }
  ]
}