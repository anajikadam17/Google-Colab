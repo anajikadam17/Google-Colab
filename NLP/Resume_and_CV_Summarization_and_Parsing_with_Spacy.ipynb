{
  "nbformat": 4,
  "nbformat_minor": 0,
  "metadata": {
    "colab": {
      "name": "Resume-and-CV-Summarization-and-Parsing-with-Spacy.ipynb",
      "provenance": [],
      "collapsed_sections": [],
      "mount_file_id": "1gcQSlPIVxPSBuMeoIn82H10a7oG9JstC",
      "authorship_tag": "ABX9TyPai0jaq+R1OtGBIGcwP4XX",
      "include_colab_link": true
    },
    "kernelspec": {
      "name": "python3",
      "display_name": "Python 3"
    },
    "language_info": {
      "name": "python"
    },
    "accelerator": "GPU"
  },
  "cells": [
    {
      "cell_type": "markdown",
      "metadata": {
        "id": "view-in-github",
        "colab_type": "text"
      },
      "source": [
        "<a href=\"https://colab.research.google.com/github/anajikadam17/Google-Colab/blob/main/NLP/Resume_and_CV_Summarization_and_Parsing_with_Spacy.ipynb\" target=\"_parent\"><img src=\"https://colab.research.google.com/assets/colab-badge.svg\" alt=\"Open In Colab\"/></a>"
      ]
    },
    {
      "cell_type": "code",
      "metadata": {
        "colab": {
          "base_uri": "https://localhost:8080/"
        },
        "id": "Ifu3altCiT-K",
        "outputId": "59906a5b-a831-4a45-af75-dbdb88cceecc"
      },
      "source": [
        "import os\n",
        "\n",
        "path = r\"/content/drive/MyDrive/Colab/NLP/Data\"\n",
        "os.chdir(path)\n",
        "!pwd"
      ],
      "execution_count": null,
      "outputs": [
        {
          "output_type": "stream",
          "text": [
            "/content/drive/MyDrive/Colab/NLP/Data\n"
          ],
          "name": "stdout"
        }
      ]
    },
    {
      "cell_type": "code",
      "metadata": {
        "colab": {
          "base_uri": "https://localhost:8080/"
        },
        "id": "p4qXH6blizSO",
        "outputId": "bf417e83-c27c-4c5d-f83d-c1a342758c1d"
      },
      "source": [
        "# !git clone https://github.com/laxmimerit/Resume-and-CV-Summarization-and-Parsing-with-Spacy-in-Python.git\n"
      ],
      "execution_count": null,
      "outputs": [
        {
          "output_type": "stream",
          "text": [
            "Cloning into 'Resume-and-CV-Summarization-and-Parsing-with-Spacy-in-Python'...\n",
            "remote: Enumerating objects: 34, done.\u001b[K\n",
            "remote: Counting objects: 100% (34/34), done.\u001b[K\n",
            "remote: Compressing objects: 100% (30/30), done.\u001b[K\n",
            "remote: Total 34 (delta 4), reused 0 (delta 0), pack-reused 0\u001b[K\n",
            "Unpacking objects: 100% (34/34), done.\n"
          ],
          "name": "stdout"
        }
      ]
    },
    {
      "cell_type": "code",
      "metadata": {
        "colab": {
          "base_uri": "https://localhost:8080/"
        },
        "id": "0bhJN1D3jHZl",
        "outputId": "5e1f9798-3b80-425c-c640-ec2115780d29"
      },
      "source": [
        "path = r\"/content/drive/MyDrive/Colab/NLP/Data/Resume-Summarization-Parsing-Spacy\"\n",
        "\n",
        "os.chdir(path)\n",
        "!pwd"
      ],
      "execution_count": null,
      "outputs": [
        {
          "output_type": "stream",
          "text": [
            "/content/drive/MyDrive/Colab/NLP/Data/Resume-Summarization-Parsing-Spacy\n"
          ],
          "name": "stdout"
        }
      ]
    },
    {
      "cell_type": "code",
      "metadata": {
        "id": "S2Z3JU0cjqe5"
      },
      "source": [
        "import spacy\n",
        "import pickle\n",
        "import random"
      ],
      "execution_count": null,
      "outputs": []
    },
    {
      "cell_type": "code",
      "metadata": {
        "colab": {
          "base_uri": "https://localhost:8080/"
        },
        "id": "TxKMxVycjqcN",
        "outputId": "ac034eb4-2fc3-4475-f961-9aeba0f4a68a"
      },
      "source": [
        "train_data = pickle.load(open('train_data.pkl', 'rb'))\n",
        "train_data[0]"
      ],
      "execution_count": null,
      "outputs": [
        {
          "output_type": "execute_result",
          "data": {
            "text/plain": [
              "('Govardhana K Senior Software Engineer  Bengaluru, Karnataka, Karnataka - Email me on Indeed: indeed.com/r/Govardhana-K/ b2de315d95905b68  Total IT experience 5 Years 6 Months Cloud Lending Solutions INC 4 Month • Salesforce Developer Oracle 5 Years 2 Month • Core Java Developer Languages Core Java, Go Lang Oracle PL-SQL programming, Sales Force Developer with APEX.  Designations & Promotions  Willing to relocate: Anywhere  WORK EXPERIENCE  Senior Software Engineer  Cloud Lending Solutions -  Bangalore, Karnataka -  January 2018 to Present  Present  Senior Consultant  Oracle -  Bangalore, Karnataka -  November 2016 to December 2017  Staff Consultant  Oracle -  Bangalore, Karnataka -  January 2014 to October 2016  Associate Consultant  Oracle -  Bangalore, Karnataka -  November 2012 to December 2013  EDUCATION  B.E in Computer Science Engineering  Adithya Institute of Technology -  Tamil Nadu  September 2008 to June 2012  https://www.indeed.com/r/Govardhana-K/b2de315d95905b68?isid=rex-download&ikw=download-top&co=IN https://www.indeed.com/r/Govardhana-K/b2de315d95905b68?isid=rex-download&ikw=download-top&co=IN   SKILLS  APEX. (Less than 1 year), Data Structures (3 years), FLEXCUBE (5 years), Oracle (5 years), Algorithms (3 years)  LINKS  https://www.linkedin.com/in/govardhana-k-61024944/  ADDITIONAL INFORMATION  Technical Proficiency:  Languages: Core Java, Go Lang, Data Structures & Algorithms, Oracle PL-SQL programming, Sales Force with APEX. Tools: RADTool, Jdeveloper, NetBeans, Eclipse, SQL developer, PL/SQL Developer, WinSCP, Putty Web Technologies: JavaScript, XML, HTML, Webservice  Operating Systems: Linux, Windows Version control system SVN & Git-Hub Databases: Oracle Middleware: Web logic, OC4J Product FLEXCUBE: Oracle FLEXCUBE Versions 10.x, 11.x and 12.x  https://www.linkedin.com/in/govardhana-k-61024944/',\n",
              " {'entities': [(1749, 1755, 'Companies worked at'),\n",
              "   (1696, 1702, 'Companies worked at'),\n",
              "   (1417, 1423, 'Companies worked at'),\n",
              "   (1356, 1793, 'Skills'),\n",
              "   (1209, 1215, 'Companies worked at'),\n",
              "   (1136, 1248, 'Skills'),\n",
              "   (928, 932, 'Graduation Year'),\n",
              "   (858, 889, 'College Name'),\n",
              "   (821, 856, 'Degree'),\n",
              "   (787, 791, 'Graduation Year'),\n",
              "   (744, 750, 'Companies worked at'),\n",
              "   (722, 742, 'Designation'),\n",
              "   (658, 664, 'Companies worked at'),\n",
              "   (640, 656, 'Designation'),\n",
              "   (574, 580, 'Companies worked at'),\n",
              "   (555, 573, 'Designation'),\n",
              "   (470, 493, 'Companies worked at'),\n",
              "   (444, 469, 'Designation'),\n",
              "   (308, 314, 'Companies worked at'),\n",
              "   (234, 240, 'Companies worked at'),\n",
              "   (175, 198, 'Companies worked at'),\n",
              "   (93, 137, 'Email Address'),\n",
              "   (39, 48, 'Location'),\n",
              "   (13, 38, 'Designation'),\n",
              "   (0, 12, 'Name')]})"
            ]
          },
          "metadata": {
            "tags": []
          },
          "execution_count": 9
        }
      ]
    },
    {
      "cell_type": "code",
      "metadata": {
        "colab": {
          "base_uri": "https://localhost:8080/"
        },
        "id": "R74D6e5Asj1I",
        "outputId": "55326c39-11df-4686-a72a-b99206ff89fc"
      },
      "source": [
        "train_data[1]"
      ],
      "execution_count": null,
      "outputs": [
        {
          "output_type": "execute_result",
          "data": {
            "text/plain": [
              "('Vineeth Vijayan \"Store Executive\" - Orange City Hospital & Research Institute  Nagpur, Maharashtra, Maharashtra - Email me on Indeed: indeed.com/r/Vineeth-Vijayan/ ee84e7ea0695181f  I have over 2 years of experience working as a \"Store Executive\" in a reputed big organisation based in India. I am a hard worker and a very good learner. I aspire to grow in my career by joining a good organisation.  I am good at work and people management. I possess good computer knowledge. I have underwent training in courses like MS Excel Level 1, 2 &amp; 3. MS Word &amp; Powerpoint. I have experience working in ERP. I am a certified ISO 27001: 2013 Internal Auditor.  Willing to relocate: Anywhere  WORK EXPERIENCE  \"Store Executive\"  Orange City Hospital & Research Institute -  Nagpur, Maharashtra -  March 2016 to Present  Job Profile: - 1. Keep records to maintain inventory control, cost containment and to assure proper stock levels. 2. Rotate stock and arrange for disposal of surpluses. 3. Plan and perform work that involves ordering, receiving, inspecting, returning, unloading, shelving, packing, labeling and maintaining a perpetual inventory of items. 4. Coordinate freight handling, equipment moving and minor repairs. 5. Perform peripheral site-specific duties as required and instructed by supervisors. 6. Monitoring and updating stock details etc. in Mednet store software. Use ABC, VED &amp; FSN Stock Analysis methods when required. 7. Report any stock discrepancy to supervisor for appropriate action.  \"HR Officer \"  Gulf Warehousing Company Qatar - Agility Group -  January 2012 to July 2015  a multinational company catering Customers in the field of Warehousing, Freight Forwarding, Records Management, Courier and International Relocation Services.  Job Profile: - 1. Deliver new hires orientation program to enable new hires to adjust themselves to new working environment and facilitating newcomers joining formalities. 2. Design and develop Training Calendar and budget for all type of training programs, for the year ahead for all designations within the company, according to the needs of the business and Training Need Analysis survey results.  https://www.indeed.com/r/Vineeth-Vijayan/ee84e7ea0695181f?isid=rex-download&ikw=download-top&co=IN https://www.indeed.com/r/Vineeth-Vijayan/ee84e7ea0695181f?isid=rex-download&ikw=download-top&co=IN   3. Sourcing and coordinating with external vendors for training that are requested by line managers/departments. 4. Maintaining employee training records and updating it on a regular basis. 5. Assist Supervisors in developing and implementing changes in HR policies and procedures. 6. Coordinate in conducting employee engagement programs. 7. Support departments in complying with ISO Quality Management requirements and facilitate various HR related welfare activities.  \"Training Coordinator\"  M-Squared Software & Services - Kerala -  Kerala, IN -  July 2010 to December 2011  a US based company with headquarters in Nevada, Las Vegas that deals with security gadgets, medical transcription and software development.  Job Profile: - 1. Perform regular office administration duties that includes: Office infrastructure management, housekeeping supervision, responding and sending e-mails to head office and clients, monitoring time-in &amp; time-out of employees, managing employee leave status and office cash management. 2. Handle walk-in enquires, attend telephone calls and conduct course induction sessions for new joiners. 3. Train the students in work related processes. 4. Anchoring and conducting course related seminars in well-established educational institutions. 5. Manage training materials that are stipulated within the company regulations. 6. Formulating training programs and sending it to training manager and to all concerned departments for approval. 7. Preparing tools for training. 8. Organize the training that includes: distribution of training materials, monitor trainees in training and support trainers in training. 9. Record training plans and training programs. 10. Maintain employees and students database. 11. Record results of evaluation and training. 12. Archive records of training, including course content, the training, number of students, results, and feedback. 13. Conduct team huddles/counseling sessions for trainees when required.  \"Manager\"  Nair IT Pvt. Ltd -  Nagpur, Maharashtra -  September 2008 to July 2010  Client: Accentia Oak Technologies.  Job Profile: - 1. To manage the day-to-day planning, operation and problem-solving of the team to meet the required service level components, quality and productivity targets of the client.    2. Delivery of team statistics, quality and productivity targets &amp; indicators, taking note any downtime during the day and report it to the management level superiors. 3. Operational Management: Managing the floor, adherence to schedule and monitoring of attendance. Submits daily report to the management level superiors. 4. Monitoring the portal periodically, prioritizing jobs according to TAT, and assigning jobs to correct work pool. 5. Coaching and relaying feedback to MTs/Editors. 6. To motivate the team to achieve the client targets. Update the team on the status of work at the start and end of each shift. 7. Compiling reports on team\\'s performance and client feedback.  \"Process Executive\" in Infosys BPO Limited, Bangalore  CISCO -  Bengaluru, Karnataka -  January 2006 to July 2008  Job Profile: - 1. To handle end to end order placement process of Cisco. 2. Book orders for customers as per Cisco\\'s booking policies. 3. Customer advocacy. 4. Check and avail special discounts, services, licensing, upgrades etc., to the customers. 5. Receive customer feedback on products, services etc., and resolve them if any. 6. To work along with logistic team to ensure that the products reach precise destinations safely. 7. Provide round the clock 24/7 customer service to the client.  \"Sr. Medical Transcriptionist\"  DTS Information Systems Pvt. Ltd -  Bengaluru, Karnataka -  December 2004 to January 2006  in DTS Information Systems Pvt. Ltd, Bangalore (A wholly owned subsidiary of DTS America Inc., Tennessee, USA) from Dec 2004 - Jan 2006. Client: Vanderbilt University Medical Center, Nashville, Tennessee.  Job Profile: - 1. To transcribe documents pertaining to patient\\'s summary of illness, diseases and diagnostic procedures etc. to avail medical insurance claims as per American transcription guidelines. 2. To ensure that finished end document meets the clients TAT and Quality requirements. 3. To counsel MT\\'s regarding their errors etc and if needed conduct team huddles. Computer Exposure  Operating System: Windows XP Microsoft Office Package: MS Excel, MS Word, MS Access and Power Point. Experience in working on Oracle.  ❖ Completed MS Excel Level 1, 2 &amp; 3 Courses from New Horizons Computer Training Center, Qatar.    EDUCATION  B.Sc. in Microbiology in Microbiology  S.N.G College, Bharathiar University  April 2004  SKILLS  Storekeeping / Inventory Management / Purchase (2 years), People & Time Management (2 years)  ADDITIONAL INFORMATION  Competencies  ❖ Effective communications skills, excellent interpersonal skills, good time management skills, results-oriented individual and a very good team player. ❖ Sincere, hardworking and willing to take up challenging assignments.  Other Qualifications  ❖ ISO 27001: 2013 Internal Auditor Certification from Coms Vantage Consultancy, Qatar in October 2014 ❖ ISO 27001: 2013 Awareness Certification from Coms Vantage Consultancy, Qatar in September 2014 ❖ Carriage of Dangerous Goods by Road Certification in 2012 from IRU Academy in tie up with Mowasalat - State of Qatar owned Transport Company. ❖ First class in Hindi Parichaya Examination conducted by Dakshina Bharat Hindi Prachar Sabha. ❖ Second class in Prathamic Examination conducted by Dakshina Bharat Hindi Prachar Sabha.',\n",
              " {'entities': [(6994, 7350, 'Skills'),\n",
              "   (6936, 6973, 'College Name'),\n",
              "   (6897, 6935, 'Degree'),\n",
              "   (4359, 4365, 'Location'),\n",
              "   (763, 769, 'Location'),\n",
              "   (718, 759, 'College Name'),\n",
              "   (700, 715, 'Designation'),\n",
              "   (230, 245, 'Designation'),\n",
              "   (134, 181, 'Email Address'),\n",
              "   (79, 85, 'Location'),\n",
              "   (36, 77, 'College Name'),\n",
              "   (17, 32, 'Designation'),\n",
              "   (0, 15, 'Name')]})"
            ]
          },
          "metadata": {
            "tags": []
          },
          "execution_count": 17
        }
      ]
    },
    {
      "cell_type": "code",
      "metadata": {
        "id": "pN_rOSlHrQkf"
      },
      "source": [
        "nlp = spacy.blank('en')"
      ],
      "execution_count": null,
      "outputs": []
    },
    {
      "cell_type": "code",
      "metadata": {
        "id": "WzOR3QyOjqZe"
      },
      "source": [
        "\n",
        "\n",
        "def train_model(train_data):\n",
        "    if 'ner' not in nlp.pipe_names:\n",
        "        ner = nlp.create_pipe('ner')\n",
        "        nlp.add_pipe(ner, last = True)\n",
        "    \n",
        "    for _, annotation in train_data:\n",
        "        for ent in annotation['entities']:\n",
        "            ner.add_label(ent[2])\n",
        "            \n",
        "    \n",
        "    other_pipes = [pipe for pipe in nlp.pipe_names if pipe != 'ner']\n",
        "    with nlp.disable_pipes(*other_pipes):  # only train NER\n",
        "        optimizer = nlp.begin_training()\n",
        "        for itn in range(10):\n",
        "            print(\"Statring iteration \" + str(itn))\n",
        "            random.shuffle(train_data)\n",
        "            losses = {}\n",
        "            index = 0\n",
        "            for text, annotations in train_data:\n",
        "                try:\n",
        "                    nlp.update(\n",
        "                        [text],  # batch of texts\n",
        "                        [annotations],  # batch of annotations\n",
        "                        drop=0.2,  # dropout - make it harder to memorise data\n",
        "                        sgd=optimizer,  # callable to update weights\n",
        "                        losses=losses)\n",
        "                except Exception as e:\n",
        "                    pass\n",
        "                \n",
        "            print(losses)\n",
        "    \n",
        "    "
      ],
      "execution_count": null,
      "outputs": []
    },
    {
      "cell_type": "code",
      "metadata": {
        "colab": {
          "base_uri": "https://localhost:8080/"
        },
        "id": "w1wFY4wTjqWW",
        "outputId": "06bf6484-c91a-400a-c669-c1d114d1ad78"
      },
      "source": [
        "train_model(train_data)"
      ],
      "execution_count": null,
      "outputs": [
        {
          "output_type": "stream",
          "text": [
            "Statring iteration 0\n",
            "{'ner': 14634.813466209876}\n",
            "Statring iteration 1\n",
            "{'ner': 9815.285101794836}\n",
            "Statring iteration 2\n",
            "{'ner': 8318.712327564966}\n",
            "Statring iteration 3\n",
            "{'ner': 6383.506167879095}\n",
            "Statring iteration 4\n",
            "{'ner': 7355.174338789785}\n",
            "Statring iteration 5\n",
            "{'ner': 5402.768642064623}\n",
            "Statring iteration 6\n",
            "{'ner': 7138.788041807853}\n",
            "Statring iteration 7\n",
            "{'ner': 4618.905686241678}\n",
            "Statring iteration 8\n",
            "{'ner': 5078.728563035113}\n",
            "Statring iteration 9\n",
            "{'ner': 4418.635232655829}\n"
          ],
          "name": "stdout"
        }
      ]
    },
    {
      "cell_type": "code",
      "metadata": {
        "id": "xOp7s4mPjqS2"
      },
      "source": [
        "nlp.to_disk('nlp_model')"
      ],
      "execution_count": null,
      "outputs": []
    },
    {
      "cell_type": "code",
      "metadata": {
        "id": "BNpL8RgIro7X"
      },
      "source": [
        "nlp_model = spacy.load('nlp_model')"
      ],
      "execution_count": null,
      "outputs": []
    },
    {
      "cell_type": "code",
      "metadata": {
        "colab": {
          "base_uri": "https://localhost:8080/",
          "height": 171
        },
        "id": "1M6Ux2E9r1IH",
        "outputId": "6cfe4e7d-1443-47fa-c0e8-f1690cc1e983"
      },
      "source": [
        "train_data[0][0]"
      ],
      "execution_count": null,
      "outputs": [
        {
          "output_type": "execute_result",
          "data": {
            "application/vnd.google.colaboratory.intrinsic+json": {
              "type": "string"
            },
            "text/plain": [
              "'Sai Dhir - Email me on Indeed: indeed.com/r/Sai-Dhir/e6ed06ed081f04cf  WORK EXPERIENCE  Sasken Technologies Pvt. Ltd -  Pune, Maharashtra -  January 2017 to Present  ORACLE -  January 2011 to Present  STP is basically a router that realys ss7 messages through various signally points. In project all STPs were replaced by ORACLE STP due to its advanced features, high end support, flexibility. The STP is connected to adjacent SEPs and STPs via signaling links. Based on the address fields of the SS7 messages, the STP routes the messages to the appropriate outgoing signaling link.  Client: ORACLE Team Size: 4 Role: fetching data, analyzing, monitoring, troubleshooting Technologies: filezilla, putty Major Development ➢ Currently working on External Browser Integration for the Payment Gateway ➢ Multiple Shipping methods Inside Order Invoice  ORACLE -  Gurgaon, Haryana -  October 2016 to January 2017  Karizma Order Manager & Karizma Order System  ORACLE -  March 2011 to October 2011  Stamp Duty means a tax payable on certain legal documents specified by statute; the duty may be fixed or ad valorem meaning that the tax paid as a stamp duty may be a fixed amount or an amount which varies based on the value of the products, services or property on which it is levied. It is basically a kind of tax paid on any transaction based on exchange of documents or execution of instruments.  Client: Max Life Insurance Team Size: 4 Role: Business Analyst, Testing and Bug Fixing. Technologies: Group Asia Major Development ➢ Reading of the new requirements and have a thorough knowledge regarding the functionality and generating test case regarding it.  https://www.indeed.com/r/Sai-Dhir/e6ed06ed081f04cf?isid=rex-download&ikw=download-top&co=IN   PMJJ BY: PMJJBY (Pradhan Mantri Jeevan Jyoti Bima Yojana) is a one year Life insurance scheme, auto renewed every year, offering coverage for death due to any reason. The PMJJBY scheme is available to anyone between 18 and 50 years of age and with a CSB Savings bank account. The main administrator within the scheme could be life insurance corporation in addition to hardly any other insurance providers who will be able to give similar benefits under the scheme Team Size: 4 Role: business analyst, testing Technologies: group asia  EDUCATION  Client-Server Architecture  CDAC -  Mohali, Punjab  January 2017 to Present  Bachelor of Engineering in Engineering  Punjab Technical University (PTU) Jalhandar  2012 to 2016  B.E  Punjab Technical University  2012 to 2016  Android  CDAC Mohali -  Mohali, Punjab  SKILLS  CHANGE MANAGEMENT (Less than 1 year), Configuration Management (Less than 1 year), Git (Less than 1 year), Incident Management (Less than 1 year), Linux (Less than 1 year)  ADDITIONAL INFORMATION  Operating Systems Windows 7, ubuntu Linux Configuration Management Git, svn Incident Management IBM i series 400  Domain insurance  Platform - Windows  Framework-Group Asia  Domian Telecom    Domain telecom  Platform-windows  Framework-filezilla, putty'"
            ]
          },
          "metadata": {
            "tags": []
          },
          "execution_count": 15
        }
      ]
    },
    {
      "cell_type": "code",
      "metadata": {
        "colab": {
          "base_uri": "https://localhost:8080/"
        },
        "id": "gdTRuLHQr1Fw",
        "outputId": "d42cc852-3c95-4faa-ff89-e5c175043276"
      },
      "source": [
        "doc = nlp_model(train_data[0][0])\n",
        "for ent in doc.ents:\n",
        "    print(f'{ent.label_.upper():{30}}- {ent.text}')"
      ],
      "execution_count": null,
      "outputs": [
        {
          "output_type": "stream",
          "text": [
            "NAME                          - Sai Dhir\n",
            "EMAIL ADDRESS                 - indeed.com/r/Sai-Dhir/e6ed06ed081f04cf\n",
            "COMPANIES WORKED AT           - Sasken Technologies Pvt. Ltd\n",
            "LOCATION                      - Pune\n",
            "DEGREE                        - Client-Server Architecture\n",
            "DEGREE                        - Bachelor of Engineering in Engineering\n",
            "COLLEGE NAME                  - Punjab Technical University (PTU) Jalhandar\n",
            "GRADUATION YEAR               - 2016\n",
            "DEGREE                        - B.E\n",
            "COLLEGE NAME                  - Punjab Technical University\n",
            "SKILLS                        - CHANGE MANAGEMENT (Less than 1 year), Configuration Management (Less than 1 year), Git (Less than 1 year), Incident Management (Less than 1 year), Linux (Less than 1 year)\n"
          ],
          "name": "stdout"
        }
      ]
    },
    {
      "cell_type": "code",
      "metadata": {
        "colab": {
          "base_uri": "https://localhost:8080/"
        },
        "id": "vonK0luIss2H",
        "outputId": "9f7f5c9c-2c96-4060-cac4-bb279b35ea55"
      },
      "source": [
        "!pip install PyMuPDF"
      ],
      "execution_count": null,
      "outputs": [
        {
          "output_type": "stream",
          "text": [
            "Collecting PyMuPDF\n",
            "  Downloading PyMuPDF-1.18.16-cp37-cp37m-manylinux_2_12_x86_64.manylinux2010_x86_64.whl (6.4 MB)\n",
            "\u001b[K     |████████████████████████████████| 6.4 MB 7.1 MB/s \n",
            "\u001b[?25hInstalling collected packages: PyMuPDF\n",
            "Successfully installed PyMuPDF-1.18.16\n"
          ],
          "name": "stdout"
        }
      ]
    },
    {
      "cell_type": "code",
      "metadata": {
        "colab": {
          "base_uri": "https://localhost:8080/"
        },
        "id": "vpWERsxTswq_",
        "outputId": "c3953461-9542-44d0-ba81-dfc90e5c8dbd"
      },
      "source": [
        "!dir"
      ],
      "execution_count": null,
      "outputs": [
        {
          "output_type": "stream",
          "text": [
            "Alice\\ Clark\\ CV.docx  nlp_model\t   Smith\\ Resume.pdf\n",
            "Alice\\ Clark\\ CV.pdf   README.md\t   train_data.pkl\n",
            "Alice\\ Clark\\ CV.txt   Smith\\ Resume.docx  train_data.txt\n"
          ],
          "name": "stdout"
        }
      ]
    },
    {
      "cell_type": "code",
      "metadata": {
        "colab": {
          "base_uri": "https://localhost:8080/"
        },
        "id": "3zwA9vHwr1Df",
        "outputId": "eab9b3fa-8704-4fc6-f5a0-3a53d276f014"
      },
      "source": [
        "import sys, fitz\n",
        "fname = 'Alice Clark CV.pdf'\n",
        "doc = fitz.open(fname)\n",
        "text = \"\"\n",
        "for page in doc:\n",
        "    text = text + str(page.getText())\n",
        "\n",
        "tx = \" \".join(text.split('\\n'))\n",
        "print(tx)"
      ],
      "execution_count": null,
      "outputs": [
        {
          "output_type": "stream",
          "text": [
            "Alice Clark  AI / Machine Learning    Delhi, India Email me on Indeed  •  20+ years of experience in data handling, design, and development  •  Data Warehouse: Data analysis, star/snow flake scema data modelling and design specific to  data warehousing and business intelligence  •  Database: Experience in database designing, scalability, back-up and recovery, writing and  optimizing SQL code and Stored Procedures, creating functions, views, triggers and indexes.  Cloud platform: Worked on Microsoft Azure cloud services like Document DB, SQL Azure,  Stream Analytics, Event hub, Power BI, Web Job, Web App, Power BI, Azure data lake  analytics(U-SQL)  Willing to relocate anywhere    WORK EXPERIENCE  Software Engineer  Microsoft – Bangalore, Karnataka  January 2000 to Present  1. Microsoft Rewards Live dashboards:  Description: - Microsoft rewards is loyalty program that rewards Users for browsing and shopping  online. Microsoft Rewards members can earn points when searching with Bing, browsing with  Microsoft Edge and making purchases at the Xbox Store, the Windows Store and the Microsoft  Store. Plus, user can pick up bonus points for taking daily quizzes and tours on the Microsoft  rewards website. Rewards live dashboards gives a live picture of usage world-wide and by  markets like US, Canada, Australia, new user registration count, top/bottom performing rewards  offers, orders stats and weekly trends of user activities, orders and new user registrations. the  PBI tiles gets refreshed in different frequencies starting from 5 seconds to 30 minutes.  Technology/Tools used    EDUCATION  Indian Institute of Technology – Mumbai  2001    SKILLS  Machine Learning, Natural Language Processing, and Big Data Handling    ADDITIONAL INFORMATION  Professional Skills  • Excellent analytical, problem solving, communication, knowledge transfer and interpersonal  skills with ability to interact with individuals at all the levels  • Quick learner and maintains cordial relationship with project manager and team members and  good performer both in team and independent job environments  • Positive attitude towards superiors &amp; peers  • Supervised junior developers throughout project lifecycle and provided technical assistance  \n"
          ],
          "name": "stdout"
        }
      ]
    },
    {
      "cell_type": "code",
      "metadata": {
        "colab": {
          "base_uri": "https://localhost:8080/"
        },
        "id": "LRv61Ducr1A_",
        "outputId": "79834c4e-12cf-4a9a-d788-8bcb31fe464a"
      },
      "source": [
        "doc = nlp_model(tx)\n",
        "for ent in doc.ents:\n",
        "    print(f'{ent.label_.upper():{30}}- {ent.text}')"
      ],
      "execution_count": null,
      "outputs": [
        {
          "output_type": "stream",
          "text": [
            "NAME                          - Alice Clark\n",
            "LOCATION                      - Delhi\n",
            "DESIGNATION                   - Software Engineer\n",
            "COMPANIES WORKED AT           - Microsoft – Bangalore, Karnataka  January 2000 to Present  1. Microsoft\n",
            "COMPANIES WORKED AT           - Microsoft\n",
            "COMPANIES WORKED AT           - Microsoft\n",
            "COMPANIES WORKED AT           - Microsoft\n",
            "COMPANIES WORKED AT           - Microsoft\n",
            "COMPANIES WORKED AT           - Microsoft\n",
            "DEGREE                        - Indian Institute of Technology – Mumbai\n",
            "SKILLS                        - Machine Learning, Natural Language Processing, and Big Data Handling    ADDITIONAL INFORMATION  Professional Skills  • Excellent analytical, problem solving, communication, knowledge transfer and interpersonal  skills with ability to interact with individuals at all the levels  • Quick learner and maintains cordial relationship with project manager and team members and  good performer both in team and independent job environments  • Positive attitude towards superiors &amp; peers  • Supervised junior developers throughout project lifecycle and provided technical assistance\n"
          ],
          "name": "stdout"
        }
      ]
    },
    {
      "cell_type": "code",
      "metadata": {
        "id": "mDXPJwxRr0-n"
      },
      "source": [
        "# give your filename here\n",
        "with open(\"/content/file.txt\", \"r\") as fp:\n",
        "  text = fp.read()\n",
        "text = \" \".join(text.split('\\n'))"
      ],
      "execution_count": null,
      "outputs": []
    },
    {
      "cell_type": "code",
      "metadata": {
        "colab": {
          "base_uri": "https://localhost:8080/",
          "height": 171
        },
        "id": "Q4ncdUxKtWqI",
        "outputId": "ea018170-c3bb-4495-f690-0c776a5c7944"
      },
      "source": [
        "text"
      ],
      "execution_count": null,
      "outputs": [
        {
          "output_type": "execute_result",
          "data": {
            "application/vnd.google.colaboratory.intrinsic+json": {
              "type": "string"
            },
            "text/plain": [
              "'                                                                                                          Sharad S Sawant  RESUME SAMPLE   from Resume Genius   Email:  youremail@gmail.com   Phone: 895 555  555   Address: 4397 Aaron Smith  Drive  Harrisburg, PA  17101   Linkedin:  linkedin.com/in/yourprole   R E S U M E  O B J E CT I V E   Human Resources Generalist with 6+ years of experience assisting with and fulfilling organization staffing needs   and requirements. Aiming to use my dynamic communication and organization skills to achieve your HR   initiatives. Possess a BA in Human Resources Management and a Professional in Human Resources certification.        SKILL   S     90WPM Typing Speed  Workday   Kronos   Conflict Management   MS Office Suite   Teamwork      Leadership   Time Management   Interpersonal Communication   Adaptability.   Public Speaking   EXPERIENCE  HR GENERALIST  Meadow Laboratories, Chicago, IL  /  September 2014 - Present         Implemented effective HR policies to ensure all practices are in compliance with labor and  employment regulations   Increased employee retention rates above 90% by creating and maintaining a positive work  environment     Developed targeted outreach recruitment programs to recruit more minorities and meet affirmative   action requirements     Created a website with an embedded database and FTP functionality to enable online recruitment   which has resulted in a 10% reduction in recruitment costs for the organization     Manage travel and expense reports for department team members   HUMAN RESOURCES INTERN  Trenton Childrens Hospital, Boston, MA  /  June 2012  August 2014     Advised prospective employees on various tips and tricks that would assist them in gaining   employment with the organization     Conducted several seminars for hospital employees to update them on employee benefit options      Invited 10+ motivational speakers and industry experts to give lectures and speeches to employees  on new industry standards and how to build confidence and morale in the workplace     Updated 100+ employee records and job assignments daily   EDUCATION   B.A. H.R. MANAGEMENT    A.S. H.R. MANAGEMENT    CERTIFICATION   MEMBER   Miami University, 2012    Miami University, 2010    Dear Job Seeker,   Miami, FL   Miami, FL   Professional in Human  Resources   Society for Human  Resource Management           PLEASE note that you *must* install the font files to make this resume template work.  Its very simple to do  just follow the instructions in the Read Me file in the Zip file  you downloaded this template from.    If youre struggling to write your resume, dont worry. Youre in good company   everyone struggles with it. For a high quality resume that will land you employment,  we recommend consulting the certified experts at Resume Writer Direct.    Or, heres some other content that might help you finish your resume.       Free Resume Builder    How to Write a Resume    Resume Samples by Industry     Oh, and by the way, youre also going to need a cover letter.       Cover Letter Builder    How to Write a Cover Letter    Cover Letter Examples by Industry        '"
            ]
          },
          "metadata": {
            "tags": []
          },
          "execution_count": 28
        }
      ]
    },
    {
      "cell_type": "code",
      "metadata": {
        "colab": {
          "base_uri": "https://localhost:8080/"
        },
        "id": "SOK-1urCr08P",
        "outputId": "e9041fac-32b9-49d6-a5cb-dedebb3f0a9d"
      },
      "source": [
        "doc = nlp_model(text)\n",
        "for ent in doc.ents:\n",
        "    print(f'{ent.label_.upper():{30}}- {ent.text}')"
      ],
      "execution_count": null,
      "outputs": [
        {
          "output_type": "stream",
          "text": [
            "COLLEGE NAME                  - Sharad S Sawant\n",
            "LOCATION                      - Harrisburg\n",
            "DESIGNATION                   - HR GENERALIST\n",
            "DEGREE                        - B.A. H.R. MANAGEMENT\n",
            "COLLEGE NAME                  - MEMBER\n"
          ],
          "name": "stdout"
        }
      ]
    },
    {
      "cell_type": "code",
      "metadata": {
        "id": "R0zZgSE0tqt4"
      },
      "source": [
        ""
      ],
      "execution_count": null,
      "outputs": []
    }
  ]
}