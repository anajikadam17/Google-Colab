{
  "nbformat": 4,
  "nbformat_minor": 0,
  "metadata": {
    "colab": {
      "name": "Age and Gender Detection Using Deep Learning.ipynb",
      "provenance": [],
      "collapsed_sections": [],
      "authorship_tag": "ABX9TyOwDhRDGbo9JJIgqEIK//kS",
      "include_colab_link": true
    },
    "kernelspec": {
      "name": "python3",
      "display_name": "Python 3"
    },
    "language_info": {
      "name": "python"
    },
    "accelerator": "GPU"
  },
  "cells": [
    {
      "cell_type": "markdown",
      "metadata": {
        "id": "view-in-github",
        "colab_type": "text"
      },
      "source": [
        "<a href=\"https://colab.research.google.com/github/anajikadam17/Google-Colab/blob/main/NN/Age_and_Gender_Detection_Using_Deep_Learning.ipynb\" target=\"_parent\"><img src=\"https://colab.research.google.com/assets/colab-badge.svg\" alt=\"Open In Colab\"/></a>"
      ]
    },
    {
      "cell_type": "markdown",
      "metadata": {
        "id": "kSNLcZtZw2iw"
      },
      "source": [
        "Age and Gender Detection Using Deep Learning"
      ]
    },
    {
      "cell_type": "code",
      "metadata": {
        "id": "anpkaZZUrGm6"
      },
      "source": [
        "#Import libraries\n",
        "import numpy as np\n",
        "import pandas as pd\n",
        "import matplotlib.pyplot as plt\n",
        "import seaborn as sns"
      ],
      "execution_count": null,
      "outputs": []
    },
    {
      "cell_type": "code",
      "metadata": {
        "id": "DhEgcRzKtVPl"
      },
      "source": [
        "path = r\"/content/drive/MyDrive/Colab/Kaggle/age_gender.csv\""
      ],
      "execution_count": null,
      "outputs": []
    },
    {
      "cell_type": "code",
      "metadata": {
        "id": "tQa_ElKKtnwj"
      },
      "source": [
        "df=pd.read_csv(path)\n",
        "df1= pd.DataFrame(df)"
      ],
      "execution_count": null,
      "outputs": []
    },
    {
      "cell_type": "code",
      "metadata": {
        "colab": {
          "base_uri": "https://localhost:8080/",
          "height": 204
        },
        "id": "AIOXgoEZtntr",
        "outputId": "67bbd20d-ca3b-4ee7-c7e3-ff0721cca673"
      },
      "source": [
        "df1.head()"
      ],
      "execution_count": null,
      "outputs": [
        {
          "output_type": "execute_result",
          "data": {
            "text/html": [
              "<div>\n",
              "<style scoped>\n",
              "    .dataframe tbody tr th:only-of-type {\n",
              "        vertical-align: middle;\n",
              "    }\n",
              "\n",
              "    .dataframe tbody tr th {\n",
              "        vertical-align: top;\n",
              "    }\n",
              "\n",
              "    .dataframe thead th {\n",
              "        text-align: right;\n",
              "    }\n",
              "</style>\n",
              "<table border=\"1\" class=\"dataframe\">\n",
              "  <thead>\n",
              "    <tr style=\"text-align: right;\">\n",
              "      <th></th>\n",
              "      <th>age</th>\n",
              "      <th>ethnicity</th>\n",
              "      <th>gender</th>\n",
              "      <th>img_name</th>\n",
              "      <th>pixels</th>\n",
              "    </tr>\n",
              "  </thead>\n",
              "  <tbody>\n",
              "    <tr>\n",
              "      <th>0</th>\n",
              "      <td>1</td>\n",
              "      <td>2</td>\n",
              "      <td>0</td>\n",
              "      <td>20161219203650636.jpg.chip.jpg</td>\n",
              "      <td>129 128 128 126 127 130 133 135 139 142 145 14...</td>\n",
              "    </tr>\n",
              "    <tr>\n",
              "      <th>1</th>\n",
              "      <td>1</td>\n",
              "      <td>2</td>\n",
              "      <td>0</td>\n",
              "      <td>20161219222752047.jpg.chip.jpg</td>\n",
              "      <td>164 74 111 168 169 171 175 182 184 188 193 199...</td>\n",
              "    </tr>\n",
              "    <tr>\n",
              "      <th>2</th>\n",
              "      <td>1</td>\n",
              "      <td>2</td>\n",
              "      <td>0</td>\n",
              "      <td>20161219222832191.jpg.chip.jpg</td>\n",
              "      <td>67 70 71 70 69 67 70 79 90 103 116 132 145 155...</td>\n",
              "    </tr>\n",
              "    <tr>\n",
              "      <th>3</th>\n",
              "      <td>1</td>\n",
              "      <td>2</td>\n",
              "      <td>0</td>\n",
              "      <td>20161220144911423.jpg.chip.jpg</td>\n",
              "      <td>193 197 198 200 199 200 202 203 204 205 208 21...</td>\n",
              "    </tr>\n",
              "    <tr>\n",
              "      <th>4</th>\n",
              "      <td>1</td>\n",
              "      <td>2</td>\n",
              "      <td>0</td>\n",
              "      <td>20161220144914327.jpg.chip.jpg</td>\n",
              "      <td>202 205 209 210 209 209 210 211 212 214 218 21...</td>\n",
              "    </tr>\n",
              "  </tbody>\n",
              "</table>\n",
              "</div>"
            ],
            "text/plain": [
              "   age  ...                                             pixels\n",
              "0    1  ...  129 128 128 126 127 130 133 135 139 142 145 14...\n",
              "1    1  ...  164 74 111 168 169 171 175 182 184 188 193 199...\n",
              "2    1  ...  67 70 71 70 69 67 70 79 90 103 116 132 145 155...\n",
              "3    1  ...  193 197 198 200 199 200 202 203 204 205 208 21...\n",
              "4    1  ...  202 205 209 210 209 209 210 211 212 214 218 21...\n",
              "\n",
              "[5 rows x 5 columns]"
            ]
          },
          "metadata": {
            "tags": []
          },
          "execution_count": 21
        }
      ]
    },
    {
      "cell_type": "code",
      "metadata": {
        "colab": {
          "base_uri": "https://localhost:8080/",
          "height": 918
        },
        "id": "N5-BswPCtXi0",
        "outputId": "2412e56b-bb13-4272-c0cd-b24b3b2c56b5"
      },
      "source": [
        "\n",
        "plt.xlabel = 'Gender (1= Female, 0-Male)'\n",
        "plt.figure(figsize=(10,7))\n",
        "ax=df1.gender.value_counts().plot.bar(x='Gender (1= Female, 0-Male)', y='Count', title='Gender', legend = (1,0, ('Female', 'Male')))\n",
        "plt.figure(figsize=(10,7))\n",
        "labels =['White','Black','Indian','Asian','Hispanic']\n",
        "ax=df1.ethnicity.value_counts().plot.bar()\n",
        "ax.set_xticklabels(labels)\n",
        "ax.set_title('Ethinicity')"
      ],
      "execution_count": null,
      "outputs": [
        {
          "output_type": "execute_result",
          "data": {
            "text/plain": [
              "Text(0.5, 1.0, 'Ethinicity')"
            ]
          },
          "metadata": {
            "tags": []
          },
          "execution_count": 22
        },
        {
          "output_type": "display_data",
          "data": {
            "image/png": "[encoded data removed]",
            "text/plain": [
              "<Figure size 720x504 with 1 Axes>"
            ]
          },
          "metadata": {
            "tags": [],
            "needs_background": "light"
          }
        },
        {
          "output_type": "display_data",
          "data": {
            "image/png": "[encoded data removed]",
            "text/plain": [
              "<Figure size 720x504 with 1 Axes>"
            ]
          },
          "metadata": {
            "tags": [],
            "needs_background": "light"
          }
        }
      ]
    },
    {
      "cell_type": "code",
      "metadata": {
        "colab": {
          "base_uri": "https://localhost:8080/",
          "height": 204
        },
        "id": "0RKJIPl6tXmu",
        "outputId": "57266938-5e35-4e75-9cf5-7b56a940a761"
      },
      "source": [
        "## Converting pixels into numpy array\n",
        "df1['pixels'] = df1['pixels'].apply(lambda x:  np.reshape(np.array(x.split(), dtype=\"float32\"), (48,48)))\n",
        "df1.head()"
      ],
      "execution_count": null,
      "outputs": [
        {
          "output_type": "execute_result",
          "data": {
            "text/html": [
              "<div>\n",
              "<style scoped>\n",
              "    .dataframe tbody tr th:only-of-type {\n",
              "        vertical-align: middle;\n",
              "    }\n",
              "\n",
              "    .dataframe tbody tr th {\n",
              "        vertical-align: top;\n",
              "    }\n",
              "\n",
              "    .dataframe thead th {\n",
              "        text-align: right;\n",
              "    }\n",
              "</style>\n",
              "<table border=\"1\" class=\"dataframe\">\n",
              "  <thead>\n",
              "    <tr style=\"text-align: right;\">\n",
              "      <th></th>\n",
              "      <th>age</th>\n",
              "      <th>ethnicity</th>\n",
              "      <th>gender</th>\n",
              "      <th>img_name</th>\n",
              "      <th>pixels</th>\n",
              "    </tr>\n",
              "  </thead>\n",
              "  <tbody>\n",
              "    <tr>\n",
              "      <th>0</th>\n",
              "      <td>1</td>\n",
              "      <td>2</td>\n",
              "      <td>0</td>\n",
              "      <td>20161219203650636.jpg.chip.jpg</td>\n",
              "      <td>[[129.0, 128.0, 128.0, 126.0, 127.0, 130.0, 13...</td>\n",
              "    </tr>\n",
              "    <tr>\n",
              "      <th>1</th>\n",
              "      <td>1</td>\n",
              "      <td>2</td>\n",
              "      <td>0</td>\n",
              "      <td>20161219222752047.jpg.chip.jpg</td>\n",
              "      <td>[[164.0, 74.0, 111.0, 168.0, 169.0, 171.0, 175...</td>\n",
              "    </tr>\n",
              "    <tr>\n",
              "      <th>2</th>\n",
              "      <td>1</td>\n",
              "      <td>2</td>\n",
              "      <td>0</td>\n",
              "      <td>20161219222832191.jpg.chip.jpg</td>\n",
              "      <td>[[67.0, 70.0, 71.0, 70.0, 69.0, 67.0, 70.0, 79...</td>\n",
              "    </tr>\n",
              "    <tr>\n",
              "      <th>3</th>\n",
              "      <td>1</td>\n",
              "      <td>2</td>\n",
              "      <td>0</td>\n",
              "      <td>20161220144911423.jpg.chip.jpg</td>\n",
              "      <td>[[193.0, 197.0, 198.0, 200.0, 199.0, 200.0, 20...</td>\n",
              "    </tr>\n",
              "    <tr>\n",
              "      <th>4</th>\n",
              "      <td>1</td>\n",
              "      <td>2</td>\n",
              "      <td>0</td>\n",
              "      <td>20161220144914327.jpg.chip.jpg</td>\n",
              "      <td>[[202.0, 205.0, 209.0, 210.0, 209.0, 209.0, 21...</td>\n",
              "    </tr>\n",
              "  </tbody>\n",
              "</table>\n",
              "</div>"
            ],
            "text/plain": [
              "   age  ...                                             pixels\n",
              "0    1  ...  [[129.0, 128.0, 128.0, 126.0, 127.0, 130.0, 13...\n",
              "1    1  ...  [[164.0, 74.0, 111.0, 168.0, 169.0, 171.0, 175...\n",
              "2    1  ...  [[67.0, 70.0, 71.0, 70.0, 69.0, 67.0, 70.0, 79...\n",
              "3    1  ...  [[193.0, 197.0, 198.0, 200.0, 199.0, 200.0, 20...\n",
              "4    1  ...  [[202.0, 205.0, 209.0, 210.0, 209.0, 209.0, 21...\n",
              "\n",
              "[5 rows x 5 columns]"
            ]
          },
          "metadata": {
            "tags": []
          },
          "execution_count": 23
        }
      ]
    },
    {
      "cell_type": "code",
      "metadata": {
        "colab": {
          "base_uri": "https://localhost:8080/"
        },
        "id": "RCe58oN5wNbm",
        "outputId": "bf58b992-f16e-4654-9b2f-2003b00f8481"
      },
      "source": [
        "df['ethnicity'].value_counts()"
      ],
      "execution_count": null,
      "outputs": [
        {
          "output_type": "execute_result",
          "data": {
            "text/plain": [
              "0    10078\n",
              "1     4526\n",
              "3     3975\n",
              "2     3434\n",
              "4     1692\n",
              "Name: ethnicity, dtype: int64"
            ]
          },
          "metadata": {
            "tags": []
          },
          "execution_count": 24
        }
      ]
    },
    {
      "cell_type": "code",
      "metadata": {
        "colab": {
          "base_uri": "https://localhost:8080/",
          "height": 1000
        },
        "id": "ppilbrnZtXqt",
        "outputId": "b8b930b7-f20b-4659-cbdf-00c8376784b7"
      },
      "source": [
        "gender_values_to_labels = { 1 : \"Female\", 0:\"Male\"}\n",
        "eth_values_to_labels = {0:'White',1:'Black',2:'Indian',3:'Asian',4:'Hispanic'}\n",
        "def plot_data(rows, cols, lower_value, upper_value):\n",
        "    fig = plt.figure(figsize=(cols*3,rows*4))\n",
        "    for i in range(1, cols*rows + 1):\n",
        "        k = np.random.randint(lower_value,upper_value)\n",
        "        fig.add_subplot(rows, cols, i) # adding sub plot\n",
        "        gender = gender_values_to_labels[df.gender[k]]\n",
        "        ethnicity = eth_values_to_labels[df.ethnicity[k]]\n",
        "        age = df.age[k]\n",
        "        im = df.pixels[k]\n",
        "        plt.imshow(im, cmap='gray')\n",
        "        plt.axis('off')\n",
        "        plt.title(f'Gender:{gender}nAge:{age}nEthnicity:{ethnicity}')\n",
        "        plt.tight_layout()\n",
        "        plt.show()\n",
        "plot_data(rows=1, cols=7, lower_value=0, upper_value=len(df))"
      ],
      "execution_count": null,
      "outputs": [
        {
          "output_type": "display_data",
          "data": {
            "image/png": "[encoded data removed]",
            "text/plain": [
              "<Figure size 1512x288 with 1 Axes>"
            ]
          },
          "metadata": {
            "tags": [],
            "needs_background": "light"
          }
        },
        {
          "output_type": "display_data",
          "data": {
            "image/png": "[encoded data removed]",
            "text/plain": [
              "<Figure size 432x288 with 1 Axes>"
            ]
          },
          "metadata": {
            "tags": [],
            "needs_background": "light"
          }
        },
        {
          "output_type": "display_data",
          "data": {
            "image/png": "[encoded data removed]",
            "text/plain": [
              "<Figure size 432x288 with 1 Axes>"
            ]
          },
          "metadata": {
            "tags": [],
            "needs_background": "light"
          }
        },
        {
          "output_type": "display_data",
          "data": {
            "image/png": "[encoded data removed]",
            "text/plain": [
              "<Figure size 432x288 with 1 Axes>"
            ]
          },
          "metadata": {
            "tags": [],
            "needs_background": "light"
          }
        },
        {
          "output_type": "display_data",
          "data": {
            "image/png": "[encoded data removed]",
            "text/plain": [
              "<Figure size 432x288 with 1 Axes>"
            ]
          },
          "metadata": {
            "tags": [],
            "needs_background": "light"
          }
        },
        {
          "output_type": "display_data",
          "data": {
            "image/png": "[encoded data removed]",
            "text/plain": [
              "<Figure size 432x288 with 1 Axes>"
            ]
          },
          "metadata": {
            "tags": [],
            "needs_background": "light"
          }
        },
        {
          "output_type": "display_data",
          "data": {
            "image/png": "[encoded data removed]",
            "text/plain": [
              "<Figure size 432x288 with 1 Axes>"
            ]
          },
          "metadata": {
            "tags": [],
            "needs_background": "light"
          }
        }
      ]
    },
    {
      "cell_type": "code",
      "metadata": {
        "colab": {
          "base_uri": "https://localhost:8080/"
        },
        "id": "uNT3vQbn8h7-",
        "outputId": "156abaa2-b124-4b1a-8168-6f30ff7847f5"
      },
      "source": [
        "# pip install Keras-Applications\n",
        "!pip install cmake\n",
        "!pip install dlib\n",
        "!pip install face-recognition"
      ],
      "execution_count": null,
      "outputs": [
        {
          "output_type": "stream",
          "text": [
            "Requirement already satisfied: cmake in /usr/local/lib/python3.7/dist-packages (3.12.0)\n",
            "Requirement already satisfied: dlib in /usr/local/lib/python3.7/dist-packages (19.18.0)\n",
            "Collecting face-recognition\n",
            "  Downloading face_recognition-1.3.0-py2.py3-none-any.whl (15 kB)\n",
            "Requirement already satisfied: numpy in /usr/local/lib/python3.7/dist-packages (from face-recognition) (1.19.5)\n",
            "Requirement already satisfied: Click>=6.0 in /usr/local/lib/python3.7/dist-packages (from face-recognition) (7.1.2)\n",
            "Collecting face-recognition-models>=0.3.0\n",
            "  Downloading face_recognition_models-0.3.0.tar.gz (100.1 MB)\n",
            "\u001b[K     |████████████████████████████████| 100.1 MB 20 kB/s \n",
            "\u001b[?25hRequirement already satisfied: Pillow in /usr/local/lib/python3.7/dist-packages (from face-recognition) (7.1.2)\n",
            "Requirement already satisfied: dlib>=19.7 in /usr/local/lib/python3.7/dist-packages (from face-recognition) (19.18.0)\n",
            "Building wheels for collected packages: face-recognition-models\n",
            "  Building wheel for face-recognition-models (setup.py) ... \u001b[?25l\u001b[?25hdone\n",
            "  Created wheel for face-recognition-models: filename=face_recognition_models-0.3.0-py2.py3-none-any.whl size=100566184 sha256=7551a0e2074e20a29fd9fc2aea7eb18e1e77039071a69a0cb00f17fadfd21604\n",
            "  Stored in directory: /root/.cache/pip/wheels/d6/81/3c/884bcd5e1c120ff548d57c2ecc9ebf3281c9a6f7c0e7e7947a\n",
            "Successfully built face-recognition-models\n",
            "Installing collected packages: face-recognition-models, face-recognition\n",
            "Successfully installed face-recognition-1.3.0 face-recognition-models-0.3.0\n"
          ],
          "name": "stdout"
        }
      ]
    },
    {
      "cell_type": "code",
      "metadata": {
        "id": "h5rjJe18tXvF"
      },
      "source": [
        "import keras\n",
        "import json\n",
        "import sys\n",
        "import tensorflow as tf\n",
        "from keras.layers import Input\n",
        "import numpy as np\n",
        "import argparse\n",
        "from keras_applications.resnet import ResNet50\n",
        "from keras.utils.data_utils import get_file\n",
        "import face_recognition"
      ],
      "execution_count": null,
      "outputs": []
    },
    {
      "cell_type": "code",
      "metadata": {
        "colab": {
          "base_uri": "https://localhost:8080/",
          "height": 265
        },
        "id": "gKL94JqO8YCi",
        "outputId": "666bed8d-3002-4648-f408-b5b3bcb3337f"
      },
      "source": [
        "import numpy as np\n",
        "import pandas as pd\n",
        "import matplotlib.pyplot as plt\n",
        "import seaborn as sns\n",
        "import cv2\n",
        "from PIL import Image\n",
        "\n",
        "df=pd.read_csv(path)\n",
        "# df.head()\n",
        "df1= pd.DataFrame(df)\n",
        "df1['pixels'] = df1.pixels.apply(lambda x: np.reshape(np.array(x.split(' '),dtype='float32'),(48,48)))\n",
        "df1['pixels']= df1['pixels']/255\n",
        "im = df1['pixels'][0]\n",
        "plt.imshow(im, cmap='gray')\n",
        "plt.axis('off')"
      ],
      "execution_count": null,
      "outputs": [
        {
          "output_type": "execute_result",
          "data": {
            "text/plain": [
              "(-0.5, 47.5, 47.5, -0.5)"
            ]
          },
          "metadata": {
            "tags": []
          },
          "execution_count": 38
        },
        {
          "output_type": "display_data",
          "data": {
            "image/png": "[encoded data removed]",
            "text/plain": [
              "<Figure size 432x288 with 1 Axes>"
            ]
          },
          "metadata": {
            "tags": [],
            "needs_background": "light"
          }
        }
      ]
    },
    {
      "cell_type": "code",
      "metadata": {
        "colab": {
          "base_uri": "https://localhost:8080/"
        },
        "id": "QjtWTiKI91Xx",
        "outputId": "864babcf-5fbb-4a97-e571-5771eaa0e44a"
      },
      "source": [
        "df.shape"
      ],
      "execution_count": null,
      "outputs": [
        {
          "output_type": "execute_result",
          "data": {
            "text/plain": [
              "(23705, 5)"
            ]
          },
          "metadata": {
            "tags": []
          },
          "execution_count": 39
        }
      ]
    },
    {
      "cell_type": "code",
      "metadata": {
        "id": "YuLpkY6H8YFd"
      },
      "source": [
        "X = np.zeros(shape=(23705,48,48))\n",
        "for i in range(len(df1[\"pixels\"])):\n",
        "    X[i] = df1[\"pixels\"][i]\n",
        "\n"
      ],
      "execution_count": null,
      "outputs": []
    },
    {
      "cell_type": "code",
      "metadata": {
        "colab": {
          "base_uri": "https://localhost:8080/"
        },
        "id": "1oz8-CvU8YIC",
        "outputId": "6e10bd0f-1dc0-41c3-80bd-cad093fca335"
      },
      "source": [
        "X.dtype\n",
        "# Output - dtype('float64')\n",
        "#Age"
      ],
      "execution_count": null,
      "outputs": [
        {
          "output_type": "execute_result",
          "data": {
            "text/plain": [
              "dtype('float64')"
            ]
          },
          "metadata": {
            "tags": []
          },
          "execution_count": 41
        }
      ]
    },
    {
      "cell_type": "code",
      "metadata": {
        "colab": {
          "base_uri": "https://localhost:8080/"
        },
        "id": "Y-6ZMeUc8YKo",
        "outputId": "83561432-07a3-47db-bf9d-e56c93a9acf3"
      },
      "source": [
        "ag = df1['age']\n",
        "ag=ag.astype(float)\n",
        "ag= np.array(ag)\n",
        "ag.shape"
      ],
      "execution_count": null,
      "outputs": [
        {
          "output_type": "execute_result",
          "data": {
            "text/plain": [
              "(23705,)"
            ]
          },
          "metadata": {
            "tags": []
          },
          "execution_count": 59
        }
      ]
    },
    {
      "cell_type": "code",
      "metadata": {
        "colab": {
          "base_uri": "https://localhost:8080/"
        },
        "id": "1e_KEoffHxGh",
        "outputId": "3757eb27-18d6-4adc-8be7-7a6cb56bf11e"
      },
      "source": [
        "eth = df1['ethnicity']\n",
        "eth=eth.astype(float)\n",
        "eth= np.array(eth)\n",
        "eth.shape"
      ],
      "execution_count": null,
      "outputs": [
        {
          "output_type": "execute_result",
          "data": {
            "text/plain": [
              "(23705,)"
            ]
          },
          "metadata": {
            "tags": []
          },
          "execution_count": 83
        }
      ]
    },
    {
      "cell_type": "code",
      "metadata": {
        "colab": {
          "base_uri": "https://localhost:8080/"
        },
        "id": "bvmSQ6S88YP6",
        "outputId": "030e463f-9e72-43e1-a26b-21c48b4ef2a4"
      },
      "source": [
        "g= df1['gender']\n",
        "g=np.array(g)\n",
        "g.shape"
      ],
      "execution_count": null,
      "outputs": [
        {
          "output_type": "execute_result",
          "data": {
            "text/plain": [
              "(23705,)"
            ]
          },
          "metadata": {
            "tags": []
          },
          "execution_count": 151
        }
      ]
    },
    {
      "cell_type": "code",
      "metadata": {
        "colab": {
          "base_uri": "https://localhost:8080/"
        },
        "id": "Io-ryKPzATIQ",
        "outputId": "7f9cb667-ae30-4af1-dfcf-2e97fddc920e"
      },
      "source": [
        "labels_f =[]\n",
        "\n",
        "i=0\n",
        "\n",
        "while i <len(ag):\n",
        "\n",
        "  label=[]\n",
        "\n",
        "  label.append([ag[i]])\n",
        "\n",
        "  label.append([g[i]])\n",
        "\n",
        "  # label.append([eth[i]])\n",
        "\n",
        "  labels_f.append(label)\n",
        "\n",
        "  i+=1\n",
        "\n",
        "# Both age and gender are combined and stored in labels_f, we will further convert the list into array.\n",
        "\n",
        "labels_f =np.array(labels_f)\n",
        "labels_f.shape"
      ],
      "execution_count": null,
      "outputs": [
        {
          "output_type": "execute_result",
          "data": {
            "text/plain": [
              "(23705, 2, 1)"
            ]
          },
          "metadata": {
            "tags": []
          },
          "execution_count": 167
        }
      ]
    },
    {
      "cell_type": "code",
      "metadata": {
        "colab": {
          "base_uri": "https://localhost:8080/"
        },
        "id": "q46LxXW4EiqH",
        "outputId": "b7110a8d-f972-4e0f-c878-12348f67ef71"
      },
      "source": [
        "labels_f"
      ],
      "execution_count": null,
      "outputs": [
        {
          "output_type": "execute_result",
          "data": {
            "text/plain": [
              "array([[[ 1.],\n",
              "        [ 0.]],\n",
              "\n",
              "       [[ 1.],\n",
              "        [ 0.]],\n",
              "\n",
              "       [[ 1.],\n",
              "        [ 0.]],\n",
              "\n",
              "       ...,\n",
              "\n",
              "       [[99.],\n",
              "        [ 1.]],\n",
              "\n",
              "       [[99.],\n",
              "        [ 1.]],\n",
              "\n",
              "       [[99.],\n",
              "        [ 1.]]])"
            ]
          },
          "metadata": {
            "tags": []
          },
          "execution_count": 168
        }
      ]
    },
    {
      "cell_type": "code",
      "metadata": {
        "colab": {
          "base_uri": "https://localhost:8080/"
        },
        "id": "oropsmSlEOFo",
        "outputId": "d18952e4-3fee-4caf-f976-61aa4519e139"
      },
      "source": [
        "ag.shape"
      ],
      "execution_count": null,
      "outputs": [
        {
          "output_type": "execute_result",
          "data": {
            "text/plain": [
              "(23705,)"
            ]
          },
          "metadata": {
            "tags": []
          },
          "execution_count": 134
        }
      ]
    },
    {
      "cell_type": "code",
      "metadata": {
        "id": "IYuhwdQPATFV"
      },
      "source": [
        "#Splitting the data taking data set\n",
        "import tensorflow as tf\n",
        "\n",
        "from sklearn.model_selection import train_test_split"
      ],
      "execution_count": null,
      "outputs": []
    },
    {
      "cell_type": "code",
      "metadata": {
        "colab": {
          "base_uri": "https://localhost:8080/"
        },
        "id": "Tz_Mi8tSATAZ",
        "outputId": "539b0ee6-4d00-4ec3-953f-b418a8b5c670"
      },
      "source": [
        "X_train, X_test, Y_train, Y_test= train_test_split(X,labels_f,test_size=0.25)\n",
        "\n",
        "print(X_test.shape)\n",
        "\n",
        "print(X_train.shape)\n",
        "\n",
        "print(Y_test.shape)\n",
        "\n",
        "print(Y_train.shape)"
      ],
      "execution_count": null,
      "outputs": [
        {
          "output_type": "stream",
          "text": [
            "(5927, 48, 48)\n",
            "(17778, 48, 48)\n",
            "(5927, 2, 1)\n",
            "(17778, 2, 1)\n"
          ],
          "name": "stdout"
        }
      ]
    },
    {
      "cell_type": "code",
      "metadata": {
        "id": "lBD5Efc2AS9L"
      },
      "source": [
        "# Y_train_2=[Y_train[:,0]]\n",
        "# Y_test_2=[Y_test[:,0]]\n",
        "\n",
        "Y_train_2=[Y_train[:,1],Y_train[:,0]]\n",
        "Y_test_2=[Y_test[:,1],Y_test[:,0]]\n",
        "\n",
        "# Y_train_2 = [Y_train[:,2],Y_train[:,1],Y_train[:,0]]\n",
        "# Y_test_2 = [Y_test[:,2],Y_test[:,1],Y_test[:,0]]"
      ],
      "execution_count": null,
      "outputs": []
    },
    {
      "cell_type": "code",
      "metadata": {
        "colab": {
          "base_uri": "https://localhost:8080/"
        },
        "id": "teMjVpaJJRbP",
        "outputId": "ef6cd285-15db-4e91-c2e2-53a6cdf0a77a"
      },
      "source": [
        "Y_train_2[0]"
      ],
      "execution_count": null,
      "outputs": [
        {
          "output_type": "execute_result",
          "data": {
            "text/plain": [
              "array([[1],\n",
              "       [0],\n",
              "       [1],\n",
              "       ...,\n",
              "       [0],\n",
              "       [0],\n",
              "       [0]])"
            ]
          },
          "metadata": {
            "tags": []
          },
          "execution_count": 163
        }
      ]
    },
    {
      "cell_type": "code",
      "metadata": {
        "id": "y6XZpYdAAS38"
      },
      "source": [
        "from tensorflow.keras.layers import Dropout\n",
        "\n",
        "from tensorflow.keras.layers import Flatten,BatchNormalization\n",
        "\n",
        "from tensorflow.keras.layers import Dense, MaxPooling2D,Conv2D\n",
        "\n",
        "from tensorflow.keras.layers import Input,Activation,Add\n",
        "\n",
        "from tensorflow.keras.models import Model\n",
        "\n",
        "from tensorflow.keras.regularizers import l2\n",
        "\n",
        "from tensorflow.keras.optimizers import Adam\n",
        "\n",
        "import tensorflow as tf\n",
        "\n",
        "def Convolution(input_tensor,filters):\n",
        "\n",
        "    x = Conv2D(filters=filters,kernel_size=(3, 3),padding = 'same',strides=(1, 1),kernel_regularizer=l2(0.001))(input_tensor)\n",
        "\n",
        "    x = Dropout(0.1)(x)\n",
        "\n",
        "    x= Activation('relu')(x)\n",
        "\n",
        "    return x\n",
        "\n",
        "def model(input_shape):\n",
        "\n",
        "  inputs = Input((input_shape))\n",
        "\n",
        "  conv_1= Convolution(inputs,32)\n",
        "\n",
        "  maxp_1 = MaxPooling2D(pool_size = (2,2)) (conv_1)\n",
        "\n",
        "  conv_2 = Convolution(maxp_1,64)\n",
        "\n",
        "  maxp_2 = MaxPooling2D(pool_size = (2, 2)) (conv_2)\n",
        "\n",
        "  conv_3 = Convolution(maxp_2,128)\n",
        "\n",
        "  maxp_3 = MaxPooling2D(pool_size = (2, 2)) (conv_3)\n",
        "\n",
        "  conv_4 = Convolution(maxp_3,256)\n",
        "\n",
        "  maxp_4 = MaxPooling2D(pool_size = (2, 2)) (conv_4)\n",
        "\n",
        "  flatten= Flatten() (maxp_4)\n",
        "\n",
        "  dense_1= Dense(64,activation='relu')(flatten)\n",
        "\n",
        "  dense_2= Dense(64,activation='relu')(flatten)\n",
        "\n",
        "  # dense_3= Dense(64,activation='relu')(flatten)\n",
        "\n",
        "  drop_1=Dropout(0.2)(dense_1)\n",
        "\n",
        "  drop_2=Dropout(0.2)(dense_2)\n",
        "  # drop_3=Dropout(0.2)(dense_3)\n",
        "\n",
        "  # output_3= Dense(1,activation=\"relu\",name='eth_out')(drop_3)\n",
        "  output_1= Dense(1,activation=\"sigmoid\",name='sex_out')(drop_1)\n",
        "\n",
        "  output_2= Dense(1,activation=\"relu\",name='age_out')(drop_2)\n",
        "  \n",
        "  model = Model(inputs=[inputs], outputs=[output_1,output_2])\n",
        "  # model = Model(inputs=[inputs], outputs=[output_3,output_1,output_2])\n",
        "\n",
        "  model.compile(loss=[\"binary_crossentropy\",\"mae\"], optimizer=\"Adam\",\n",
        "\n",
        "  metrics=[\"accuracy\"])\n",
        "\n",
        "  return model"
      ],
      "execution_count": null,
      "outputs": []
    },
    {
      "cell_type": "code",
      "metadata": {
        "colab": {
          "base_uri": "https://localhost:8080/"
        },
        "id": "HtPfiN5nAS1h",
        "outputId": "e1c8085d-f1e2-4e58-ede6-8eb6f4faf124"
      },
      "source": [
        "Model=model((48,48,1))\n",
        "Model.summary()"
      ],
      "execution_count": null,
      "outputs": [
        {
          "output_type": "stream",
          "text": [
            "Model: \"model_7\"\n",
            "__________________________________________________________________________________________________\n",
            "Layer (type)                    Output Shape         Param #     Connected to                     \n",
            "==================================================================================================\n",
            "input_13 (InputLayer)           [(None, 48, 48, 1)]  0                                            \n",
            "__________________________________________________________________________________________________\n",
            "conv2d_48 (Conv2D)              (None, 48, 48, 32)   320         input_13[0][0]                   \n",
            "__________________________________________________________________________________________________\n",
            "dropout_70 (Dropout)            (None, 48, 48, 32)   0           conv2d_48[0][0]                  \n",
            "__________________________________________________________________________________________________\n",
            "activation_48 (Activation)      (None, 48, 48, 32)   0           dropout_70[0][0]                 \n",
            "__________________________________________________________________________________________________\n",
            "max_pooling2d_48 (MaxPooling2D) (None, 24, 24, 32)   0           activation_48[0][0]              \n",
            "__________________________________________________________________________________________________\n",
            "conv2d_49 (Conv2D)              (None, 24, 24, 64)   18496       max_pooling2d_48[0][0]           \n",
            "__________________________________________________________________________________________________\n",
            "dropout_71 (Dropout)            (None, 24, 24, 64)   0           conv2d_49[0][0]                  \n",
            "__________________________________________________________________________________________________\n",
            "activation_49 (Activation)      (None, 24, 24, 64)   0           dropout_71[0][0]                 \n",
            "__________________________________________________________________________________________________\n",
            "max_pooling2d_49 (MaxPooling2D) (None, 12, 12, 64)   0           activation_49[0][0]              \n",
            "__________________________________________________________________________________________________\n",
            "conv2d_50 (Conv2D)              (None, 12, 12, 128)  73856       max_pooling2d_49[0][0]           \n",
            "__________________________________________________________________________________________________\n",
            "dropout_72 (Dropout)            (None, 12, 12, 128)  0           conv2d_50[0][0]                  \n",
            "__________________________________________________________________________________________________\n",
            "activation_50 (Activation)      (None, 12, 12, 128)  0           dropout_72[0][0]                 \n",
            "__________________________________________________________________________________________________\n",
            "max_pooling2d_50 (MaxPooling2D) (None, 6, 6, 128)    0           activation_50[0][0]              \n",
            "__________________________________________________________________________________________________\n",
            "conv2d_51 (Conv2D)              (None, 6, 6, 256)    295168      max_pooling2d_50[0][0]           \n",
            "__________________________________________________________________________________________________\n",
            "dropout_73 (Dropout)            (None, 6, 6, 256)    0           conv2d_51[0][0]                  \n",
            "__________________________________________________________________________________________________\n",
            "activation_51 (Activation)      (None, 6, 6, 256)    0           dropout_73[0][0]                 \n",
            "__________________________________________________________________________________________________\n",
            "max_pooling2d_51 (MaxPooling2D) (None, 3, 3, 256)    0           activation_51[0][0]              \n",
            "__________________________________________________________________________________________________\n",
            "flatten_12 (Flatten)            (None, 2304)         0           max_pooling2d_51[0][0]           \n",
            "__________________________________________________________________________________________________\n",
            "dense_25 (Dense)                (None, 64)           147520      flatten_12[0][0]                 \n",
            "__________________________________________________________________________________________________\n",
            "dense_26 (Dense)                (None, 64)           147520      flatten_12[0][0]                 \n",
            "__________________________________________________________________________________________________\n",
            "dropout_74 (Dropout)            (None, 64)           0           dense_25[0][0]                   \n",
            "__________________________________________________________________________________________________\n",
            "dropout_75 (Dropout)            (None, 64)           0           dense_26[0][0]                   \n",
            "__________________________________________________________________________________________________\n",
            "sex_out (Dense)                 (None, 1)            65          dropout_74[0][0]                 \n",
            "__________________________________________________________________________________________________\n",
            "age_out (Dense)                 (None, 1)            65          dropout_75[0][0]                 \n",
            "==================================================================================================\n",
            "Total params: 683,010\n",
            "Trainable params: 683,010\n",
            "Non-trainable params: 0\n",
            "__________________________________________________________________________________________________\n"
          ],
          "name": "stdout"
        }
      ]
    },
    {
      "cell_type": "code",
      "metadata": {
        "colab": {
          "base_uri": "https://localhost:8080/"
        },
        "id": "9ZGL-TfqE7wP",
        "outputId": "2ea4baf6-a9f9-49fe-de73-a8d867795265"
      },
      "source": [
        "History = Model.fit(X_train,Y_train_2, batch_size=64, validation_data=(X_test,Y_test_2), epochs=15)"
      ],
      "execution_count": null,
      "outputs": [
        {
          "output_type": "stream",
          "text": [
            "Epoch 1/15\n",
            "278/278 [==============================] - 5s 14ms/step - loss: 16.8659 - sex_out_loss: 0.6944 - age_out_loss: 15.9927 - sex_out_accuracy: 0.5304 - age_out_accuracy: 0.0477 - val_loss: 18.1557 - val_sex_out_loss: 0.6928 - val_age_out_loss: 17.2985 - val_sex_out_accuracy: 0.5131 - val_age_out_accuracy: 0.0459\n",
            "Epoch 2/15\n",
            "278/278 [==============================] - 4s 13ms/step - loss: 14.0753 - sex_out_loss: 0.6601 - age_out_loss: 13.2152 - sex_out_accuracy: 0.5955 - age_out_accuracy: 0.0478 - val_loss: 16.3088 - val_sex_out_loss: 0.5869 - val_age_out_loss: 15.4733 - val_sex_out_accuracy: 0.7297 - val_age_out_accuracy: 0.0396\n",
            "Epoch 3/15\n",
            "278/278 [==============================] - 4s 15ms/step - loss: 11.6881 - sex_out_loss: 0.5722 - age_out_loss: 10.8375 - sex_out_accuracy: 0.7070 - age_out_accuracy: 0.0448 - val_loss: 12.3704 - val_sex_out_loss: 0.5236 - val_age_out_loss: 11.5473 - val_sex_out_accuracy: 0.7555 - val_age_out_accuracy: 0.0454\n",
            "Epoch 4/15\n",
            "278/278 [==============================] - 4s 15ms/step - loss: 10.7735 - sex_out_loss: 0.5223 - age_out_loss: 9.9371 - sex_out_accuracy: 0.7452 - age_out_accuracy: 0.0435 - val_loss: 12.6779 - val_sex_out_loss: 0.4883 - val_age_out_loss: 11.8617 - val_sex_out_accuracy: 0.7894 - val_age_out_accuracy: 0.0432\n",
            "Epoch 5/15\n",
            "278/278 [==============================] - 4s 14ms/step - loss: 10.2484 - sex_out_loss: 0.4898 - age_out_loss: 9.4168 - sex_out_accuracy: 0.7698 - age_out_accuracy: 0.0456 - val_loss: 12.4899 - val_sex_out_loss: 0.4697 - val_age_out_loss: 11.6672 - val_sex_out_accuracy: 0.7893 - val_age_out_accuracy: 0.0459\n",
            "Epoch 6/15\n",
            "278/278 [==============================] - 4s 14ms/step - loss: 9.6971 - sex_out_loss: 0.4660 - age_out_loss: 8.8629 - sex_out_accuracy: 0.7822 - age_out_accuracy: 0.0463 - val_loss: 10.6544 - val_sex_out_loss: 0.4172 - val_age_out_loss: 9.8552 - val_sex_out_accuracy: 0.8174 - val_age_out_accuracy: 0.0459\n",
            "Epoch 7/15\n",
            "278/278 [==============================] - 4s 14ms/step - loss: 9.3283 - sex_out_loss: 0.4441 - age_out_loss: 8.4888 - sex_out_accuracy: 0.7943 - age_out_accuracy: 0.0459 - val_loss: 11.3055 - val_sex_out_loss: 0.4186 - val_age_out_loss: 10.4789 - val_sex_out_accuracy: 0.8134 - val_age_out_accuracy: 0.0459\n",
            "Epoch 8/15\n",
            "278/278 [==============================] - 4s 14ms/step - loss: 9.0303 - sex_out_loss: 0.4180 - age_out_loss: 8.1929 - sex_out_accuracy: 0.8142 - age_out_accuracy: 0.0455 - val_loss: 13.5812 - val_sex_out_loss: 0.4035 - val_age_out_loss: 12.7493 - val_sex_out_accuracy: 0.8308 - val_age_out_accuracy: 0.0449\n",
            "Epoch 9/15\n",
            "278/278 [==============================] - 4s 14ms/step - loss: 8.8383 - sex_out_loss: 0.4043 - age_out_loss: 7.9933 - sex_out_accuracy: 0.8185 - age_out_accuracy: 0.0465 - val_loss: 12.5123 - val_sex_out_loss: 0.3824 - val_age_out_loss: 11.6780 - val_sex_out_accuracy: 0.8392 - val_age_out_accuracy: 0.0434\n",
            "Epoch 10/15\n",
            "278/278 [==============================] - 4s 14ms/step - loss: 8.4970 - sex_out_loss: 0.3877 - age_out_loss: 7.6481 - sex_out_accuracy: 0.8268 - age_out_accuracy: 0.0461 - val_loss: 9.1018 - val_sex_out_loss: 0.3529 - val_age_out_loss: 8.2786 - val_sex_out_accuracy: 0.8475 - val_age_out_accuracy: 0.0456\n",
            "Epoch 11/15\n",
            "278/278 [==============================] - 4s 14ms/step - loss: 8.3144 - sex_out_loss: 0.3754 - age_out_loss: 7.4608 - sex_out_accuracy: 0.8301 - age_out_accuracy: 0.0471 - val_loss: 10.0933 - val_sex_out_loss: 0.3389 - val_age_out_loss: 9.2667 - val_sex_out_accuracy: 0.8495 - val_age_out_accuracy: 0.0459\n",
            "Epoch 12/15\n",
            "278/278 [==============================] - 4s 15ms/step - loss: 8.1661 - sex_out_loss: 0.3539 - age_out_loss: 7.3151 - sex_out_accuracy: 0.8402 - age_out_accuracy: 0.0466 - val_loss: 11.3819 - val_sex_out_loss: 0.3432 - val_age_out_loss: 10.5347 - val_sex_out_accuracy: 0.8470 - val_age_out_accuracy: 0.0459\n",
            "Epoch 13/15\n",
            "278/278 [==============================] - 4s 13ms/step - loss: 8.0525 - sex_out_loss: 0.3442 - age_out_loss: 7.1936 - sex_out_accuracy: 0.8427 - age_out_accuracy: 0.0479 - val_loss: 9.9209 - val_sex_out_loss: 0.3167 - val_age_out_loss: 9.0800 - val_sex_out_accuracy: 0.8603 - val_age_out_accuracy: 0.0459\n",
            "Epoch 14/15\n",
            "278/278 [==============================] - 4s 14ms/step - loss: 7.8922 - sex_out_loss: 0.3329 - age_out_loss: 7.0259 - sex_out_accuracy: 0.8477 - age_out_accuracy: 0.0479 - val_loss: 10.2319 - val_sex_out_loss: 0.3085 - val_age_out_loss: 9.3808 - val_sex_out_accuracy: 0.8677 - val_age_out_accuracy: 0.0459\n",
            "Epoch 15/15\n",
            "278/278 [==============================] - 4s 13ms/step - loss: 7.7954 - sex_out_loss: 0.3267 - age_out_loss: 6.9168 - sex_out_accuracy: 0.8521 - age_out_accuracy: 0.0478 - val_loss: 9.7252 - val_sex_out_loss: 0.3332 - val_age_out_loss: 8.8301 - val_sex_out_accuracy: 0.8417 - val_age_out_accuracy: 0.0459\n"
          ],
          "name": "stdout"
        }
      ]
    },
    {
      "cell_type": "code",
      "metadata": {
        "colab": {
          "base_uri": "https://localhost:8080/"
        },
        "id": "cqr6yPOkE8YR",
        "outputId": "63436537-ba22-4ca2-afb0-92a9787f7379"
      },
      "source": [
        "Model.evaluate(X_test,Y_test_2)"
      ],
      "execution_count": null,
      "outputs": [
        {
          "output_type": "stream",
          "text": [
            "186/186 [==============================] - 1s 4ms/step - loss: 9.7252 - sex_out_loss: 0.3332 - age_out_loss: 8.8301 - sex_out_accuracy: 0.8417 - age_out_accuracy: 0.0459\n"
          ],
          "name": "stdout"
        },
        {
          "output_type": "execute_result",
          "data": {
            "text/plain": [
              "[9.7251558303833,\n",
              " 0.3332240581512451,\n",
              " 8.83005142211914,\n",
              " 0.8417412042617798,\n",
              " 0.04589168354868889]"
            ]
          },
          "metadata": {
            "tags": []
          },
          "execution_count": 175
        }
      ]
    },
    {
      "cell_type": "code",
      "metadata": {
        "colab": {
          "base_uri": "https://localhost:8080/"
        },
        "id": "lYBG8TlsFsBp",
        "outputId": "2fc1aa9b-27af-460b-cc82-4339c4b57864"
      },
      "source": [
        "pred=Model.predict(X_test)\n",
        "pred[1]"
      ],
      "execution_count": null,
      "outputs": [
        {
          "output_type": "execute_result",
          "data": {
            "text/plain": [
              "array([[ 0.7992953],\n",
              "       [18.850512 ],\n",
              "       [37.970486 ],\n",
              "       ...,\n",
              "       [15.308779 ],\n",
              "       [ 1.6071029],\n",
              "       [25.309603 ]], dtype=float32)"
            ]
          },
          "metadata": {
            "tags": []
          },
          "execution_count": 176
        }
      ]
    },
    {
      "cell_type": "code",
      "metadata": {
        "colab": {
          "base_uri": "https://localhost:8080/"
        },
        "id": "BPtRFTVvGOYI",
        "outputId": "bac6d2ef-3e89-4ece-8591-f2c6cd9b6213"
      },
      "source": [
        "pred"
      ],
      "execution_count": null,
      "outputs": [
        {
          "output_type": "execute_result",
          "data": {
            "text/plain": [
              "[array([[5.50376  ],\n",
              "        [9.137657 ],\n",
              "        [8.942183 ],\n",
              "        ...,\n",
              "        [6.493449 ],\n",
              "        [6.7081866],\n",
              "        [4.3813925]], dtype=float32), array([[4.6304299e-04],\n",
              "        [3.0685815e-06],\n",
              "        [3.7262271e-06],\n",
              "        ...,\n",
              "        [1.2968140e-04],\n",
              "        [8.1587219e-05],\n",
              "        [1.9249172e-03]], dtype=float32), array([[0.19694842],\n",
              "        [0.24601129],\n",
              "        [0.22518028],\n",
              "        ...,\n",
              "        [0.2775994 ],\n",
              "        [0.16281521],\n",
              "        [0.        ]], dtype=float32)]"
            ]
          },
          "metadata": {
            "tags": []
          },
          "execution_count": 130
        }
      ]
    },
    {
      "cell_type": "code",
      "metadata": {
        "colab": {
          "base_uri": "https://localhost:8080/"
        },
        "id": "bI7x_-0tGyjp",
        "outputId": "3e24f7fd-6d56-4103-a0e6-070161fdc806"
      },
      "source": [
        "pred[0]"
      ],
      "execution_count": null,
      "outputs": [
        {
          "output_type": "execute_result",
          "data": {
            "text/plain": [
              "array([[0.7239039 ],\n",
              "       [0.45918027],\n",
              "       [0.34567967],\n",
              "       ...,\n",
              "       [0.63135344],\n",
              "       [0.62454396],\n",
              "       [0.16103189]], dtype=float32)"
            ]
          },
          "metadata": {
            "tags": []
          },
          "execution_count": 76
        }
      ]
    },
    {
      "cell_type": "code",
      "metadata": {
        "colab": {
          "base_uri": "https://localhost:8080/"
        },
        "id": "8g4kYp8qGCs8",
        "outputId": "e06e8d8b-4ee4-451c-90e8-285f296793de"
      },
      "source": [
        "df.iloc[1980,:]"
      ],
      "execution_count": null,
      "outputs": [
        {
          "output_type": "execute_result",
          "data": {
            "text/plain": [
              "age                                                         16\n",
              "ethnicity                                                    0\n",
              "gender                                                       0\n",
              "img_name                        20170110231553413.jpg.chip.jpg\n",
              "pixels       [[0.18039216, 0.18431373, 0.22745098, 0.243137...\n",
              "Name: 1980, dtype: object"
            ]
          },
          "metadata": {
            "tags": []
          },
          "execution_count": 72
        }
      ]
    },
    {
      "cell_type": "code",
      "metadata": {
        "colab": {
          "base_uri": "https://localhost:8080/"
        },
        "id": "rigAwF1YN7Wu",
        "outputId": "4d79b2e4-ca8a-41b5-8603-41645921c581"
      },
      "source": [
        "df.iloc[1981,:]"
      ],
      "execution_count": null,
      "outputs": [
        {
          "output_type": "execute_result",
          "data": {
            "text/plain": [
              "age                                                         16\n",
              "ethnicity                                                    0\n",
              "gender                                                       0\n",
              "img_name                        20170110231215944.jpg.chip.jpg\n",
              "pixels       [[0.3137255, 0.32156864, 0.3254902, 0.3137255,...\n",
              "Name: 1981, dtype: object"
            ]
          },
          "metadata": {
            "tags": []
          },
          "execution_count": 181
        }
      ]
    },
    {
      "cell_type": "code",
      "metadata": {
        "colab": {
          "base_uri": "https://localhost:8080/",
          "height": 318
        },
        "id": "ZJkhRUtHFs0p",
        "outputId": "394d0d98-35d8-4361-c19e-117f6db37810"
      },
      "source": [
        "def test_image(ind,X,Model):\n",
        "\n",
        "  plt.imshow(X[ind])\n",
        "\n",
        "  image_test=X[ind]\n",
        "\n",
        "  pred_1=Model.predict(np.array([image_test]))\n",
        "  print(pred_1)\n",
        "  sex_f=['Female','Male']\n",
        "\n",
        "  age=int(np.round(pred_1[1][0]))\n",
        "\n",
        "  sex=int(np.round(pred_1[0][0]))\n",
        "\n",
        "  print(\"Predicted Age: \"+ str(age))\n",
        "\n",
        "  print(\"Predicted Sex: \"+ sex_f[sex])\n",
        "\n",
        "a = test_image(1989,X, Model)"
      ],
      "execution_count": null,
      "outputs": [
        {
          "output_type": "stream",
          "text": [
            "[array([[0.36258054]], dtype=float32), array([[19.017597]], dtype=float32)]\n",
            "Predicted Age: 19\n",
            "Predicted Sex: Female\n"
          ],
          "name": "stdout"
        },
        {
          "output_type": "display_data",
          "data": {
            "image/png": "[encoded data removed]",
            "text/plain": [
              "<Figure size 432x288 with 1 Axes>"
            ]
          },
          "metadata": {
            "tags": [],
            "needs_background": "light"
          }
        }
      ]
    },
    {
      "cell_type": "code",
      "metadata": {
        "colab": {
          "base_uri": "https://localhost:8080/",
          "height": 318
        },
        "id": "zqPMuNidG_O_",
        "outputId": "f5ba9c4c-dbf1-41c3-9ac1-13b8262cb39b"
      },
      "source": [
        "def test_image(ind,X,Model):\n",
        "\n",
        "  plt.imshow(X[ind])\n",
        "\n",
        "  image_test=X[ind]\n",
        "\n",
        "  pred_1=Model.predict(np.array([image_test]))\n",
        "  print(pred_1)\n",
        "  sex_f=['Female','Male']\n",
        "\n",
        "  age=int(np.round(pred_1[1][0]))\n",
        "\n",
        "  sex=int(np.round(pred_1[0][0]))\n",
        "\n",
        "  print(\"Predicted Age: \"+ str(age))\n",
        "\n",
        "  print(\"Predicted Sex: \"+ sex_f[sex])\n",
        "\n",
        "a = test_image(1980,X, Model)"
      ],
      "execution_count": null,
      "outputs": [
        {
          "output_type": "stream",
          "text": [
            "[array([[0.8141592]], dtype=float32), array([[17.736067]], dtype=float32)]\n",
            "Predicted Age: 18\n",
            "Predicted Sex: Male\n"
          ],
          "name": "stdout"
        },
        {
          "output_type": "display_data",
          "data": {
            "image/png": "[encoded data removed]",
            "text/plain": [
              "<Figure size 432x288 with 1 Axes>"
            ]
          },
          "metadata": {
            "tags": [],
            "needs_background": "light"
          }
        }
      ]
    },
    {
      "cell_type": "code",
      "metadata": {
        "colab": {
          "base_uri": "https://localhost:8080/",
          "height": 318
        },
        "id": "wHgFOMgWTbVf",
        "outputId": "ba1c3637-14e3-4f30-c04a-765b23356317"
      },
      "source": [
        "def test_image(ind,X,Model):\n",
        "\n",
        "  plt.imshow(X[ind])\n",
        "\n",
        "  image_test=X[ind]\n",
        "\n",
        "  pred_1=Model.predict(np.array([image_test]))\n",
        "  print(pred_1)\n",
        "  sex_f=['Female','Male']\n",
        "\n",
        "  age=int(np.round(pred_1[1][0]))\n",
        "\n",
        "  sex=int(np.round(pred_1[0][0]))\n",
        "\n",
        "  print(\"Predicted Age: \"+ str(age))\n",
        "\n",
        "  print(\"Predicted Sex: \"+ sex_f[sex])\n",
        "\n",
        "a = test_image(1973,X, Model)"
      ],
      "execution_count": null,
      "outputs": [
        {
          "output_type": "stream",
          "text": [
            "[array([[0.2857132]], dtype=float32), array([[6.4432325]], dtype=float32)]\n",
            "Predicted Age: 6\n",
            "Predicted Sex: Female\n"
          ],
          "name": "stdout"
        },
        {
          "output_type": "display_data",
          "data": {
            "image/png": "[encoded data removed]",
            "text/plain": [
              "<Figure size 432x288 with 1 Axes>"
            ]
          },
          "metadata": {
            "tags": [],
            "needs_background": "light"
          }
        }
      ]
    },
    {
      "cell_type": "code",
      "metadata": {
        "colab": {
          "base_uri": "https://localhost:8080/",
          "height": 318
        },
        "id": "27trD31cTg1t",
        "outputId": "e48c84f8-2df2-4a34-c0b5-ad827da3b35e"
      },
      "source": [
        "def test_image(ind,X,Model):\n",
        "\n",
        "  plt.imshow(X[ind])\n",
        "\n",
        "  image_test=X[ind]\n",
        "\n",
        "  pred_1=Model.predict(np.array([image_test]))\n",
        "  print(pred_1)\n",
        "  sex_f=['Female','Male']\n",
        "\n",
        "  age=int(np.round(pred_1[1][0]))\n",
        "\n",
        "  sex=int(np.round(pred_1[0][0]))\n",
        "\n",
        "  print(\"Predicted Age: \"+ str(age))\n",
        "\n",
        "  print(\"Predicted Sex: \"+ sex_f[sex])\n",
        "\n",
        "a = test_image(1984,X, Model)"
      ],
      "execution_count": null,
      "outputs": [
        {
          "output_type": "stream",
          "text": [
            "[array([[0.03062593]], dtype=float32), array([[12.987407]], dtype=float32)]\n",
            "Predicted Age: 13\n",
            "Predicted Sex: Female\n"
          ],
          "name": "stdout"
        },
        {
          "output_type": "display_data",
          "data": {
            "image/png": "[encoded data removed]",
            "text/plain": [
              "<Figure size 432x288 with 1 Axes>"
            ]
          },
          "metadata": {
            "tags": [],
            "needs_background": "light"
          }
        }
      ]
    }
  ]
}