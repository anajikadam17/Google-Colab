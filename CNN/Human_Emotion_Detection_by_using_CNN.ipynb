{
  "nbformat": 4,
  "nbformat_minor": 0,
  "metadata": {
    "colab": {
      "name": "Human Emotion Detection by using CNN.ipynb",
      "provenance": [],
      "collapsed_sections": [],
      "authorship_tag": "ABX9TyOtuVrepU+NuyTIi5v7Q16s",
      "include_colab_link": true
    },
    "kernelspec": {
      "name": "python3",
      "display_name": "Python 3"
    },
    "language_info": {
      "name": "python"
    },
    "accelerator": "TPU"
  },
  "cells": [
    {
      "cell_type": "markdown",
      "metadata": {
        "id": "view-in-github",
        "colab_type": "text"
      },
      "source": [
        "<a href=\"https://colab.research.google.com/github/anajikadam17/Google-Colab/blob/main/CNN/Human_Emotion_Detection_by_using_CNN.ipynb\" target=\"_parent\"><img src=\"https://colab.research.google.com/assets/colab-badge.svg\" alt=\"Open In Colab\"/></a>"
      ]
    },
    {
      "cell_type": "markdown",
      "metadata": {
        "id": "04abSK35zcPL"
      },
      "source": [
        "# Human Emotion Detection by using CNN"
      ]
    },
    {
      "cell_type": "code",
      "metadata": {
        "colab": {
          "base_uri": "https://localhost:8080/"
        },
        "id": "lXIJlpXWzQQL",
        "outputId": "0362919d-c518-4026-e1cc-94108609a5d9"
      },
      "source": [
        "from google.colab import drive\n",
        "drive.mount('/content/drive')"
      ],
      "execution_count": null,
      "outputs": [
        {
          "output_type": "stream",
          "text": [
            "Mounted at /content/drive\n"
          ],
          "name": "stdout"
        }
      ]
    },
    {
      "cell_type": "code",
      "metadata": {
        "id": "YhkV0CBGza2R"
      },
      "source": [
        "path = r\"/content/drive/MyDrive/Colab/DL/CKPLUS/CK+48\"\n",
        "directory = path"
      ],
      "execution_count": null,
      "outputs": []
    },
    {
      "cell_type": "code",
      "metadata": {
        "id": "jKACgK6Kza0B"
      },
      "source": [
        "import os,cv2\n",
        "import numpy as np\n"
      ],
      "execution_count": null,
      "outputs": []
    },
    {
      "cell_type": "code",
      "metadata": {
        "id": "64zdDgsGzaxp"
      },
      "source": [
        "dir_list=os.listdir(path)\n",
        "image_data_list=[]\n",
        "labels=[]\n",
        "emotions=[]\n",
        "l=0\n",
        "for data_dir in dir_list:\n",
        "    data_list = os.listdir(directory+'/'+data_dir)\n",
        "    for img in data_list:\n",
        "        input_img=cv2.imread(directory+'/'+data_dir+'/'+img)\n",
        "        input_img=cv2.resize(input_img,(48,48))\n",
        "        image_data_list.append(input_img)\n",
        "        labels.append(l)\n",
        "    emotions.append(data_dir)\n",
        "    l=l+1\n"
      ],
      "execution_count": null,
      "outputs": []
    },
    {
      "cell_type": "code",
      "metadata": {
        "colab": {
          "base_uri": "https://localhost:8080/"
        },
        "id": "ooGF3Bno_lcH",
        "outputId": "1744f200-9d64-47b3-91d5-bdd8e2dadbbd"
      },
      "source": [
        "img_data=np.array(image_data_list)\n",
        "img_data=img_data/255\n",
        "img_data.shape"
      ],
      "execution_count": null,
      "outputs": [
        {
          "output_type": "execute_result",
          "data": {
            "text/plain": [
              "(981, 48, 48, 3)"
            ]
          },
          "metadata": {
            "tags": []
          },
          "execution_count": 9
        }
      ]
    },
    {
      "cell_type": "code",
      "metadata": {
        "colab": {
          "base_uri": "https://localhost:8080/"
        },
        "id": "esheddxizavp",
        "outputId": "52fa9270-c93c-46d7-b924-42e67f052c72"
      },
      "source": [
        "dir_list"
      ],
      "execution_count": null,
      "outputs": [
        {
          "output_type": "execute_result",
          "data": {
            "text/plain": [
              "['happy', 'anger', 'sadness', 'disgust', 'contempt', 'surprise', 'fear']"
            ]
          },
          "metadata": {
            "tags": []
          },
          "execution_count": 10
        }
      ]
    },
    {
      "cell_type": "code",
      "metadata": {
        "colab": {
          "base_uri": "https://localhost:8080/"
        },
        "id": "x8iqv2TkBfln",
        "outputId": "1ab0e657-f22c-4f8b-ccc4-daa72e93c78b"
      },
      "source": [
        "labels.count(4)"
      ],
      "execution_count": null,
      "outputs": [
        {
          "output_type": "execute_result",
          "data": {
            "text/plain": [
              "54"
            ]
          },
          "metadata": {
            "tags": []
          },
          "execution_count": 11
        }
      ]
    },
    {
      "cell_type": "code",
      "metadata": {
        "colab": {
          "base_uri": "https://localhost:8080/"
        },
        "id": "W4uyZszwB3Fe",
        "outputId": "1117ee26-17cd-460c-e4f2-e53e17ab2b20"
      },
      "source": [
        "emotions"
      ],
      "execution_count": null,
      "outputs": [
        {
          "output_type": "execute_result",
          "data": {
            "text/plain": [
              "['happy', 'anger', 'sadness', 'disgust', 'contempt', 'surprise', 'fear']"
            ]
          },
          "metadata": {
            "tags": []
          },
          "execution_count": 12
        }
      ]
    },
    {
      "cell_type": "code",
      "metadata": {
        "colab": {
          "base_uri": "https://localhost:8080/"
        },
        "id": "54cJvrB4B-42",
        "outputId": "92a5a0f1-92d0-4425-9676-e48fc8dd6970"
      },
      "source": [
        "len(emotions)"
      ],
      "execution_count": null,
      "outputs": [
        {
          "output_type": "execute_result",
          "data": {
            "text/plain": [
              "7"
            ]
          },
          "metadata": {
            "tags": []
          },
          "execution_count": 13
        }
      ]
    },
    {
      "cell_type": "code",
      "metadata": {
        "id": "WKyYBg1qCODu"
      },
      "source": [
        "from tensorflow import keras\n",
        "from sklearn.model_selection import train_test_split"
      ],
      "execution_count": null,
      "outputs": []
    },
    {
      "cell_type": "code",
      "metadata": {
        "id": "FAxBfy5u-tWh"
      },
      "source": [
        "# Split the dataset into test , train\n",
        "\n",
        "num_classes=7  # len(emotions)\n",
        "\n",
        "Y = keras.utils.to_categorical(labels, num_classes)\n",
        "X_train, X_test, y_train, y_test = train_test_split(img_data, Y, test_size=0.2)"
      ],
      "execution_count": null,
      "outputs": []
    },
    {
      "cell_type": "code",
      "metadata": {
        "id": "n85nYtsxCdwH"
      },
      "source": [
        "from tensorflow.keras.preprocessing.image import ImageDataGenerator"
      ],
      "execution_count": null,
      "outputs": []
    },
    {
      "cell_type": "code",
      "metadata": {
        "id": "BVObLFWWCcSX"
      },
      "source": [
        "# Data Augmentaion\n",
        "\n",
        "data_generator_with_aug = ImageDataGenerator(horizontal_flip = True,\n",
        "                                              width_shift_range = 0.1,\n",
        "                                              height_shift_range = 0.1)\n",
        "data_generator_no_aug = ImageDataGenerator()\n",
        "\n",
        "train_generator = data_generator_with_aug.flow(X_train,y_train)\n",
        "validation_generator = data_generator_with_aug.flow(X_test,y_test)"
      ],
      "execution_count": null,
      "outputs": []
    },
    {
      "cell_type": "code",
      "metadata": {
        "id": "5JV4HB4ICMRR"
      },
      "source": [
        "from keras.models import Sequential\n",
        "from keras.layers import Dense , Activation , Dropout ,Flatten\n",
        "from keras.layers.convolutional import Conv2D\n",
        "from keras.layers.convolutional import MaxPooling2D\n",
        "from keras.metrics import categorical_accuracy"
      ],
      "execution_count": null,
      "outputs": []
    },
    {
      "cell_type": "code",
      "metadata": {
        "id": "qkl0kp4fCEsk"
      },
      "source": [
        "# CNN Model to predict the Mood\n",
        "\n",
        "model=Sequential()\n",
        "model.add(Conv2D(64,(3,3),padding=\"same\",input_shape=(48,48,3),activation='relu'))\n",
        "model.add(Conv2D(64,(3,3),padding=\"same\",activation='relu'))\n",
        "model.add(MaxPooling2D(pool_size=(2,2)))\n",
        "model.add(Dropout(0.5))\n",
        "\n",
        "model.add(Conv2D(128,(3,3),activation='relu'))\n",
        "model.add(Conv2D(128,(3,3),activation='relu'))\n",
        "model.add(MaxPooling2D(pool_size=(2,2)))\n",
        "model.add(Dropout(0.5))\n",
        "\n",
        "model.add(Conv2D(256,(3,3),activation='relu'))\n",
        "model.add(Conv2D(256,(3,3),activation='relu'))\n",
        "model.add(Conv2D(256,(3,3),activation='relu'))\n",
        "model.add(MaxPooling2D(pool_size=(2,2)))\n",
        "model.add(Dropout(0.5))\n",
        "\n",
        "model.add(Flatten())\n",
        "model.add(Dense(128,activation='relu'))\n",
        "model.add(Dense(64,activation='relu'))\n",
        "model.add(Dense(32,activation='relu'))\n",
        "model.add(Dropout(0.6))\n",
        "model.add(Dense(num_classes,activation='softmax'))\n",
        "\n",
        "model.compile(optimizer='adam',loss='categorical_crossentropy',metrics=['accuracy'])"
      ],
      "execution_count": null,
      "outputs": []
    },
    {
      "cell_type": "code",
      "metadata": {
        "colab": {
          "base_uri": "https://localhost:8080/",
          "height": 411
        },
        "id": "eFeNZe-zCEpu",
        "outputId": "a443b72f-87da-4df5-997a-19509b253915"
      },
      "source": [
        "history=model.fit_generator(train_generator,epochs=25, validation_data=validation_generator)"
      ],
      "execution_count": null,
      "outputs": [
        {
          "output_type": "stream",
          "text": [
            "/usr/local/lib/python3.7/dist-packages/keras/engine/training.py:1915: UserWarning: `Model.fit_generator` is deprecated and will be removed in a future version. Please use `Model.fit`, which supports generators.\n",
            "  warnings.warn('`Model.fit_generator` is deprecated and '\n"
          ],
          "name": "stderr"
        },
        {
          "output_type": "stream",
          "text": [
            "Epoch 1/25\n",
            "    186/Unknown - 208s 1s/step - loss: 1.8645 - accuracy: 0.2333"
          ],
          "name": "stdout"
        },
        {
          "output_type": "error",
          "ename": "KeyboardInterrupt",
          "evalue": "ignored",
          "traceback": [
            "\u001b[0;31m---------------------------------------------------------------------------\u001b[0m",
            "\u001b[0;31mKeyboardInterrupt\u001b[0m                         Traceback (most recent call last)",
            "\u001b[0;32m<ipython-input-22-28eaae8762b2>\u001b[0m in \u001b[0;36m<module>\u001b[0;34m()\u001b[0m\n\u001b[0;32m----> 1\u001b[0;31m \u001b[0mhistory\u001b[0m\u001b[0;34m=\u001b[0m\u001b[0mmodel\u001b[0m\u001b[0;34m.\u001b[0m\u001b[0mfit_generator\u001b[0m\u001b[0;34m(\u001b[0m\u001b[0mtrain_generator\u001b[0m\u001b[0;34m,\u001b[0m\u001b[0mepochs\u001b[0m\u001b[0;34m=\u001b[0m\u001b[0;36m25\u001b[0m\u001b[0;34m,\u001b[0m \u001b[0mvalidation_data\u001b[0m\u001b[0;34m=\u001b[0m\u001b[0mvalidation_generator\u001b[0m\u001b[0;34m)\u001b[0m\u001b[0;34m\u001b[0m\u001b[0;34m\u001b[0m\u001b[0m\n\u001b[0m",
            "\u001b[0;32m/usr/local/lib/python3.7/dist-packages/keras/engine/training.py\u001b[0m in \u001b[0;36mfit_generator\u001b[0;34m(self, generator, steps_per_epoch, epochs, verbose, callbacks, validation_data, validation_steps, validation_freq, class_weight, max_queue_size, workers, use_multiprocessing, shuffle, initial_epoch)\u001b[0m\n\u001b[1;32m   1930\u001b[0m         \u001b[0muse_multiprocessing\u001b[0m\u001b[0;34m=\u001b[0m\u001b[0muse_multiprocessing\u001b[0m\u001b[0;34m,\u001b[0m\u001b[0;34m\u001b[0m\u001b[0;34m\u001b[0m\u001b[0m\n\u001b[1;32m   1931\u001b[0m         \u001b[0mshuffle\u001b[0m\u001b[0;34m=\u001b[0m\u001b[0mshuffle\u001b[0m\u001b[0;34m,\u001b[0m\u001b[0;34m\u001b[0m\u001b[0;34m\u001b[0m\u001b[0m\n\u001b[0;32m-> 1932\u001b[0;31m         initial_epoch=initial_epoch)\n\u001b[0m\u001b[1;32m   1933\u001b[0m \u001b[0;34m\u001b[0m\u001b[0m\n\u001b[1;32m   1934\u001b[0m   def evaluate_generator(self,\n",
            "\u001b[0;32m/usr/local/lib/python3.7/dist-packages/keras/engine/training.py\u001b[0m in \u001b[0;36mfit\u001b[0;34m(self, x, y, batch_size, epochs, verbose, callbacks, validation_split, validation_data, shuffle, class_weight, sample_weight, initial_epoch, steps_per_epoch, validation_steps, validation_batch_size, validation_freq, max_queue_size, workers, use_multiprocessing)\u001b[0m\n\u001b[1;32m   1156\u001b[0m                 _r=1):\n\u001b[1;32m   1157\u001b[0m               \u001b[0mcallbacks\u001b[0m\u001b[0;34m.\u001b[0m\u001b[0mon_train_batch_begin\u001b[0m\u001b[0;34m(\u001b[0m\u001b[0mstep\u001b[0m\u001b[0;34m)\u001b[0m\u001b[0;34m\u001b[0m\u001b[0;34m\u001b[0m\u001b[0m\n\u001b[0;32m-> 1158\u001b[0;31m               \u001b[0mtmp_logs\u001b[0m \u001b[0;34m=\u001b[0m \u001b[0mself\u001b[0m\u001b[0;34m.\u001b[0m\u001b[0mtrain_function\u001b[0m\u001b[0;34m(\u001b[0m\u001b[0miterator\u001b[0m\u001b[0;34m)\u001b[0m\u001b[0;34m\u001b[0m\u001b[0;34m\u001b[0m\u001b[0m\n\u001b[0m\u001b[1;32m   1159\u001b[0m               \u001b[0;32mif\u001b[0m \u001b[0mdata_handler\u001b[0m\u001b[0;34m.\u001b[0m\u001b[0mshould_sync\u001b[0m\u001b[0;34m:\u001b[0m\u001b[0;34m\u001b[0m\u001b[0;34m\u001b[0m\u001b[0m\n\u001b[1;32m   1160\u001b[0m                 \u001b[0mcontext\u001b[0m\u001b[0;34m.\u001b[0m\u001b[0masync_wait\u001b[0m\u001b[0;34m(\u001b[0m\u001b[0;34m)\u001b[0m\u001b[0;34m\u001b[0m\u001b[0;34m\u001b[0m\u001b[0m\n",
            "\u001b[0;32m/usr/local/lib/python3.7/dist-packages/tensorflow/python/eager/def_function.py\u001b[0m in \u001b[0;36m__call__\u001b[0;34m(self, *args, **kwds)\u001b[0m\n\u001b[1;32m    887\u001b[0m \u001b[0;34m\u001b[0m\u001b[0m\n\u001b[1;32m    888\u001b[0m       \u001b[0;32mwith\u001b[0m \u001b[0mOptionalXlaContext\u001b[0m\u001b[0;34m(\u001b[0m\u001b[0mself\u001b[0m\u001b[0;34m.\u001b[0m\u001b[0m_jit_compile\u001b[0m\u001b[0;34m)\u001b[0m\u001b[0;34m:\u001b[0m\u001b[0;34m\u001b[0m\u001b[0;34m\u001b[0m\u001b[0m\n\u001b[0;32m--> 889\u001b[0;31m         \u001b[0mresult\u001b[0m \u001b[0;34m=\u001b[0m \u001b[0mself\u001b[0m\u001b[0;34m.\u001b[0m\u001b[0m_call\u001b[0m\u001b[0;34m(\u001b[0m\u001b[0;34m*\u001b[0m\u001b[0margs\u001b[0m\u001b[0;34m,\u001b[0m \u001b[0;34m**\u001b[0m\u001b[0mkwds\u001b[0m\u001b[0;34m)\u001b[0m\u001b[0;34m\u001b[0m\u001b[0;34m\u001b[0m\u001b[0m\n\u001b[0m\u001b[1;32m    890\u001b[0m \u001b[0;34m\u001b[0m\u001b[0m\n\u001b[1;32m    891\u001b[0m       \u001b[0mnew_tracing_count\u001b[0m \u001b[0;34m=\u001b[0m \u001b[0mself\u001b[0m\u001b[0;34m.\u001b[0m\u001b[0mexperimental_get_tracing_count\u001b[0m\u001b[0;34m(\u001b[0m\u001b[0;34m)\u001b[0m\u001b[0;34m\u001b[0m\u001b[0;34m\u001b[0m\u001b[0m\n",
            "\u001b[0;32m/usr/local/lib/python3.7/dist-packages/tensorflow/python/eager/def_function.py\u001b[0m in \u001b[0;36m_call\u001b[0;34m(self, *args, **kwds)\u001b[0m\n\u001b[1;32m    915\u001b[0m       \u001b[0;31m# In this case we have created variables on the first call, so we run the\u001b[0m\u001b[0;34m\u001b[0m\u001b[0;34m\u001b[0m\u001b[0;34m\u001b[0m\u001b[0m\n\u001b[1;32m    916\u001b[0m       \u001b[0;31m# defunned version which is guaranteed to never create variables.\u001b[0m\u001b[0;34m\u001b[0m\u001b[0;34m\u001b[0m\u001b[0;34m\u001b[0m\u001b[0m\n\u001b[0;32m--> 917\u001b[0;31m       \u001b[0;32mreturn\u001b[0m \u001b[0mself\u001b[0m\u001b[0;34m.\u001b[0m\u001b[0m_stateless_fn\u001b[0m\u001b[0;34m(\u001b[0m\u001b[0;34m*\u001b[0m\u001b[0margs\u001b[0m\u001b[0;34m,\u001b[0m \u001b[0;34m**\u001b[0m\u001b[0mkwds\u001b[0m\u001b[0;34m)\u001b[0m  \u001b[0;31m# pylint: disable=not-callable\u001b[0m\u001b[0;34m\u001b[0m\u001b[0;34m\u001b[0m\u001b[0m\n\u001b[0m\u001b[1;32m    918\u001b[0m     \u001b[0;32melif\u001b[0m \u001b[0mself\u001b[0m\u001b[0;34m.\u001b[0m\u001b[0m_stateful_fn\u001b[0m \u001b[0;32mis\u001b[0m \u001b[0;32mnot\u001b[0m \u001b[0;32mNone\u001b[0m\u001b[0;34m:\u001b[0m\u001b[0;34m\u001b[0m\u001b[0;34m\u001b[0m\u001b[0m\n\u001b[1;32m    919\u001b[0m       \u001b[0;31m# Release the lock early so that multiple threads can perform the call\u001b[0m\u001b[0;34m\u001b[0m\u001b[0;34m\u001b[0m\u001b[0;34m\u001b[0m\u001b[0m\n",
            "\u001b[0;32m/usr/local/lib/python3.7/dist-packages/tensorflow/python/eager/function.py\u001b[0m in \u001b[0;36m__call__\u001b[0;34m(self, *args, **kwargs)\u001b[0m\n\u001b[1;32m   3022\u001b[0m        filtered_flat_args) = self._maybe_define_function(args, kwargs)\n\u001b[1;32m   3023\u001b[0m     return graph_function._call_flat(\n\u001b[0;32m-> 3024\u001b[0;31m         filtered_flat_args, captured_inputs=graph_function.captured_inputs)  # pylint: disable=protected-access\n\u001b[0m\u001b[1;32m   3025\u001b[0m \u001b[0;34m\u001b[0m\u001b[0m\n\u001b[1;32m   3026\u001b[0m   \u001b[0;34m@\u001b[0m\u001b[0mproperty\u001b[0m\u001b[0;34m\u001b[0m\u001b[0;34m\u001b[0m\u001b[0m\n",
            "\u001b[0;32m/usr/local/lib/python3.7/dist-packages/tensorflow/python/eager/function.py\u001b[0m in \u001b[0;36m_call_flat\u001b[0;34m(self, args, captured_inputs, cancellation_manager)\u001b[0m\n\u001b[1;32m   1959\u001b[0m       \u001b[0;31m# No tape is watching; skip to running the function.\u001b[0m\u001b[0;34m\u001b[0m\u001b[0;34m\u001b[0m\u001b[0;34m\u001b[0m\u001b[0m\n\u001b[1;32m   1960\u001b[0m       return self._build_call_outputs(self._inference_function.call(\n\u001b[0;32m-> 1961\u001b[0;31m           ctx, args, cancellation_manager=cancellation_manager))\n\u001b[0m\u001b[1;32m   1962\u001b[0m     forward_backward = self._select_forward_and_backward_functions(\n\u001b[1;32m   1963\u001b[0m         \u001b[0margs\u001b[0m\u001b[0;34m,\u001b[0m\u001b[0;34m\u001b[0m\u001b[0;34m\u001b[0m\u001b[0m\n",
            "\u001b[0;32m/usr/local/lib/python3.7/dist-packages/tensorflow/python/eager/function.py\u001b[0m in \u001b[0;36mcall\u001b[0;34m(self, ctx, args, cancellation_manager)\u001b[0m\n\u001b[1;32m    594\u001b[0m               \u001b[0minputs\u001b[0m\u001b[0;34m=\u001b[0m\u001b[0margs\u001b[0m\u001b[0;34m,\u001b[0m\u001b[0;34m\u001b[0m\u001b[0;34m\u001b[0m\u001b[0m\n\u001b[1;32m    595\u001b[0m               \u001b[0mattrs\u001b[0m\u001b[0;34m=\u001b[0m\u001b[0mattrs\u001b[0m\u001b[0;34m,\u001b[0m\u001b[0;34m\u001b[0m\u001b[0;34m\u001b[0m\u001b[0m\n\u001b[0;32m--> 596\u001b[0;31m               ctx=ctx)\n\u001b[0m\u001b[1;32m    597\u001b[0m         \u001b[0;32melse\u001b[0m\u001b[0;34m:\u001b[0m\u001b[0;34m\u001b[0m\u001b[0;34m\u001b[0m\u001b[0m\n\u001b[1;32m    598\u001b[0m           outputs = execute.execute_with_cancellation(\n",
            "\u001b[0;32m/usr/local/lib/python3.7/dist-packages/tensorflow/python/eager/execute.py\u001b[0m in \u001b[0;36mquick_execute\u001b[0;34m(op_name, num_outputs, inputs, attrs, ctx, name)\u001b[0m\n\u001b[1;32m     58\u001b[0m     \u001b[0mctx\u001b[0m\u001b[0;34m.\u001b[0m\u001b[0mensure_initialized\u001b[0m\u001b[0;34m(\u001b[0m\u001b[0;34m)\u001b[0m\u001b[0;34m\u001b[0m\u001b[0;34m\u001b[0m\u001b[0m\n\u001b[1;32m     59\u001b[0m     tensors = pywrap_tfe.TFE_Py_Execute(ctx._handle, device_name, op_name,\n\u001b[0;32m---> 60\u001b[0;31m                                         inputs, attrs, num_outputs)\n\u001b[0m\u001b[1;32m     61\u001b[0m   \u001b[0;32mexcept\u001b[0m \u001b[0mcore\u001b[0m\u001b[0;34m.\u001b[0m\u001b[0m_NotOkStatusException\u001b[0m \u001b[0;32mas\u001b[0m \u001b[0me\u001b[0m\u001b[0;34m:\u001b[0m\u001b[0;34m\u001b[0m\u001b[0;34m\u001b[0m\u001b[0m\n\u001b[1;32m     62\u001b[0m     \u001b[0;32mif\u001b[0m \u001b[0mname\u001b[0m \u001b[0;32mis\u001b[0m \u001b[0;32mnot\u001b[0m \u001b[0;32mNone\u001b[0m\u001b[0;34m:\u001b[0m\u001b[0;34m\u001b[0m\u001b[0;34m\u001b[0m\u001b[0m\n",
            "\u001b[0;31mKeyboardInterrupt\u001b[0m: "
          ]
        }
      ]
    },
    {
      "cell_type": "code",
      "metadata": {
        "id": "-rGrvAxqJD7d"
      },
      "source": [
        "# https://www.kaggle.com/akshaythusoo/mood-detector-92-accuracy\n",
        "# https://github.com/abr-98"
      ],
      "execution_count": null,
      "outputs": []
    },
    {
      "cell_type": "code",
      "metadata": {
        "id": "dIF6hIrcCEk3"
      },
      "source": [
        "# Plot the Graph to check the how good the model is working\n",
        "\n",
        "import matplotlib.pyplot as plt\n",
        "\n",
        "\n",
        "epochs = [i for i in range(20)]\n",
        "fig , ax = plt.subplots(1,2)\n",
        "train_acc = history.history['accuracy']\n",
        "train_loss = history.history['loss']\n",
        "val_acc = history.history['val_accuracy']\n",
        "val_loss = history.history['val_loss']\n",
        "fig.set_size_inches(20,10)\n",
        "\n",
        "ax[0].plot(epochs , train_acc , 'go-' , label = 'Training Accuracy')\n",
        "ax[0].plot(epochs , val_acc , 'ro-' , label = 'Validation Accuracy')\n",
        "ax[0].set_title('Training & Validation Accuracy')\n",
        "ax[0].legend()\n",
        "ax[0].set_xlabel(\"Epochs\")\n",
        "ax[0].set_ylabel(\"Accuracy\")\n",
        "\n",
        "ax[1].plot(epochs , train_loss , 'g-o' , label = 'Training Loss')\n",
        "ax[1].plot(epochs , val_loss , 'r-o' , label = 'Validation Loss')\n",
        "ax[1].set_title('Testing Accuracy & Loss')\n",
        "ax[1].legend()\n",
        "ax[1].set_xlabel(\"Epochs\")\n",
        "ax[1].set_ylabel(\"Training & Validation Loss\")\n",
        "plt.show()"
      ],
      "execution_count": null,
      "outputs": []
    },
    {
      "cell_type": "code",
      "metadata": {
        "id": "NLvPmePICEiG"
      },
      "source": [
        "# Creating Confusion Matrix to know the performance of Model\n",
        "\n",
        "from sklearn.metrics import confusion_matrix\n",
        "\n",
        "\n",
        "results = model.predict_classes(X_test)\n",
        "cm = confusion_matrix(np.where(y_test == 1)[1], results)"
      ],
      "execution_count": null,
      "outputs": []
    },
    {
      "cell_type": "code",
      "metadata": {
        "id": "zcf0F9-FCEfu"
      },
      "source": [
        "label = ['anger','contempt','disgust','fear','happy','sadness','surprise']\n",
        "labels = {0 : 'anger', 1 : 'contempt', 2 : 'disgust', 3 : 'fear', 4 : 'happy',5 :'sadness',6 :'surprise'}"
      ],
      "execution_count": null,
      "outputs": []
    },
    {
      "cell_type": "code",
      "metadata": {
        "id": "WJF3e6KpCEdP"
      },
      "source": [
        "#Transform to df for easier plotting\n",
        "cm_df = pd.DataFrame(cm, index = label,\n",
        "                     columns = label\n",
        "                    )"
      ],
      "execution_count": null,
      "outputs": []
    },
    {
      "cell_type": "code",
      "metadata": {
        "id": "wkXekZv6CEaO"
      },
      "source": [
        "final_cm = cm_df"
      ],
      "execution_count": null,
      "outputs": []
    },
    {
      "cell_type": "code",
      "metadata": {
        "id": "PGhDxQ9EDniP"
      },
      "source": [
        "import seaborn as sns\n",
        "\n",
        "plt.figure(figsize = (5,5))\n",
        "sns.heatmap(final_cm, annot = True,cmap='Greys',cbar=False,linewidth=2,fmt='d')\n",
        "plt.title('CNN Emotion Classify')\n",
        "plt.ylabel('True class')\n",
        "plt.xlabel('Prediction class')\n",
        "plt.show()"
      ],
      "execution_count": null,
      "outputs": []
    },
    {
      "cell_type": "code",
      "metadata": {
        "id": "mgNHCkUaDnfv"
      },
      "source": [
        ""
      ],
      "execution_count": null,
      "outputs": []
    },
    {
      "cell_type": "code",
      "metadata": {
        "id": "eSAeBnR_Dncv"
      },
      "source": [
        "import random\n",
        "from glob import glob\n",
        "from keras.applications.resnet50 import preprocess_input\n",
        "from keras.preprocessing import image \n",
        "def choose_image_and_predict():\n",
        "    folder_choice = (random.choice(dir_list))\n",
        "    images = glob(directory + '/'+ folder_choice+'/*')\n",
        "    img_choice = (random.choice(images))\n",
        "    \n",
        "    img = image.load_img(img_choice, target_size=(48, 48))\n",
        "    img = image.img_to_array(img)\n",
        "    plt.imshow(img / 255.)\n",
        "    x = preprocess_input(np.expand_dims(img.copy(), axis=0))\n",
        "    pred_class = model.predict_classes(x)\n",
        "    pred = model.predict(x)\n",
        "    label=np.argmax(pred,axis=1)[0]   \n",
        "    print(\"Actual class:\", folder_choice)\n",
        "    print(\"Predicted Class:\" , labels[label])\n",
        "        \n",
        "choose_image_and_predict()"
      ],
      "execution_count": null,
      "outputs": []
    },
    {
      "cell_type": "code",
      "metadata": {
        "id": "t6c8fyvZDnZ5"
      },
      "source": [
        "num_classes = 7\n",
        "\n",
        "num_of_samples = img_data.shape[0]\n",
        "labels = np.ones((num_of_samples,),dtype='int64')\n",
        "\n",
        "labels[0:134]=0 #135\n",
        "labels[135:188]=1 #54\n",
        "labels[189:365]=2 #177\n",
        "labels[366:440]=3 #75\n",
        "labels[441:647]=4 #207\n",
        "labels[648:731]=5 #84\n",
        "labels[732:980]=6 #249\n",
        "\n",
        "names = ['anger','contempt','disgust','fear','happy','sadness','surprise']\n",
        "\n",
        "def getLabel(id):\n",
        "    return ['anger','contempt','disgust','fear','happy','sadness','surprise'][id]"
      ],
      "execution_count": null,
      "outputs": []
    },
    {
      "cell_type": "code",
      "metadata": {
        "id": "VtDY8dkYPSqT"
      },
      "source": [
        "from keras.utils import np_utils\n",
        "from sklearn.utils import shuffle"
      ],
      "execution_count": null,
      "outputs": []
    },
    {
      "cell_type": "code",
      "metadata": {
        "id": "hoxGG4lxDnXO"
      },
      "source": [
        "Y = np_utils.to_categorical(labels, num_classes)\n",
        "\n",
        "#Shuffle the dataset\n",
        "x,y = shuffle(img_data,Y, random_state=2)\n",
        "# Split the dataset\n",
        "X_train, X_test, y_train, y_test = train_test_split(x, y, test_size=0.2, random_state=2)\n",
        "x_test=X_test"
      ],
      "execution_count": null,
      "outputs": []
    },
    {
      "cell_type": "code",
      "metadata": {
        "id": "CUlT7kj8DnUQ"
      },
      "source": [
        "def create_model():\n",
        "    input_shape=(48,48,3)\n",
        "\n",
        "    model = Sequential()\n",
        "    model.add(Conv2D(6, (5, 5), input_shape=input_shape, padding='same', activation = 'relu'))\n",
        "    model.add(MaxPooling2D(pool_size=(2, 2)))\n",
        "\n",
        "    model.add(Conv2D(16, (5, 5), padding='same', activation = 'relu'))\n",
        "    model.add(Activation('relu'))\n",
        "    model.add(MaxPooling2D(pool_size=(2, 2)))\n",
        "\n",
        "    model.add(Conv2D(64, (3, 3), activation = 'relu'))\n",
        "    model.add(MaxPooling2D(pool_size=(2, 2)))\n",
        "\n",
        "    model.add(Flatten())\n",
        "    model.add(Dense(128, activation = 'relu'))\n",
        "    model.add(Dropout(0.5))\n",
        "    model.add(Dense(7, activation = 'softmax'))\n",
        "\n",
        "    model.compile(loss='categorical_crossentropy', metrics=['accuracy'],optimizer='RMSprop')\n",
        "    \n",
        "    return model"
      ],
      "execution_count": null,
      "outputs": []
    },
    {
      "cell_type": "code",
      "metadata": {
        "colab": {
          "base_uri": "https://localhost:8080/"
        },
        "id": "GuMUs54yPf7q",
        "outputId": "16c80c4e-1d20-434b-e03b-f9775793e469"
      },
      "source": [
        "model_custom = create_model()\n",
        "model_custom.summary()"
      ],
      "execution_count": null,
      "outputs": [
        {
          "output_type": "stream",
          "text": [
            "Model: \"sequential_1\"\n",
            "_________________________________________________________________\n",
            "Layer (type)                 Output Shape              Param #   \n",
            "=================================================================\n",
            "conv2d_7 (Conv2D)            (None, 48, 48, 6)         456       \n",
            "_________________________________________________________________\n",
            "max_pooling2d_3 (MaxPooling2 (None, 24, 24, 6)         0         \n",
            "_________________________________________________________________\n",
            "conv2d_8 (Conv2D)            (None, 24, 24, 16)        2416      \n",
            "_________________________________________________________________\n",
            "activation (Activation)      (None, 24, 24, 16)        0         \n",
            "_________________________________________________________________\n",
            "max_pooling2d_4 (MaxPooling2 (None, 12, 12, 16)        0         \n",
            "_________________________________________________________________\n",
            "conv2d_9 (Conv2D)            (None, 10, 10, 64)        9280      \n",
            "_________________________________________________________________\n",
            "max_pooling2d_5 (MaxPooling2 (None, 5, 5, 64)          0         \n",
            "_________________________________________________________________\n",
            "flatten_1 (Flatten)          (None, 1600)              0         \n",
            "_________________________________________________________________\n",
            "dense_4 (Dense)              (None, 128)               204928    \n",
            "_________________________________________________________________\n",
            "dropout_4 (Dropout)          (None, 128)               0         \n",
            "_________________________________________________________________\n",
            "dense_5 (Dense)              (None, 7)                 903       \n",
            "=================================================================\n",
            "Total params: 217,983\n",
            "Trainable params: 217,983\n",
            "Non-trainable params: 0\n",
            "_________________________________________________________________\n"
          ],
          "name": "stdout"
        }
      ]
    },
    {
      "cell_type": "code",
      "metadata": {
        "colab": {
          "base_uri": "https://localhost:8080/",
          "height": 1000
        },
        "id": "WgharO4APf3j",
        "outputId": "74cc4d00-7f51-432d-d0bc-05788e46468c"
      },
      "source": [
        "p = \"/content/drive/MyDrive/Colab/DL/CKPLUS/\"\n",
        "from keras.utils.vis_utils import plot_model\n",
        "plot_model(model_custom, to_file=p+'model.png')"
      ],
      "execution_count": null,
      "outputs": [
        {
          "output_type": "execute_result",
          "data": {
            "image/png": "[encoded data removed]",
            "text/plain": [
              "<IPython.core.display.Image object>"
            ]
          },
          "metadata": {
            "tags": []
          },
          "execution_count": 35
        }
      ]
    },
    {
      "cell_type": "code",
      "metadata": {
        "id": "cU9WhHmpPfzz"
      },
      "source": [
        "# Conduct k-Fold Cross-Validation\n",
        "from sklearn.model_selection import KFold\n",
        "kf = KFold(n_splits=5, shuffle=False)"
      ],
      "execution_count": null,
      "outputs": []
    },
    {
      "cell_type": "code",
      "metadata": {
        "id": "R6TnUmW4Pfud"
      },
      "source": [
        "from keras.preprocessing.image import ImageDataGenerator\n",
        "\n",
        "aug = ImageDataGenerator(\n",
        "    rotation_range=25, width_shift_range=0.1,\n",
        "    height_shift_range=0.1, shear_range=0.2, \n",
        "    zoom_range=0.2,horizontal_flip=True, \n",
        "    fill_mode=\"nearest\")"
      ],
      "execution_count": null,
      "outputs": []
    },
    {
      "cell_type": "code",
      "metadata": {
        "id": "UNcUb8p6PfqG"
      },
      "source": [
        "# Training Model\n",
        "BS = 8\n",
        "EPOCHS = 200"
      ],
      "execution_count": null,
      "outputs": []
    },
    {
      "cell_type": "code",
      "metadata": {
        "colab": {
          "base_uri": "https://localhost:8080/"
        },
        "id": "da3RNnl3PflY",
        "outputId": "1bbfc1c0-dba8-41cd-e7d0-8859c1f99f54"
      },
      "source": [
        "from keras.callbacks import ModelCheckpoint\n",
        "from keras.callbacks import EarlyStopping, ModelCheckpoint, ReduceLROnPlateau\n",
        "\n",
        "result = []\n",
        "scores_loss = []\n",
        "scores_acc = []\n",
        "k_no = 0\n",
        "for train_index, test_index in kf.split(x):\n",
        "    X_Train_ = x[train_index]\n",
        "    Y_Train = y[train_index]\n",
        "    X_Test_ = x[test_index]\n",
        "    Y_Test = y[test_index]\n",
        "\n",
        "    file_path = \"/content/drive/MyDrive/Colab/DL/CKPLUS/weights_best_\"+str(k_no)+\".hdf5\"\n",
        "    checkpoint = ModelCheckpoint(file_path, monitor='loss', verbose=0, save_best_only=True, mode='min')\n",
        "    early = EarlyStopping(monitor=\"loss\", mode=\"min\", patience=8)\n",
        "\n",
        "    callbacks_list = [checkpoint, early]\n",
        "\n",
        "    model = create_model()\n",
        "    hist = model.fit_generator(aug.flow(X_Train_, Y_Train), epochs=EPOCHS,validation_data=(X_Test_, Y_Test), callbacks=callbacks_list, verbose=0)\n",
        "    # model.fit(X_Train, Y_Train, batch_size=batch_size, epochs=epochs, validation_data=(X_Test, Y_Test), verbose=1)\n",
        "    model.load_weights(file_path)\n",
        "    result.append(model.predict(X_Test_))\n",
        "    score = model.evaluate(X_Test_,Y_Test, verbose=0)\n",
        "    scores_loss.append(score[0])\n",
        "    scores_acc.append(score[1])\n",
        "    k_no+=1"
      ],
      "execution_count": null,
      "outputs": [
        {
          "output_type": "stream",
          "text": [
            "/usr/local/lib/python3.7/dist-packages/keras/engine/training.py:1915: UserWarning: `Model.fit_generator` is deprecated and will be removed in a future version. Please use `Model.fit`, which supports generators.\n",
            "  warnings.warn('`Model.fit_generator` is deprecated and '\n"
          ],
          "name": "stderr"
        }
      ]
    },
    {
      "cell_type": "code",
      "metadata": {
        "colab": {
          "base_uri": "https://localhost:8080/"
        },
        "id": "_T4wFeZFTINK",
        "outputId": "cd3ca480-c014-4a92-8c0e-fbcd7c673746"
      },
      "source": [
        "value_min = min(scores_loss)\n",
        "value_index = scores_loss.index(value_min)\n",
        "print(value_index)"
      ],
      "execution_count": null,
      "outputs": [
        {
          "output_type": "stream",
          "text": [
            "4\n"
          ],
          "name": "stdout"
        }
      ]
    },
    {
      "cell_type": "code",
      "metadata": {
        "id": "s5GAEO7rTIHo"
      },
      "source": [
        "model.load_weights(\"/content/drive/MyDrive/Colab/DL/CKPLUS/weights_best_\"+str(value_index)+\".hdf5\")"
      ],
      "execution_count": null,
      "outputs": []
    },
    {
      "cell_type": "code",
      "metadata": {
        "id": "NKyEUdVoTIDF"
      },
      "source": [
        "best_model = model"
      ],
      "execution_count": null,
      "outputs": []
    },
    {
      "cell_type": "code",
      "metadata": {
        "colab": {
          "base_uri": "https://localhost:8080/"
        },
        "id": "KNH4kBepTH-N",
        "outputId": "483ae349-6da2-497e-967e-5430d3d68105"
      },
      "source": [
        "score = best_model.evaluate(X_test, y_test, verbose=0)\n",
        "print('Test Loss:', score[0])\n",
        "print('Test accuracy:', score[1])\n",
        "\n",
        "test_image = X_test[0:1]\n",
        "print (test_image.shape)\n",
        "\n",
        "print(best_model.predict(test_image))\n",
        "print(best_model.predict_classes(test_image))\n",
        "print(y_test[0:1])\n",
        "\n",
        "#predict\n",
        "y_pred = best_model.predict(X_test)"
      ],
      "execution_count": null,
      "outputs": [
        {
          "output_type": "stream",
          "text": [
            "Test Loss: 0.4486284852027893\n",
            "Test accuracy: 0.8426395654678345\n",
            "(1, 48, 48, 3)\n",
            "[[6.5859735e-01 2.7968293e-01 5.3080551e-02 1.4667786e-04 2.2719330e-03\n",
            "  8.6600128e-05 6.1339503e-03]]\n",
            "[0]\n",
            "[[1. 0. 0. 0. 0. 0. 0.]]\n"
          ],
          "name": "stdout"
        },
        {
          "output_type": "stream",
          "text": [
            "/usr/local/lib/python3.7/dist-packages/keras/engine/sequential.py:450: UserWarning: `model.predict_classes()` is deprecated and will be removed after 2021-01-01. Please use instead:* `np.argmax(model.predict(x), axis=-1)`,   if your model does multi-class classification   (e.g. if it uses a `softmax` last-layer activation).* `(model.predict(x) > 0.5).astype(\"int32\")`,   if your model does binary classification   (e.g. if it uses a `sigmoid` last-layer activation).\n",
            "  warnings.warn('`model.predict_classes()` is deprecated and '\n"
          ],
          "name": "stderr"
        }
      ]
    },
    {
      "cell_type": "code",
      "metadata": {
        "colab": {
          "base_uri": "https://localhost:8080/",
          "height": 579
        },
        "id": "Mxjtvk6oTH5x",
        "outputId": "d490742b-bc3b-471f-e52d-9e5074032d82"
      },
      "source": [
        "# visualizing losses and accuracy\n",
        "import matplotlib.pyplot as plt\n",
        "%matplotlib inline\n",
        "\n",
        "train_loss=hist.history['loss']\n",
        "val_loss=hist.history['val_loss']\n",
        "train_acc=hist.history['accuracy']\n",
        "val_acc=hist.history['val_accuracy']\n",
        "\n",
        "epochs = range(len(train_acc))\n",
        "\n",
        "plt.plot(epochs,train_loss,'r', label='train_loss')\n",
        "plt.plot(epochs,val_loss,'b', label='val_loss')\n",
        "plt.title('train_loss vs val_loss')\n",
        "plt.legend()\n",
        "plt.figure()\n",
        "\n",
        "plt.plot(epochs,train_acc,'r', label='train_acc')\n",
        "plt.plot(epochs,val_acc,'b', label='val_acc')\n",
        "plt.title('train_acc vs val_acc')\n",
        "plt.legend()\n",
        "plt.figure()"
      ],
      "execution_count": null,
      "outputs": [
        {
          "output_type": "execute_result",
          "data": {
            "text/plain": [
              "<Figure size 432x288 with 0 Axes>"
            ]
          },
          "metadata": {
            "tags": []
          },
          "execution_count": 48
        },
        {
          "output_type": "display_data",
          "data": {
            "image/png": "[encoded data removed]",
            "text/plain": [
              "<Figure size 432x288 with 1 Axes>"
            ]
          },
          "metadata": {
            "tags": [],
            "needs_background": "light"
          }
        },
        {
          "output_type": "display_data",
          "data": {
            "image/png": "[encoded data removed]",
            "text/plain": [
              "<Figure size 432x288 with 1 Axes>"
            ]
          },
          "metadata": {
            "tags": [],
            "needs_background": "light"
          }
        },
        {
          "output_type": "display_data",
          "data": {
            "text/plain": [
              "<Figure size 432x288 with 0 Axes>"
            ]
          },
          "metadata": {
            "tags": []
          }
        }
      ]
    },
    {
      "cell_type": "code",
      "metadata": {
        "id": "HO7PrKHrWayk"
      },
      "source": [
        "#Model Save\n",
        "best_model.save_weights('/content/drive/MyDrive/Colab/DL/CKPLUS/model_weights.h5')\n",
        "best_model.save('/content/drive/MyDrive/Colab/DL/CKPLUS/model_keras.h5')"
      ],
      "execution_count": null,
      "outputs": []
    },
    {
      "cell_type": "code",
      "metadata": {
        "colab": {
          "base_uri": "https://localhost:8080/"
        },
        "id": "q_6dTN1MWavs",
        "outputId": "38e6f3c8-08f7-40d6-9ff5-e0914a399fc9"
      },
      "source": [
        "from sklearn.metrics import confusion_matrix\n",
        "results = best_model.predict_classes(X_test)\n",
        "cm = confusion_matrix(np.where(y_test == 1)[1], results)\n",
        "#cm = cm.astype(np.float) / cm.sum(axis=1)[:, np.newaxis]"
      ],
      "execution_count": null,
      "outputs": [
        {
          "output_type": "stream",
          "text": [
            "/usr/local/lib/python3.7/dist-packages/keras/engine/sequential.py:450: UserWarning: `model.predict_classes()` is deprecated and will be removed after 2021-01-01. Please use instead:* `np.argmax(model.predict(x), axis=-1)`,   if your model does multi-class classification   (e.g. if it uses a `softmax` last-layer activation).* `(model.predict(x) > 0.5).astype(\"int32\")`,   if your model does binary classification   (e.g. if it uses a `sigmoid` last-layer activation).\n",
            "  warnings.warn('`model.predict_classes()` is deprecated and '\n"
          ],
          "name": "stderr"
        }
      ]
    },
    {
      "cell_type": "code",
      "metadata": {
        "id": "1piC54ScWatC"
      },
      "source": [
        "import seaborn as sns\n",
        "import pandas as pd\n",
        "\n",
        "label_mapdisgust = ['anger','contempt','disgust','fear','happy','sadness','surprise']"
      ],
      "execution_count": null,
      "outputs": []
    },
    {
      "cell_type": "code",
      "metadata": {
        "colab": {
          "base_uri": "https://localhost:8080/",
          "height": 266
        },
        "id": "DK36BX6GWaqb",
        "outputId": "cb0f2465-aec3-48f6-f0f9-491dc13b9535"
      },
      "source": [
        "#Transform to df for easier plotting\n",
        "cm_df = pd.DataFrame(cm, index = label_mapdisgust,\n",
        "                     columns = label_mapdisgust\n",
        "                    )\n",
        "\n",
        "final_cm = cm_df\n",
        "final_cm"
      ],
      "execution_count": null,
      "outputs": [
        {
          "output_type": "execute_result",
          "data": {
            "text/html": [
              "<div>\n",
              "<style scoped>\n",
              "    .dataframe tbody tr th:only-of-type {\n",
              "        vertical-align: middle;\n",
              "    }\n",
              "\n",
              "    .dataframe tbody tr th {\n",
              "        vertical-align: top;\n",
              "    }\n",
              "\n",
              "    .dataframe thead th {\n",
              "        text-align: right;\n",
              "    }\n",
              "</style>\n",
              "<table border=\"1\" class=\"dataframe\">\n",
              "  <thead>\n",
              "    <tr style=\"text-align: right;\">\n",
              "      <th></th>\n",
              "      <th>anger</th>\n",
              "      <th>contempt</th>\n",
              "      <th>disgust</th>\n",
              "      <th>fear</th>\n",
              "      <th>happy</th>\n",
              "      <th>sadness</th>\n",
              "      <th>surprise</th>\n",
              "    </tr>\n",
              "  </thead>\n",
              "  <tbody>\n",
              "    <tr>\n",
              "      <th>anger</th>\n",
              "      <td>24</td>\n",
              "      <td>1</td>\n",
              "      <td>0</td>\n",
              "      <td>0</td>\n",
              "      <td>0</td>\n",
              "      <td>0</td>\n",
              "      <td>0</td>\n",
              "    </tr>\n",
              "    <tr>\n",
              "      <th>contempt</th>\n",
              "      <td>9</td>\n",
              "      <td>0</td>\n",
              "      <td>0</td>\n",
              "      <td>0</td>\n",
              "      <td>0</td>\n",
              "      <td>0</td>\n",
              "      <td>0</td>\n",
              "    </tr>\n",
              "    <tr>\n",
              "      <th>disgust</th>\n",
              "      <td>5</td>\n",
              "      <td>0</td>\n",
              "      <td>35</td>\n",
              "      <td>4</td>\n",
              "      <td>0</td>\n",
              "      <td>0</td>\n",
              "      <td>0</td>\n",
              "    </tr>\n",
              "    <tr>\n",
              "      <th>fear</th>\n",
              "      <td>0</td>\n",
              "      <td>0</td>\n",
              "      <td>2</td>\n",
              "      <td>6</td>\n",
              "      <td>2</td>\n",
              "      <td>0</td>\n",
              "      <td>0</td>\n",
              "    </tr>\n",
              "    <tr>\n",
              "      <th>happy</th>\n",
              "      <td>0</td>\n",
              "      <td>0</td>\n",
              "      <td>0</td>\n",
              "      <td>0</td>\n",
              "      <td>36</td>\n",
              "      <td>0</td>\n",
              "      <td>1</td>\n",
              "    </tr>\n",
              "    <tr>\n",
              "      <th>sadness</th>\n",
              "      <td>0</td>\n",
              "      <td>0</td>\n",
              "      <td>0</td>\n",
              "      <td>0</td>\n",
              "      <td>0</td>\n",
              "      <td>7</td>\n",
              "      <td>4</td>\n",
              "    </tr>\n",
              "    <tr>\n",
              "      <th>surprise</th>\n",
              "      <td>0</td>\n",
              "      <td>0</td>\n",
              "      <td>0</td>\n",
              "      <td>0</td>\n",
              "      <td>1</td>\n",
              "      <td>2</td>\n",
              "      <td>58</td>\n",
              "    </tr>\n",
              "  </tbody>\n",
              "</table>\n",
              "</div>"
            ],
            "text/plain": [
              "          anger  contempt  disgust  fear  happy  sadness  surprise\n",
              "anger        24         1        0     0      0        0         0\n",
              "contempt      9         0        0     0      0        0         0\n",
              "disgust       5         0       35     4      0        0         0\n",
              "fear          0         0        2     6      2        0         0\n",
              "happy         0         0        0     0     36        0         1\n",
              "sadness       0         0        0     0      0        7         4\n",
              "surprise      0         0        0     0      1        2        58"
            ]
          },
          "metadata": {
            "tags": []
          },
          "execution_count": 52
        }
      ]
    },
    {
      "cell_type": "code",
      "metadata": {
        "colab": {
          "base_uri": "https://localhost:8080/",
          "height": 387
        },
        "id": "iccCZd1vWsRZ",
        "outputId": "1a60788c-1575-49e8-f42d-68408fd7797c"
      },
      "source": [
        "plt.figure(figsize = (5,5))\n",
        "sns.heatmap(final_cm, annot = True,cmap='Greys',cbar=False,linewidth=2,fmt='d')\n",
        "plt.title('CNN Emotion Classify')\n",
        "plt.ylabel('True class')\n",
        "plt.xlabel('Prediction class')\n",
        "plt.show()"
      ],
      "execution_count": null,
      "outputs": [
        {
          "output_type": "display_data",
          "data": {
            "image/png": "[encoded data removed]",
            "text/plain": [
              "<Figure size 360x360 with 1 Axes>"
            ]
          },
          "metadata": {
            "tags": [],
            "needs_background": "light"
          }
        }
      ]
    },
    {
      "cell_type": "code",
      "metadata": {
        "id": "Lidm5xINWsMw"
      },
      "source": [
        "from sklearn.metrics import roc_curve,auc\n",
        "from itertools import cycle\n",
        "\n",
        "new_label = ['anger','contempt','disgust','fear','happy','sadness','surprise']\n",
        "final_label = new_label\n",
        "new_class = 7"
      ],
      "execution_count": null,
      "outputs": []
    },
    {
      "cell_type": "code",
      "metadata": {
        "id": "Yv5z8Bw2WsJ7"
      },
      "source": [
        "#ravel flatten the array into single vector\n",
        "y_pred_ravel = y_pred.ravel()\n",
        "lw = 2"
      ],
      "execution_count": null,
      "outputs": []
    },
    {
      "cell_type": "code",
      "metadata": {
        "colab": {
          "base_uri": "https://localhost:8080/",
          "height": 295
        },
        "id": "oUiKlTABW7Th",
        "outputId": "9a35aefe-459c-4ef6-922e-6ffdb09df2a1"
      },
      "source": [
        "fpr = dict()\n",
        "tpr = dict()\n",
        "roc_auc = dict()\n",
        "\n",
        "for i in range(new_class):\n",
        "    fpr[i], tpr[i], _ = roc_curve(y_test[:,i], y_pred[:,i])\n",
        "    roc_auc[i] = auc(fpr[i], tpr[i])\n",
        "    \n",
        "#colors = cycle(['red', 'green','black'])\n",
        "colors = cycle(['red', 'green','black','blue', 'yellow','purple','orange'])\n",
        "for i, color in zip(range(new_class), colors):\n",
        "    plt.plot(fpr[i], tpr[i], color=color, lw=lw,\n",
        "             label='ROC curve of class {0}'''.format(final_label[i]))\n",
        "    \n",
        "\n",
        "plt.plot([0, 1], [0, 1], 'k--', lw=lw)\n",
        "plt.xlim([0, 1.0])\n",
        "plt.ylim([0.0, 1.05])\n",
        "plt.xlabel('False Positive Rate')\n",
        "plt.ylabel('True Positive Rate')\n",
        "plt.title('Receiver Operating Characteristic')\n",
        "plt.legend(loc=\"lower right\")\n",
        "plt.show()\n"
      ],
      "execution_count": null,
      "outputs": [
        {
          "output_type": "display_data",
          "data": {
            "image/png": "[encoded data removed]",
            "text/plain": [
              "<Figure size 432x288 with 1 Axes>"
            ]
          },
          "metadata": {
            "tags": [],
            "needs_background": "light"
          }
        }
      ]
    },
    {
      "cell_type": "code",
      "metadata": {
        "id": "MEGWa8yIcM9B"
      },
      "source": [
        "label = ['anger','contempt','disgust','fear','happy','sadness','surprise']\n",
        "labels = {0 : 'anger', 1 : 'contempt', 2 : 'disgust', 3 : 'fear', 4 : 'happy',5 :'sadness',6 :'surprise'}"
      ],
      "execution_count": null,
      "outputs": []
    },
    {
      "cell_type": "code",
      "metadata": {
        "colab": {
          "base_uri": "https://localhost:8080/",
          "height": 355
        },
        "id": "CcdRg7RLW7Op",
        "outputId": "5fc9300e-3467-401d-a2e9-ac2b4a45627b"
      },
      "source": [
        "import random\n",
        "from glob import glob\n",
        "from keras.applications.resnet50 import preprocess_input\n",
        "from keras.preprocessing import image \n",
        "def choose_image_and_predict():\n",
        "    folder_choice = (random.choice(dir_list))\n",
        "    images = glob(directory + '/'+ folder_choice+'/*')\n",
        "    img_choice = (random.choice(images))\n",
        "    \n",
        "    img = image.load_img(img_choice, target_size=(48, 48))\n",
        "    img = image.img_to_array(img)\n",
        "    plt.imshow(img / 255.)\n",
        "    x = preprocess_input(np.expand_dims(img.copy(), axis=0))\n",
        "    pred_class = best_model.predict_classes(x)\n",
        "    pred = best_model.predict(x)\n",
        "    label=np.argmax(pred,axis=1)[0]   \n",
        "    print(\"Actual class:\", folder_choice)\n",
        "    print(\"Predicted Class:\" , labels[label])\n",
        "        \n",
        "choose_image_and_predict()"
      ],
      "execution_count": null,
      "outputs": [
        {
          "output_type": "stream",
          "text": [
            "/usr/local/lib/python3.7/dist-packages/keras/engine/sequential.py:450: UserWarning: `model.predict_classes()` is deprecated and will be removed after 2021-01-01. Please use instead:* `np.argmax(model.predict(x), axis=-1)`,   if your model does multi-class classification   (e.g. if it uses a `softmax` last-layer activation).* `(model.predict(x) > 0.5).astype(\"int32\")`,   if your model does binary classification   (e.g. if it uses a `sigmoid` last-layer activation).\n",
            "  warnings.warn('`model.predict_classes()` is deprecated and '\n"
          ],
          "name": "stderr"
        },
        {
          "output_type": "stream",
          "text": [
            "Actual class: contempt\n",
            "Predicted Class: happy\n"
          ],
          "name": "stdout"
        },
        {
          "output_type": "display_data",
          "data": {
            "image/png": "[encoded data removed]",
            "text/plain": [
              "<Figure size 432x288 with 1 Axes>"
            ]
          },
          "metadata": {
            "tags": [],
            "needs_background": "light"
          }
        }
      ]
    },
    {
      "cell_type": "code",
      "metadata": {
        "colab": {
          "base_uri": "https://localhost:8080/",
          "height": 355
        },
        "id": "TvdVlsJWW7Lh",
        "outputId": "b60374a4-b2d2-44a0-998e-8e76dad4a136"
      },
      "source": [
        "import random\n",
        "from glob import glob\n",
        "from keras.applications.resnet50 import preprocess_input\n",
        "from keras.preprocessing import image \n",
        "def choose_image_and_predict():\n",
        "    folder_choice = (random.choice(dir_list))\n",
        "    images = glob(directory + '/'+ folder_choice+'/*')\n",
        "    img_choice = (random.choice(images))\n",
        "    \n",
        "    img = image.load_img(img_choice, target_size=(48, 48))\n",
        "    img = image.img_to_array(img)\n",
        "    plt.imshow(img / 255.)\n",
        "    x = preprocess_input(np.expand_dims(img.copy(), axis=0))\n",
        "    pred_class = best_model.predict_classes(x)\n",
        "    pred = best_model.predict(x)\n",
        "    label=np.argmax(pred,axis=1)[0]   \n",
        "    print(\"Actual class:\", folder_choice)\n",
        "    print(\"Predicted Class:\" , labels[label])\n",
        "        \n",
        "choose_image_and_predict()"
      ],
      "execution_count": null,
      "outputs": [
        {
          "output_type": "stream",
          "text": [
            "/usr/local/lib/python3.7/dist-packages/keras/engine/sequential.py:450: UserWarning: `model.predict_classes()` is deprecated and will be removed after 2021-01-01. Please use instead:* `np.argmax(model.predict(x), axis=-1)`,   if your model does multi-class classification   (e.g. if it uses a `softmax` last-layer activation).* `(model.predict(x) > 0.5).astype(\"int32\")`,   if your model does binary classification   (e.g. if it uses a `sigmoid` last-layer activation).\n",
            "  warnings.warn('`model.predict_classes()` is deprecated and '\n"
          ],
          "name": "stderr"
        },
        {
          "output_type": "stream",
          "text": [
            "Actual class: anger\n",
            "Predicted Class: happy\n"
          ],
          "name": "stdout"
        },
        {
          "output_type": "display_data",
          "data": {
            "image/png": "[encoded data removed]",
            "text/plain": [
              "<Figure size 432x288 with 1 Axes>"
            ]
          },
          "metadata": {
            "tags": [],
            "needs_background": "light"
          }
        }
      ]
    },
    {
      "cell_type": "code",
      "metadata": {
        "colab": {
          "base_uri": "https://localhost:8080/",
          "height": 355
        },
        "id": "guoT-9ErcSK5",
        "outputId": "9e52b29c-7955-4ddb-ee05-893e538b2ad9"
      },
      "source": [
        "import random\n",
        "from glob import glob\n",
        "from keras.applications.resnet50 import preprocess_input\n",
        "from keras.preprocessing import image \n",
        "def choose_image_and_predict():\n",
        "    folder_choice = (random.choice(dir_list))\n",
        "    images = glob(directory + '/'+ folder_choice+'/*')\n",
        "    img_choice = (random.choice(images))\n",
        "    \n",
        "    img = image.load_img(img_choice, target_size=(48, 48))\n",
        "    img = image.img_to_array(img)\n",
        "    plt.imshow(img / 255.)\n",
        "    x = preprocess_input(np.expand_dims(img.copy(), axis=0))\n",
        "    pred_class = best_model.predict_classes(x)\n",
        "    pred = best_model.predict(x)\n",
        "    label=np.argmax(pred,axis=1)[0]   \n",
        "    print(\"Actual class:\", folder_choice)\n",
        "    print(\"Predicted Class:\" , labels[label])\n",
        "        \n",
        "choose_image_and_predict()"
      ],
      "execution_count": null,
      "outputs": [
        {
          "output_type": "stream",
          "text": [
            "/usr/local/lib/python3.7/dist-packages/keras/engine/sequential.py:450: UserWarning: `model.predict_classes()` is deprecated and will be removed after 2021-01-01. Please use instead:* `np.argmax(model.predict(x), axis=-1)`,   if your model does multi-class classification   (e.g. if it uses a `softmax` last-layer activation).* `(model.predict(x) > 0.5).astype(\"int32\")`,   if your model does binary classification   (e.g. if it uses a `sigmoid` last-layer activation).\n",
            "  warnings.warn('`model.predict_classes()` is deprecated and '\n"
          ],
          "name": "stderr"
        },
        {
          "output_type": "stream",
          "text": [
            "Actual class: happy\n",
            "Predicted Class: anger\n"
          ],
          "name": "stdout"
        },
        {
          "output_type": "display_data",
          "data": {
            "image/png": "[encoded data removed]",
            "text/plain": [
              "<Figure size 432x288 with 1 Axes>"
            ]
          },
          "metadata": {
            "tags": [],
            "needs_background": "light"
          }
        }
      ]
    },
    {
      "cell_type": "code",
      "metadata": {
        "colab": {
          "base_uri": "https://localhost:8080/",
          "height": 355
        },
        "id": "dFdayIHScT4J",
        "outputId": "f6782e0c-7eff-4c70-db9f-600cacb38388"
      },
      "source": [
        "import random\n",
        "from glob import glob\n",
        "from keras.applications.resnet50 import preprocess_input\n",
        "from keras.preprocessing import image \n",
        "def choose_image_and_predict():\n",
        "    folder_choice = (random.choice(dir_list))\n",
        "    images = glob(directory + '/'+ folder_choice+'/*')\n",
        "    img_choice = (random.choice(images))\n",
        "    \n",
        "    img = image.load_img(img_choice, target_size=(48, 48))\n",
        "    img = image.img_to_array(img)\n",
        "    plt.imshow(img / 255.)\n",
        "    x = preprocess_input(np.expand_dims(img.copy(), axis=0))\n",
        "    pred_class = best_model.predict_classes(x)\n",
        "    pred = best_model.predict(x)\n",
        "    label=np.argmax(pred,axis=1)[0]   \n",
        "    print(\"Actual class:\", folder_choice)\n",
        "    print(\"Predicted Class:\" , labels[label])\n",
        "        \n",
        "choose_image_and_predict()"
      ],
      "execution_count": null,
      "outputs": [
        {
          "output_type": "stream",
          "text": [
            "/usr/local/lib/python3.7/dist-packages/keras/engine/sequential.py:450: UserWarning: `model.predict_classes()` is deprecated and will be removed after 2021-01-01. Please use instead:* `np.argmax(model.predict(x), axis=-1)`,   if your model does multi-class classification   (e.g. if it uses a `softmax` last-layer activation).* `(model.predict(x) > 0.5).astype(\"int32\")`,   if your model does binary classification   (e.g. if it uses a `sigmoid` last-layer activation).\n",
            "  warnings.warn('`model.predict_classes()` is deprecated and '\n"
          ],
          "name": "stderr"
        },
        {
          "output_type": "stream",
          "text": [
            "Actual class: contempt\n",
            "Predicted Class: happy\n"
          ],
          "name": "stdout"
        },
        {
          "output_type": "display_data",
          "data": {
            "image/png": "[encoded data removed]",
            "text/plain": [
              "<Figure size 432x288 with 1 Axes>"
            ]
          },
          "metadata": {
            "tags": [],
            "needs_background": "light"
          }
        }
      ]
    },
    {
      "cell_type": "code",
      "metadata": {
        "colab": {
          "base_uri": "https://localhost:8080/",
          "height": 355
        },
        "id": "pTs5e-T_cV1u",
        "outputId": "12b7b211-bb5f-4f44-a80a-61850c49b2d0"
      },
      "source": [
        "import random\n",
        "from glob import glob\n",
        "from keras.applications.resnet50 import preprocess_input\n",
        "from keras.preprocessing import image \n",
        "def choose_image_and_predict():\n",
        "    folder_choice = (random.choice(dir_list))\n",
        "    images = glob(directory + '/'+ folder_choice+'/*')\n",
        "    img_choice = (random.choice(images))\n",
        "    \n",
        "    img = image.load_img(img_choice, target_size=(48, 48))\n",
        "    img = image.img_to_array(img)\n",
        "    plt.imshow(img / 255.)\n",
        "    x = preprocess_input(np.expand_dims(img.copy(), axis=0))\n",
        "    pred_class = best_model.predict_classes(x)\n",
        "    pred = best_model.predict(x)\n",
        "    label=np.argmax(pred,axis=1)[0]   \n",
        "    print(\"Actual class:\", folder_choice)\n",
        "    print(\"Predicted Class:\" , labels[label])\n",
        "        \n",
        "choose_image_and_predict()"
      ],
      "execution_count": null,
      "outputs": [
        {
          "output_type": "stream",
          "text": [
            "/usr/local/lib/python3.7/dist-packages/keras/engine/sequential.py:450: UserWarning: `model.predict_classes()` is deprecated and will be removed after 2021-01-01. Please use instead:* `np.argmax(model.predict(x), axis=-1)`,   if your model does multi-class classification   (e.g. if it uses a `softmax` last-layer activation).* `(model.predict(x) > 0.5).astype(\"int32\")`,   if your model does binary classification   (e.g. if it uses a `sigmoid` last-layer activation).\n",
            "  warnings.warn('`model.predict_classes()` is deprecated and '\n"
          ],
          "name": "stderr"
        },
        {
          "output_type": "stream",
          "text": [
            "Actual class: contempt\n",
            "Predicted Class: happy\n"
          ],
          "name": "stdout"
        },
        {
          "output_type": "display_data",
          "data": {
            "image/png": "[encoded data removed]",
            "text/plain": [
              "<Figure size 432x288 with 1 Axes>"
            ]
          },
          "metadata": {
            "tags": [],
            "needs_background": "light"
          }
        }
      ]
    },
    {
      "cell_type": "code",
      "metadata": {
        "colab": {
          "base_uri": "https://localhost:8080/",
          "height": 355
        },
        "id": "e3vJgF0fcXuQ",
        "outputId": "cab0c425-faea-4f7c-ee33-9393bdf3cee7"
      },
      "source": [
        "import random\n",
        "from glob import glob\n",
        "from keras.applications.resnet50 import preprocess_input\n",
        "from keras.preprocessing import image \n",
        "def choose_image_and_predict():\n",
        "    folder_choice = (random.choice(dir_list))\n",
        "    images = glob(directory + '/'+ folder_choice+'/*')\n",
        "    img_choice = (random.choice(images))\n",
        "    \n",
        "    img = image.load_img(img_choice, target_size=(48, 48))\n",
        "    img = image.img_to_array(img)\n",
        "    plt.imshow(img / 255.)\n",
        "    x = preprocess_input(np.expand_dims(img.copy(), axis=0))\n",
        "    pred_class = best_model.predict_classes(x)\n",
        "    pred = best_model.predict(x)\n",
        "    label=np.argmax(pred,axis=1)[0]   \n",
        "    print(\"Actual class:\", folder_choice)\n",
        "    print(\"Predicted Class:\" , labels[label])\n",
        "        \n",
        "choose_image_and_predict()"
      ],
      "execution_count": null,
      "outputs": [
        {
          "output_type": "stream",
          "text": [
            "/usr/local/lib/python3.7/dist-packages/keras/engine/sequential.py:450: UserWarning: `model.predict_classes()` is deprecated and will be removed after 2021-01-01. Please use instead:* `np.argmax(model.predict(x), axis=-1)`,   if your model does multi-class classification   (e.g. if it uses a `softmax` last-layer activation).* `(model.predict(x) > 0.5).astype(\"int32\")`,   if your model does binary classification   (e.g. if it uses a `sigmoid` last-layer activation).\n",
            "  warnings.warn('`model.predict_classes()` is deprecated and '\n"
          ],
          "name": "stderr"
        },
        {
          "output_type": "stream",
          "text": [
            "Actual class: sadness\n",
            "Predicted Class: happy\n"
          ],
          "name": "stdout"
        },
        {
          "output_type": "display_data",
          "data": {
            "image/png": "[encoded data removed]",
            "text/plain": [
              "<Figure size 432x288 with 1 Axes>"
            ]
          },
          "metadata": {
            "tags": [],
            "needs_background": "light"
          }
        }
      ]
    }
  ]
}